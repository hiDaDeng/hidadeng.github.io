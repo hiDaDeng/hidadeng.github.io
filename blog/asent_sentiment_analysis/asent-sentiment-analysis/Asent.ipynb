{
 "cells": [
  {
   "cell_type": "markdown",
   "id": "760dad9a",
   "metadata": {},
   "source": [
    "Asent 是一个新的Python情感分析库， 依据情感词典，按照一定的规则，可用于评判词语、句子、文档的情感信息(正、负)。\n",
    "\n",
    "目前情感计算规则有\n",
    "- 否定（即“不高兴”）\n",
    "- 加强词（“非常高兴”）\n",
    "- 对比共轭（即“但是”）\n",
    "- 其他强调标记，如感叹号、大小写和问号。 \n",
    "\n",
    "\n",
    "Asent目前仅支持``英语、丹麦、挪威、瑞典4种语言``。\n",
    "\n",
    "学习课程之前，需要先下载并配置spacy模型 \n",
    "\n",
    "[建议收藏 | nltk和spacy配置方法](https://mp.weixin.qq.com/s?__biz=MzI1MTE2ODg4MA==&mid=2650079297&idx=1&sn=1a28b6f563b94628c3a7e13e94d003bd&chksm=f1f6b15ec68138488a2f11e908e165e79cc62b1799ef32219f9a9970659bf4acc0cffa53412f&token=1023360673&lang=zh_CN#rd)"
   ]
  },
  {
   "cell_type": "code",
   "execution_count": null,
   "id": "51bc5755",
   "metadata": {},
   "outputs": [],
   "source": [
    "!pip3 install spacy==3.2.0\n",
    "!pip3 install asent==0.4.2\n",
    "\n",
    "#链接: https://pan.baidu.com/s/13hFWFjy9uRxzC-9lqrp7SQ 提取码: em8l \n",
    "!pip3 install Desktop/en_core_web_lg-3.2.0-py3-none-any.whl"
   ]
  },
  {
   "cell_type": "markdown",
   "id": "e9368e7f",
   "metadata": {},
   "source": [
    "以下将带您逐步了解情绪是如何计算的。\n",
    "\n",
    "首先，我们需要一个 spaCy 管道，并且我们需要向其中添加 asent 管道。"
   ]
  },
  {
   "cell_type": "code",
   "execution_count": 1,
   "id": "089653c2",
   "metadata": {},
   "outputs": [
    {
     "data": {
      "text/plain": [
       "<asent.component.Asent at 0x7fd6b3243130>"
      ]
     },
     "execution_count": 1,
     "metadata": {},
     "output_type": "execute_result"
    }
   ],
   "source": [
    "import asent\n",
    "import spacy\n",
    "\n",
    "# en_core_web_lg是spacy模型，需要单独下载&配置，本文代码才可使用\n",
    "nlp = spacy.load(\"en_core_web_lg\")\n",
    "\n",
    "# add the rule-based sentiment model\n",
    "nlp.add_pipe(\"asent_en_v1\")"
   ]
  },
  {
   "cell_type": "markdown",
   "id": "00a05a64",
   "metadata": {},
   "source": [
    "<br>\n",
    "\n",
    "## 效价和极性\n",
    "如下所示， token的效价信息来自于人工标注的词典。例如``I am not very happy``中词语``happy``的人类情感评分是2.7。\n",
    "\n",
    "![](img/token_polarity.png)\n",
    "\n",
    "\n",
    "首先我们查看每个词语对应的效价。"
   ]
  },
  {
   "cell_type": "code",
   "execution_count": 8,
   "id": "7268f6fa",
   "metadata": {},
   "outputs": [
    {
     "name": "stdout",
     "output_type": "stream",
     "text": [
      "I \t 0.0\n",
      "am \t 0.0\n",
      "not \t 0.0\n",
      "very \t 0.0\n",
      "happy \t 2.7\n",
      ". \t 0.0\n"
     ]
    }
   ],
   "source": [
    "doc = nlp(\"I am not very happy.\")\n",
    "\n",
    "for token in doc:\n",
    "    print(token, \"\\t\", token._.valence)"
   ]
  },
  {
   "cell_type": "markdown",
   "id": "009ff16a",
   "metadata": {},
   "source": [
    "在该语境中， ``happy``前面有否定词not修饰，所以情感极性方面应该被看做消极的。一般否定词和副词可以将形容词的情感进行反转和放大(缩小)。"
   ]
  },
  {
   "cell_type": "code",
   "execution_count": 3,
   "id": "3af9a5ec",
   "metadata": {},
   "outputs": [
    {
     "name": "stdout",
     "output_type": "stream",
     "text": [
      "polarity=0.0 token=I span=I\n",
      "polarity=0.0 token=am span=am\n",
      "polarity=0.0 token=not span=not\n",
      "polarity=0.0 token=very span=very\n",
      "polarity=-2.215 token=happy span=not very happy\n",
      "polarity=0.0 token=. span=.\n"
     ]
    }
   ],
   "source": [
    "for token in doc:\n",
    "    print(token._.polarity)"
   ]
  },
  {
   "cell_type": "markdown",
   "id": "ef140a9b",
   "metadata": {},
   "source": [
    "注意到， 词语在``happy``拥有-2.215的极性分，该分是由``not very happy``确定的。\n",
    "\n",
    "<br>\n",
    "\n",
    "## 可视化\n",
    "asent拥有多种情感极性可视化的方法"
   ]
  },
  {
   "cell_type": "code",
   "execution_count": 18,
   "id": "be3842c2",
   "metadata": {},
   "outputs": [
    {
     "data": {
      "text/html": [
       "<span class=\"tex2jax_ignore\"><div class=\"entities\" style=\"line-height: 2.5; direction: ltr\">I am \n",
       "<mark class=\"entity\" style=\"background: #fba15b; padding: 0.45em 0.6em; margin: 0 0.25em; line-height: 1; border-radius: 0.35em;\">\n",
       "    not very happy\n",
       "    <span style=\"font-size: 0.8em; font-weight: bold; line-height: 1; border-radius: 0.35em; vertical-align: middle; margin-left: 0.5rem\">-2.2</span>\n",
       "</mark>\n",
       ".</div></span>"
      ],
      "text/plain": [
       "<IPython.core.display.HTML object>"
      ]
     },
     "metadata": {},
     "output_type": "display_data"
    }
   ],
   "source": [
    "asent.visualize(doc, style=\"prediction\")"
   ]
  },
  {
   "cell_type": "code",
   "execution_count": 5,
   "id": "6d6b0d97",
   "metadata": {},
   "outputs": [
    {
     "data": {
      "text/html": [
       "<span class=\"tex2jax_ignore\"><svg xmlns=\"http://www.w3.org/2000/svg\" xmlns:xlink=\"http://www.w3.org/1999/xlink\" xml:lang=\"en\" id=\"3b3e5e4c4cf748899e0b7c0eee73276a-0\" class=\"displacy\" width=\"1100\" height=\"312.0\" direction=\"ltr\" style=\"max-width: none; height: 312.0px; color: #000000; background: #ffffff; font-family: Arial; direction: ltr\">\n",
       "<text class=\"displacy-token\" fill=\"currentColor\" text-anchor=\"middle\" y=\"222.0\">\n",
       "    <tspan class=\"displacy-word\" fill=\"currentColor\" x=\"50\">I</tspan>\n",
       "    <tspan class=\"displacy-tag\" dy=\"2em\" fill=\"currentColor\" x=\"50\">0.0</tspan>\n",
       "</text>\n",
       "\n",
       "<text class=\"displacy-token\" fill=\"currentColor\" text-anchor=\"middle\" y=\"222.0\">\n",
       "    <tspan class=\"displacy-word\" fill=\"currentColor\" x=\"225\">am</tspan>\n",
       "    <tspan class=\"displacy-tag\" dy=\"2em\" fill=\"currentColor\" x=\"225\">0.0</tspan>\n",
       "</text>\n",
       "\n",
       "<text class=\"displacy-token\" fill=\"currentColor\" text-anchor=\"middle\" y=\"222.0\">\n",
       "    <tspan class=\"displacy-word\" fill=\"currentColor\" x=\"400\">not</tspan>\n",
       "    <tspan class=\"displacy-tag\" dy=\"2em\" fill=\"currentColor\" x=\"400\">0.0</tspan>\n",
       "</text>\n",
       "\n",
       "<text class=\"displacy-token\" fill=\"currentColor\" text-anchor=\"middle\" y=\"222.0\">\n",
       "    <tspan class=\"displacy-word\" fill=\"currentColor\" x=\"575\">very</tspan>\n",
       "    <tspan class=\"displacy-tag\" dy=\"2em\" fill=\"currentColor\" x=\"575\">0.0</tspan>\n",
       "</text>\n",
       "\n",
       "<text class=\"displacy-token\" fill=\"currentColor\" text-anchor=\"middle\" y=\"222.0\">\n",
       "    <tspan class=\"displacy-word\" fill=\"currentColor\" x=\"750\">happy</tspan>\n",
       "    <tspan class=\"displacy-tag\" dy=\"2em\" fill=\"currentColor\" x=\"750\">-2.2 (2.7)</tspan>\n",
       "</text>\n",
       "\n",
       "<text class=\"displacy-token\" fill=\"currentColor\" text-anchor=\"middle\" y=\"222.0\">\n",
       "    <tspan class=\"displacy-word\" fill=\"currentColor\" x=\"925\">.</tspan>\n",
       "    <tspan class=\"displacy-tag\" dy=\"2em\" fill=\"currentColor\" x=\"925\">0.0</tspan>\n",
       "</text>\n",
       "\n",
       "<g class=\"displacy-arrow\">\n",
       "    <path class=\"displacy-arc\" id=\"arrow-3b3e5e4c4cf748899e0b7c0eee73276a-0-0\" stroke-width=\"2px\" d=\"M595,177.0 C595,89.5 745.0,89.5 745.0,177.0\" fill=\"none\" stroke=\"currentColor\"/>\n",
       "    <text dy=\"1.25em\" style=\"font-size: 0.8em; letter-spacing: 1px\">\n",
       "        <textPath xlink:href=\"#arrow-3b3e5e4c4cf748899e0b7c0eee73276a-0-0\" class=\"displacy-label\" startOffset=\"50%\" side=\"left\" fill=\"currentColor\" text-anchor=\"middle\">intensified by</textPath>\n",
       "    </text>\n",
       "    <path class=\"displacy-arrowhead\" d=\"M595,179.0 L587,167.0 603,167.0\" fill=\"currentColor\"/>\n",
       "</g>\n",
       "\n",
       "<g class=\"displacy-arrow\">\n",
       "    <path class=\"displacy-arc\" id=\"arrow-3b3e5e4c4cf748899e0b7c0eee73276a-0-1\" stroke-width=\"2px\" d=\"M420,177.0 C420,2.0 750.0,2.0 750.0,177.0\" fill=\"none\" stroke=\"currentColor\"/>\n",
       "    <text dy=\"1.25em\" style=\"font-size: 0.8em; letter-spacing: 1px\">\n",
       "        <textPath xlink:href=\"#arrow-3b3e5e4c4cf748899e0b7c0eee73276a-0-1\" class=\"displacy-label\" startOffset=\"50%\" side=\"left\" fill=\"currentColor\" text-anchor=\"middle\">negated by</textPath>\n",
       "    </text>\n",
       "    <path class=\"displacy-arrowhead\" d=\"M420,179.0 L412,167.0 428,167.0\" fill=\"currentColor\"/>\n",
       "</g>\n",
       "</svg></span>"
      ],
      "text/plain": [
       "<IPython.core.display.HTML object>"
      ]
     },
     "metadata": {},
     "output_type": "display_data"
    }
   ],
   "source": [
    "asent.visualize(doc, style=\"analysis\")"
   ]
  },
  {
   "cell_type": "code",
   "execution_count": 6,
   "id": "519b2e76",
   "metadata": {},
   "outputs": [
    {
     "name": "stdout",
     "output_type": "stream",
     "text": [
      "neg=0.391 neu=0.609 pos=0.0 compound=-0.4964 span=I am not very happy.\n"
     ]
    }
   ],
   "source": [
    "for sentence in doc.sents:\n",
    "    print(sentence._.polarity)"
   ]
  },
  {
   "cell_type": "code",
   "execution_count": 14,
   "id": "2c244165",
   "metadata": {},
   "outputs": [
    {
     "data": {
      "text/plain": [
       "DocPolarityOutput(neg=0.391, neu=0.609, pos=0.0, compound=-0.4964)"
      ]
     },
     "execution_count": 14,
     "metadata": {},
     "output_type": "execute_result"
    }
   ],
   "source": [
    "doc._.polarity"
   ]
  },
  {
   "cell_type": "code",
   "execution_count": 17,
   "id": "fd5a4c20",
   "metadata": {},
   "outputs": [
    {
     "name": "stdout",
     "output_type": "stream",
     "text": [
      "doc2情感极性信息:  neg=0.13 neu=0.536 pos=0.333 compound=0.2794\n",
      "\n",
      "doc2情感得分: 0.279353567721562\n"
     ]
    }
   ],
   "source": [
    "doc2 = nlp(\"I am not very happy.I am very very happy.It is awesome!!\")\n",
    "\n",
    "print('doc2情感极性信息: ', doc2._.polarity)\n",
    "print()\n",
    "print('doc2情感得分:', doc2._.polarity.compound)"
   ]
  },
  {
   "cell_type": "code",
   "execution_count": 18,
   "id": "fa33b673",
   "metadata": {},
   "outputs": [
    {
     "name": "stdout",
     "output_type": "stream",
     "text": [
      "neg=0.391 neu=0.609 pos=0.0 compound=-0.4964 span=I am not very happy.\n",
      "neg=0.0 neu=0.539 pos=0.461 compound=0.6453 span=I am very very happy.\n",
      "neg=0.0 neu=0.461 pos=0.539 compound=0.6892 span=It is awesome!!\n"
     ]
    }
   ],
   "source": [
    "#每个句子的情感极性信息\n",
    "for sentence in doc2.sents:\n",
    "    print(sentence._.polarity)"
   ]
  },
  {
   "cell_type": "code",
   "execution_count": 11,
   "id": "dcc64dd0",
   "metadata": {},
   "outputs": [
    {
     "name": "stdout",
     "output_type": "stream",
     "text": [
      "-0.4964238981617178\n",
      "0.6452764659402158\n",
      "0.689208135386188\n"
     ]
    }
   ],
   "source": [
    "#每个句子的情感得分\n",
    "for sentence in doc2.sents:\n",
    "    print(sentence._.polarity.compound)"
   ]
  }
 ],
 "metadata": {
  "kernelspec": {
   "display_name": "Python 3",
   "language": "python",
   "name": "python3"
  },
  "language_info": {
   "codemirror_mode": {
    "name": "ipython",
    "version": 3
   },
   "file_extension": ".py",
   "mimetype": "text/x-python",
   "name": "python",
   "nbconvert_exporter": "python",
   "pygments_lexer": "ipython3",
   "version": "3.9.7"
  },
  "toc": {
   "base_numbering": 1,
   "nav_menu": {},
   "number_sections": false,
   "sideBar": true,
   "skip_h1_title": false,
   "title_cell": "Table of Contents",
   "title_sidebar": "Contents",
   "toc_cell": false,
   "toc_position": {},
   "toc_section_display": true,
   "toc_window_display": false
  }
 },
 "nbformat": 4,
 "nbformat_minor": 5
}
