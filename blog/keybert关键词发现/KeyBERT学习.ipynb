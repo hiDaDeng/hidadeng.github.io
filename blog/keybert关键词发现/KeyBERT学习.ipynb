{
 "cells": [
  {
   "cell_type": "markdown",
   "metadata": {},
   "source": [
    "尽管已经有很多方法可用于关键字生成（例如，Rake、YAKE!、TF-IDF 等），但我想创建一个非常基本但功能强大的方法来提取关键字和关键短语。这就是 KeyBERT 的用武之地！它使用 **BERT 嵌入** 和 **简单余弦相似度** 来查找文档中与文档本身最相似的短语。\n",
    "\n",
    "KeyBERT步骤\n",
    "1. 首先使用 BERT 提取文档嵌入以获得**文档级向量表示**。\n",
    "2. 随后，为 N-gram 词/短语提取**词向量**。\n",
    "3. 然后，我们使用余弦相似度来找到与文档最相似的单词/短语。\n",
    "4. 最后可以将最相似的词识别为最能描述整个文档的词。\n",
    "\n",
    "## 安装"
   ]
  },
  {
   "cell_type": "code",
   "execution_count": null,
   "metadata": {},
   "outputs": [],
   "source": [
    "!pip3 install keybert"
   ]
  },
  {
   "cell_type": "markdown",
   "metadata": {},
   "source": [
    "## 初始化模型\n",
    "\n",
    "KeyBERT库需要安装配置spacy语言模型\n",
    "\n",
    "具体可参考 \n",
    "\n",
    "\n",
    "初始化模型"
   ]
  },
  {
   "cell_type": "code",
   "execution_count": 11,
   "metadata": {
    "scrolled": true
   },
   "outputs": [],
   "source": [
    "from keybert import KeyBERT\n",
    "import spacy\n",
    "import jieba\n",
    "\n",
    "\n",
    "zh_model = spacy.load(\"zh_core_web_sm\")\n",
    "bertModel = KeyBERT(model=zh_model)"
   ]
  },
  {
   "cell_type": "markdown",
   "metadata": {},
   "source": [
    "## 准备数据\n",
    "中文测试数据需要先分词，而后构造成类英文的语言结构(用空格间隔的文本)"
   ]
  },
  {
   "cell_type": "code",
   "execution_count": 14,
   "metadata": {},
   "outputs": [
    {
     "data": {
      "text/plain": [
       "[('铁骨', 0.5028),\n",
       " ('纪念日', 0.495),\n",
       " ('丹心', 0.4894),\n",
       " ('战役', 0.4869),\n",
       " ('影史', 0.473),\n",
       " ('父亲', 0.4576),\n",
       " ('票房', 0.4571),\n",
       " ('偶像', 0.4497),\n",
       " ('精神', 0.4436),\n",
       " ('家国', 0.4373)]"
      ]
     },
     "execution_count": 14,
     "metadata": {},
     "output_type": "execute_result"
    }
   ],
   "source": [
    "# 测试数据\n",
    "doc =  \"\"\"时值10月25日抗美援朝纪念日，《长津湖》片方发布了“纪念中国人民志愿军抗美援朝出国作战71周年特别短片”，再次向伟大的志愿军致敬！\n",
    "　　电影《长津湖》全情全景地还原了71年前抗美援朝战场上那场史诗战役，志愿军奋不顾身的英勇精神令观众感叹：“岁月峥嵘英雄不灭，丹心铁骨军魂永存！”影片上映以来票房屡创新高，目前突破53亿元，暂列中国影史票房总榜第三名。\n",
    "　　值得一提的是，这部影片的很多主创或有军人的血脉，或有当兵的经历，或者家人是军人。提起这些他们也充满自豪，影片总监制黄建新称：“当兵以后会有一种特别能坚持的劲儿。”饰演雷公的胡军透露：“我父亲曾经参加过抗美援朝，还得了一个三等功。”影片历史顾问王树增表示：“我当了五十多年的兵，我的老部队就是上甘岭上下来的，那些老兵都是我的偶像。”\n",
    "　　“身先士卒卫华夏家国，血战无畏护山河无恙。”片中饰演七连连长伍千里的吴京感叹：“要永远记住这些先烈们，他们给我们带来今天的和平。感谢他们的付出，才让我们有今天的幸福生活。”饰演新兵伍万里的易烊千玺表示：“战争的残酷、碾压式的伤害，其实我们现在的年轻人几乎很难能体会到，希望大家看完电影后能明白，是那些先辈们的牺牲奉献，换来了我们的现在。”\n",
    "　　影片对战争群像的恢弘呈现，对个体命运的深切关怀，令许多观众无法控制自己的眼泪，观众称：“当看到影片中的惊险战斗场面，看到英雄们壮怀激烈的拼杀，为国捐躯的英勇无畏和无悔付出，我明白了为什么说今天的幸福生活来之不易。”（记者 王金跃）\n",
    "        \"\"\"\n",
    "\n",
    "\n",
    "doc = ' '.join(jieba.lcut(doc))\n",
    "\n",
    "\n",
    "# 关键词提取\n",
    "keywords = bertModel.extract_keywords(doc, \n",
    "                                      keyphrase_ngram_range=(1, 1),\n",
    "                                      stop_words=None,\n",
    "                                      top_n=10)\n",
    "keywords"
   ]
  },
  {
   "cell_type": "markdown",
   "metadata": {},
   "source": [
    "## 常用extract_keywords参数\n",
    "**bertModel.extract_keywords(docs, keyphrase_ngram_range, stop_words, top_n)**\n",
    "- **docs** 文档字符串（空格间隔词语的字符串）\n",
    "- **keyphrase_ngram_range** 设置ngram，默认(1, 1)\n",
    "- **stop_words** 停用词列表\n",
    "- **top_n** 显示前n个关键词，默认5\n",
    "- **highlight** 可视化标亮关键词，默认False\n",
    "- use_maxsum: 默认False;是否使用Max Sum Similarity作为关键词提取标准，\n",
    "- use_mmr: 默认False;是否使用Maximal Marginal Relevance (MMR) 作为关键词提取标准\n",
    "- diversity 如果use_mmr=True，可以设置该参数。参数取值范围从0到1\n",
    "\n",
    "\n",
    "\n",
    "对于**keyphrase_ngram_range**参数， \n",
    "- (1, 1) 只单个词， 如\"抗美援朝\", \"纪念日\"是孤立的两个词\n",
    "- (2, 2) 考虑词组， 如出现有意义的词组 \"抗美援朝 纪念日\"\n",
    "- (1, 2) 同时考虑以上两者情况"
   ]
  },
  {
   "cell_type": "code",
   "execution_count": 19,
   "metadata": {},
   "outputs": [
    {
     "data": {
      "text/plain": [
       "[('影片 总监制', 0.5412),\n",
       " ('丹心 铁骨', 0.5339),\n",
       " ('抗美援朝 纪念日', 0.5295),\n",
       " ('长津湖 片方', 0.5252),\n",
       " ('志愿军 致敬', 0.5207),\n",
       " ('老兵 偶像', 0.5192),\n",
       " ('票房 创新', 0.5108),\n",
       " ('军人 血脉', 0.5084),\n",
       " ('家国 血战', 0.4946),\n",
       " ('家人 军人', 0.4885)]"
      ]
     },
     "execution_count": 19,
     "metadata": {},
     "output_type": "execute_result"
    }
   ],
   "source": [
    "# 关键词提取\n",
    "keywords = bertModel.extract_keywords(doc, \n",
    "                                      keyphrase_ngram_range=(2, 2),\n",
    "                                      stop_words=None,\n",
    "                                      diversity=0.7, \n",
    "                                      top_n=10)\n",
    "keywords"
   ]
  },
  {
   "cell_type": "code",
   "execution_count": 22,
   "metadata": {},
   "outputs": [
    {
     "data": {
      "text/html": [
       "<pre style=\"white-space:pre;overflow-x:auto;line-height:normal;font-family:Menlo,'DejaVu Sans Mono',consolas,'Courier New',monospace\">时值 10 月 25 日 <span style=\"color: #000000; text-decoration-color: #000000; background-color: #ffff00\">抗美援朝 纪念日</span> 《 长津湖 》 片方 发布 了 “ 纪念 中国人民志愿军 抗美援朝 \n",
       "出国 作战 71 周年 特别 短片 ” ， 再次 向 伟大 的 <span style=\"color: #000000; text-decoration-color: #000000; background-color: #ffff00\">志愿军 致敬</span> 　 　 电影 《 长津湖 》 全情 \n",
       "全景 地 还原 了 71 年前 抗美援朝 战场 上 那场 史诗 战役 ， 志愿军 奋不顾身 的 英勇 精神 令 \n",
       "观众 感叹 ： “ 岁月峥嵘 英雄 不 灭 ， <span style=\"color: #000000; text-decoration-color: #000000; background-color: #ffff00\">丹心 铁骨</span> 永存 ！ ” 影片 上映 以来 票房 屡 创新 高 ， \n",
       "目前 突破 53 亿元 ， 暂列 中国 影史 票房 总榜 第三名 。 　 　 值得一提的是 ， 这部 影片 的 \n",
       "很多 主创 或 有 军人 的 血脉 ， 或 有 当兵 的 经历 ， 或者 家人 是 军人 。 提起 这些 他们 也 \n",
       "充满 自豪 ， <span style=\"color: #000000; text-decoration-color: #000000; background-color: #ffff00\">影片 总监制</span> 建新 称 ： “ 当兵 以后 会 有 一种 特别 能 坚持 的 劲儿 。 ” 饰演 \n",
       "雷公 的 胡军 透露 ： “ 我 父亲 曾经 参加 过 抗美援朝 ， 还 得 了 一个 三等功 。 ” 影片 历史 \n",
       "顾问 王树增 表示 ： “ 我 当 了 五十多年 的 兵 ， 我 的 老 部队 就是 上甘岭 上 下来 的 ， 那些\n",
       "老兵 都 是 我 的 偶像 。 ” 　 　 “ 身先士卒 卫 华夏 家国 ， 血战 无畏 护 山河 无恙 。 ” 片中 \n",
       "饰演 七 连连 长伍 千里 的 吴京 感叹 ： “ 要 永远 记住 这些 先烈 们 ， 他们 给 我们 带来 今天 \n",
       "的 和平 。 感谢 他们 的 付出 ， 才 让 我们 有 今天 的 幸福生活 。 ” 饰演 新兵 伍 万里 的 易 \n",
       "烊 千玺 表示 ： “ 战争 的 残酷 、 碾压 式 的 伤害 ， 其实 我们 现在 的 年轻人 几乎 很 难能 \n",
       "体会 到 ， 希望 大家 看 完 电影 后能 明白 ， 是 那些 先辈 们 的 牺牲 奉献 ， 换来 了 我们 的 \n",
       "现在 。 ” 　 　 影片 对 战争 群像 的 恢弘 呈现 ， 对 个体 命运 的 深切关怀 ， 令 许多 观众 \n",
       "无法控制 自己 的 眼泪 ， 观众 称 ： “ 当 看到 影片 中 的 惊险 战斗 场面 ， 看到 英雄 们 \n",
       "壮怀激烈 的 拼杀 ， 为国捐躯 的 英勇无畏 和 无悔 付出 ， 我 明白 了 为什么 说 今天 的 \n",
       "幸福生活 来之不易 。 ” （ 记者 王金跃 ）\n",
       "</pre>\n"
      ],
      "text/plain": [
       "时值 10 月 25 日 \u001b[30;48;2;255;255;0m抗美援朝 纪念日\u001b[0m 《 长津湖 》 片方 发布 了 “ 纪念 中国人民志愿军 抗美援朝 \n",
       "出国 作战 71 周年 特别 短片 ” ， 再次 向 伟大 的 \u001b[30;48;2;255;255;0m志愿军 致敬\u001b[0m 　 　 电影 《 长津湖 》 全情 \n",
       "全景 地 还原 了 71 年前 抗美援朝 战场 上 那场 史诗 战役 ， 志愿军 奋不顾身 的 英勇 精神 令 \n",
       "观众 感叹 ： “ 岁月峥嵘 英雄 不 灭 ， \u001b[30;48;2;255;255;0m丹心 铁骨\u001b[0m 永存 ！ ” 影片 上映 以来 票房 屡 创新 高 ， \n",
       "目前 突破 53 亿元 ， 暂列 中国 影史 票房 总榜 第三名 。 　 　 值得一提的是 ， 这部 影片 的 \n",
       "很多 主创 或 有 军人 的 血脉 ， 或 有 当兵 的 经历 ， 或者 家人 是 军人 。 提起 这些 他们 也 \n",
       "充满 自豪 ， \u001b[30;48;2;255;255;0m影片 总监制\u001b[0m 建新 称 ： “ 当兵 以后 会 有 一种 特别 能 坚持 的 劲儿 。 ” 饰演 \n",
       "雷公 的 胡军 透露 ： “ 我 父亲 曾经 参加 过 抗美援朝 ， 还 得 了 一个 三等功 。 ” 影片 历史 \n",
       "顾问 王树增 表示 ： “ 我 当 了 五十多年 的 兵 ， 我 的 老 部队 就是 上甘岭 上 下来 的 ， 那些\n",
       "老兵 都 是 我 的 偶像 。 ” 　 　 “ 身先士卒 卫 华夏 家国 ， 血战 无畏 护 山河 无恙 。 ” 片中 \n",
       "饰演 七 连连 长伍 千里 的 吴京 感叹 ： “ 要 永远 记住 这些 先烈 们 ， 他们 给 我们 带来 今天 \n",
       "的 和平 。 感谢 他们 的 付出 ， 才 让 我们 有 今天 的 幸福生活 。 ” 饰演 新兵 伍 万里 的 易 \n",
       "烊 千玺 表示 ： “ 战争 的 残酷 、 碾压 式 的 伤害 ， 其实 我们 现在 的 年轻人 几乎 很 难能 \n",
       "体会 到 ， 希望 大家 看 完 电影 后能 明白 ， 是 那些 先辈 们 的 牺牲 奉献 ， 换来 了 我们 的 \n",
       "现在 。 ” 　 　 影片 对 战争 群像 的 恢弘 呈现 ， 对 个体 命运 的 深切关怀 ， 令 许多 观众 \n",
       "无法控制 自己 的 眼泪 ， 观众 称 ： “ 当 看到 影片 中 的 惊险 战斗 场面 ， 看到 英雄 们 \n",
       "壮怀激烈 的 拼杀 ， 为国捐躯 的 英勇无畏 和 无悔 付出 ， 我 明白 了 为什么 说 今天 的 \n",
       "幸福生活 来之不易 。 ” （ 记者 王金跃 ）\n"
      ]
     },
     "metadata": {},
     "output_type": "display_data"
    }
   ],
   "source": [
    "#可视化\n",
    "keywords = bertModel.extract_keywords(doc, \n",
    "                                      keyphrase_ngram_range=(2, 2),\n",
    "                                      stop_words=None,\n",
    "                                      highlight=True,\n",
    "                                      top_n=10)"
   ]
  },
  {
   "cell_type": "code",
   "execution_count": 27,
   "metadata": {},
   "outputs": [
    {
     "data": {
      "text/plain": [
       "[('影片 总监制', 0.5412),\n",
       " ('长津湖 片方', 0.5252),\n",
       " ('抗美援朝 纪念日', 0.5295),\n",
       " ('丹心 铁骨', 0.5339),\n",
       " ('志愿军 致敬', 0.5207),\n",
       " ('老兵 偶像', 0.5192),\n",
       " ('票房 创新', 0.5108),\n",
       " ('军人 血脉', 0.5084),\n",
       " ('家国 血战', 0.4946),\n",
       " ('家人 军人', 0.4885)]"
      ]
     },
     "execution_count": 27,
     "metadata": {},
     "output_type": "execute_result"
    }
   ],
   "source": [
    "# 关键词提取\n",
    "keywords = bertModel.extract_keywords(doc, \n",
    "                                      keyphrase_ngram_range=(2, 2),\n",
    "                                      stop_words=None,\n",
    "                                      use_mmr=True, diversity=0.05, \n",
    "                                      top_n=10)\n",
    "\n",
    "keywords"
   ]
  },
  {
   "cell_type": "markdown",
   "metadata": {},
   "source": [
    "## 英文KeyBERT\n",
    "同样需要配置spacy，参考 **公众号：大邓和他的Python**  2021-10-29 的推文 查看spacy配置方法"
   ]
  },
  {
   "cell_type": "code",
   "execution_count": 32,
   "metadata": {},
   "outputs": [
    {
     "name": "stderr",
     "output_type": "stream",
     "text": [
      "/Library/Frameworks/Python.framework/Versions/3.7/lib/python3.7/site-packages/spacy/util.py:758: UserWarning: [W095] Model 'en_core_web_sm' (3.0.0) was trained with spaCy v3.0 and may not be 100% compatible with the current version (3.1.3). If you see errors or degraded performance, download a newer compatible model or retrain your custom model with the current spaCy version. For more details and available updates, run: python -m spacy validate\n",
      "  warnings.warn(warn_msg)\n"
     ]
    },
    {
     "data": {
      "text/plain": [
       "[('supervised learning', 0.6779),\n",
       " ('supervised', 0.6676),\n",
       " ('signal supervised', 0.6152),\n",
       " ('examples supervised', 0.6112),\n",
       " ('labeled training', 0.6013)]"
      ]
     },
     "execution_count": 32,
     "metadata": {},
     "output_type": "execute_result"
    }
   ],
   "source": [
    "from keybert import KeyBERT\n",
    "import spacy\n",
    "\n",
    "en_model = spacy.load(\"en_core_web_sm\")\n",
    "\n",
    "doc = \"\"\"\n",
    "         Supervised learning is the machine learning task of learning a function that\n",
    "         maps an input to an output based on example input-output pairs. It infers a\n",
    "         function from labeled training data consisting of a set of training examples.\n",
    "         In supervised learning, each example is a pair consisting of an input object\n",
    "         (typically a vector) and a desired output value (also called the supervisory signal). \n",
    "         A supervised learning algorithm analyzes the training data and produces an inferred function, \n",
    "         which can be used for mapping new examples. An optimal scenario will allow for the \n",
    "         algorithm to correctly determine the class labels for unseen instances. This requires \n",
    "         the learning algorithm to generalize from the training data to unseen situations in a \n",
    "         'reasonable' way (see inductive bias).\n",
    "      \"\"\"\n",
    "kw_model = KeyBERT()\n",
    "keywords = kw_model.extract_keywords(doc, keyphrase_ngram_range=(1, 2))\n",
    "keywords"
   ]
  }
 ],
 "metadata": {
  "kernelspec": {
   "display_name": "Python 3",
   "language": "python",
   "name": "python3"
  },
  "language_info": {
   "codemirror_mode": {
    "name": "ipython",
    "version": 3
   },
   "file_extension": ".py",
   "mimetype": "text/x-python",
   "name": "python",
   "nbconvert_exporter": "python",
   "pygments_lexer": "ipython3",
   "version": "3.7.5"
  },
  "toc": {
   "base_numbering": 1,
   "nav_menu": {},
   "number_sections": false,
   "sideBar": true,
   "skip_h1_title": false,
   "title_cell": "Table of Contents",
   "title_sidebar": "Contents",
   "toc_cell": false,
   "toc_position": {},
   "toc_section_display": true,
   "toc_window_display": false
  }
 },
 "nbformat": 4,
 "nbformat_minor": 4
}
