{
 "cells": [
  {
   "cell_type": "markdown",
   "id": "924e079c",
   "metadata": {},
   "source": [
    "## 整理到csv中\n",
    "\n",
    "将70G定期报告披露数据集下载\n",
    "\n",
    "![](img/sh_marketing.png)"
   ]
  },
  {
   "cell_type": "code",
   "execution_count": null,
   "id": "bc6d0969",
   "metadata": {
    "scrolled": true
   },
   "outputs": [],
   "source": [
    "import os\n",
    "import pdfdocx\n",
    "import warnings\n",
    "warnings.filterwarnings('ignore')\n",
    "import pandas as pd\n",
    "import re\n",
    "\n",
    "def clean(text):\n",
    "    return re.sub('\\s', ' ', text)\n",
    "\n",
    "#文件夹列表\n",
    "dirs = [d for d in os.listdir('reports') if 'DS' not in d]\n",
    "for di in dirs:\n",
    "    datas = []\n",
    "    files = [f for f in os.listdir('reports/{d}'.format(d=di)) if 'z' in f]\n",
    "    for file in files:\n",
    "        try:\n",
    "            file = 'reports/{di}/{f}'.format(di=di, f=file)\n",
    "            code = file.split('/')[-1].split('_')[0]\n",
    "            year = re.findall('_(\\d{4})_', file.split('/')[-1])[0]\n",
    "            text = clean(pdfdocx.read_pdf(file))\n",
    "            data = {'code': code, 'text': text, 'year':year}\n",
    "            datas.append(data)\n",
    "        except:\n",
    "            pass\n",
    "    df = pd.DataFrame(datas, columns=['code', 'year', 'text'])\n",
    "    #将每家公司的年报导出到csv中\n",
    "    df.to_csv('data.csv', index=False, mode='a+', encoding='utf-8')\n",
    "    \n",
    "    \n",
    "#读取\n",
    "ndf = pd.read_csv('data.csv')\n",
    "#去重\n",
    "ndf.drop_duplicates(inplace=True)\n",
    "#清洗\n",
    "ndf = ndf[ndf.code=!='code']\n",
    "#导出到xlsx\n",
    "ndf.to_excel('data.xlsx', index=False)"
   ]
  },
  {
   "cell_type": "markdown",
   "id": "4307f00e",
   "metadata": {},
   "source": [
    "<br>\n",
    "\n",
    "## 导入数据"
   ]
  },
  {
   "cell_type": "code",
   "execution_count": 53,
   "id": "8af5b8c8",
   "metadata": {},
   "outputs": [
    {
     "data": {
      "text/html": [
       "<div>\n",
       "<style scoped>\n",
       "    .dataframe tbody tr th:only-of-type {\n",
       "        vertical-align: middle;\n",
       "    }\n",
       "\n",
       "    .dataframe tbody tr th {\n",
       "        vertical-align: top;\n",
       "    }\n",
       "\n",
       "    .dataframe thead th {\n",
       "        text-align: right;\n",
       "    }\n",
       "</style>\n",
       "<table border=\"1\" class=\"dataframe\">\n",
       "  <thead>\n",
       "    <tr style=\"text-align: right;\">\n",
       "      <th></th>\n",
       "      <th>code</th>\n",
       "      <th>year</th>\n",
       "      <th>text</th>\n",
       "    </tr>\n",
       "  </thead>\n",
       "  <tbody>\n",
       "    <tr>\n",
       "      <th>0</th>\n",
       "      <td>603859</td>\n",
       "      <td>2017</td>\n",
       "      <td>2017年半年度报告1/116公司代码：603859公司简称：能科股份能科节能技术股份有限公...</td>\n",
       "    </tr>\n",
       "    <tr>\n",
       "      <th>1</th>\n",
       "      <td>603859</td>\n",
       "      <td>2019</td>\n",
       "      <td>2019年半年度报告1/141公司代码：603859公司简称：能科股份能科科技股份有限公司2...</td>\n",
       "    </tr>\n",
       "    <tr>\n",
       "      <th>2</th>\n",
       "      <td>603859</td>\n",
       "      <td>2018</td>\n",
       "      <td>2018年半年度报告1/120公司代码：603859公司简称：能科股份能科科技股份有限公司2...</td>\n",
       "    </tr>\n",
       "    <tr>\n",
       "      <th>3</th>\n",
       "      <td>601500</td>\n",
       "      <td>2017</td>\n",
       "      <td>2017年半年度报告1/114公司代码：601500公司简称：通用股份江苏通用科技股份有限公...</td>\n",
       "    </tr>\n",
       "    <tr>\n",
       "      <th>4</th>\n",
       "      <td>601500</td>\n",
       "      <td>2019</td>\n",
       "      <td>2019年半年度报告1/140公司代码：601500公司简称：通用股份江苏通用科技股份有限公...</td>\n",
       "    </tr>\n",
       "  </tbody>\n",
       "</table>\n",
       "</div>"
      ],
      "text/plain": [
       "     code  year                                               text\n",
       "0  603859  2017  2017年半年度报告1/116公司代码：603859公司简称：能科股份能科节能技术股份有限公...\n",
       "1  603859  2019  2019年半年度报告1/141公司代码：603859公司简称：能科股份能科科技股份有限公司2...\n",
       "2  603859  2018  2018年半年度报告1/120公司代码：603859公司简称：能科股份能科科技股份有限公司2...\n",
       "3  601500  2017  2017年半年度报告1/114公司代码：601500公司简称：通用股份江苏通用科技股份有限公...\n",
       "4  601500  2019  2019年半年度报告1/140公司代码：601500公司简称：通用股份江苏通用科技股份有限公..."
      ]
     },
     "execution_count": 53,
     "metadata": {},
     "output_type": "execute_result"
    }
   ],
   "source": [
    "import pandas as pd\n",
    "\n",
    "df = pd.read_excel('data.xlsx')\n",
    "df.head()"
   ]
  },
  {
   "cell_type": "markdown",
   "id": "c8c337de",
   "metadata": {},
   "source": [
    "### 查看数据量"
   ]
  },
  {
   "cell_type": "code",
   "execution_count": 54,
   "id": "4fffc095",
   "metadata": {},
   "outputs": [
    {
     "data": {
      "text/plain": [
       "16984"
      ]
     },
     "execution_count": 54,
     "metadata": {},
     "output_type": "execute_result"
    }
   ],
   "source": [
    "len(df)"
   ]
  },
  {
   "cell_type": "markdown",
   "id": "eb26e824",
   "metadata": {},
   "source": [
    "### 公司数"
   ]
  },
  {
   "cell_type": "code",
   "execution_count": 56,
   "id": "bfa45edb",
   "metadata": {},
   "outputs": [
    {
     "data": {
      "text/plain": [
       "1476"
      ]
     },
     "execution_count": 56,
     "metadata": {},
     "output_type": "execute_result"
    }
   ],
   "source": [
    "df.code.nunique()"
   ]
  },
  {
   "cell_type": "markdown",
   "id": "fa921c7f",
   "metadata": {},
   "source": [
    "### 含有的年份"
   ]
  },
  {
   "cell_type": "code",
   "execution_count": 57,
   "id": "cac824b7",
   "metadata": {},
   "outputs": [
    {
     "data": {
      "text/plain": [
       "[2002,\n",
       " 2003,\n",
       " 2004,\n",
       " 2005,\n",
       " 2006,\n",
       " 2007,\n",
       " 2008,\n",
       " 2009,\n",
       " 2010,\n",
       " 2011,\n",
       " 2012,\n",
       " 2013,\n",
       " 2014,\n",
       " 2015,\n",
       " 2016,\n",
       " 2017,\n",
       " 2018,\n",
       " 2019]"
      ]
     },
     "execution_count": 57,
     "metadata": {},
     "output_type": "execute_result"
    }
   ],
   "source": [
    "sorted(df.year.unique())"
   ]
  },
  {
   "cell_type": "markdown",
   "id": "5a947741",
   "metadata": {},
   "source": [
    "### 每家公司年报数\n",
    "数据集中，平均每家公司的年报数"
   ]
  },
  {
   "cell_type": "code",
   "execution_count": 66,
   "id": "8cd449a2",
   "metadata": {},
   "outputs": [
    {
     "data": {
      "text/plain": [
       "11.51"
      ]
     },
     "execution_count": 66,
     "metadata": {},
     "output_type": "execute_result"
    }
   ],
   "source": [
    "avg = len(df)/df.code.nunique()\n",
    "round(avg, 2)"
   ]
  },
  {
   "cell_type": "markdown",
   "id": "7049c16e",
   "metadata": {},
   "source": [
    "## 说明\n",
    "\n",
    "数据是19年获取的，数据不全，下载过程中有部分pdf是破损的文件。\n",
    "\n",
    "大家可以尝试该数据集训练会计年报词向量，看看有没有有趣的应用。\n",
    "\n",
    "本数据可作探索实验性质，如果想在会计领域深入挖掘，建议找更全更精准的数据集。"
   ]
  }
 ],
 "metadata": {
  "kernelspec": {
   "display_name": "Python 3 (ipykernel)",
   "language": "python",
   "name": "python3"
  },
  "language_info": {
   "codemirror_mode": {
    "name": "ipython",
    "version": 3
   },
   "file_extension": ".py",
   "mimetype": "text/x-python",
   "name": "python",
   "nbconvert_exporter": "python",
   "pygments_lexer": "ipython3",
   "version": "3.9.7"
  }
 },
 "nbformat": 4,
 "nbformat_minor": 5
}
