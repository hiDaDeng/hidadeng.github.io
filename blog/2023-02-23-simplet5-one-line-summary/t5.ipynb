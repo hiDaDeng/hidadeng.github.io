{
 "cells": [
  {
   "cell_type": "markdown",
   "id": "58ed8098",
   "metadata": {},
   "source": [
    "simpleT5 是 t5语言模型训练库， 底层基于 PyTorch-lightning 和 Transformers， **今天分享的代码可以根据传入的摘要内容生成对应的标题**。\n",
    "\n",
    "\n",
    "## T5介绍\n",
    "T5（Text-to-Text Transfer Transformer）是一种基于 Transformer 架构的自然语言处理模型，由 Google Brain 团队开发。T5 模型采用了 encoder-decoder 架构，其中 encoder 将输入文本编码为向量，decoder 则从该向量生成目标文本。\n",
    "\n",
    "T5 模型的特点是将所有自然语言处理任务都视为“从输入文本到输出文本”的转换问题，它可以通过在任务之间共享模型参数和预训练模型来轻松地应用于各种 NLP 任务，如**文本分类、命名实体识别、文本摘要、问答系统**等。 与其他 NLP 模型不同的是，T5 模型使用了一种称为“text-to-text”方法的统一输入输出架构，使得所有 NLP 任务都能转化为文本转换问题，从而使得模型训练更加高效。\n",
    "\n",
    "**在 T5 模型的预训练阶段，它使用了巨大的文本语料库进行无监督的训练，以学习将输入文本转换为输出文本的能力。预训练阶段结束后，T5 模型可以通过微调或迁移学习的方式用于各种下游 NLP 任务中，以实现最先进的性能表现**。\n",
    "\n",
    "<br>\n",
    "\n",
    "\n",
    "## 安装"
   ]
  },
  {
   "cell_type": "code",
   "execution_count": null,
   "id": "e1021b41",
   "metadata": {},
   "outputs": [],
   "source": [
    "!pip3 install --upgrade simplet5"
   ]
  },
  {
   "cell_type": "markdown",
   "id": "e94c2769",
   "metadata": {},
   "source": [
    "<br>\n",
    "\n",
    "## 快速上手\n",
    "T5有文本分类、命名实体识别、文本摘要、问答系统等功能，今天分享huggingface中公开的模型 **snrspeaks/t5-one-line-summary， 可以根据传入的摘要内容生成对应的标题。**"
   ]
  },
  {
   "cell_type": "code",
   "execution_count": 3,
   "id": "68d6fda8",
   "metadata": {},
   "outputs": [
    {
     "name": "stderr",
     "output_type": "stream",
     "text": [
      "Global seed set to 42\n"
     ]
    },
    {
     "data": {
      "application/vnd.jupyter.widget-view+json": {
       "model_id": "a5e0672d14414d07926a9909e86f9eae",
       "version_major": 2,
       "version_minor": 0
      },
      "text/plain": [
       "Downloading:   0%|          | 0.00/1.36k [00:00<?, ?B/s]"
      ]
     },
     "metadata": {},
     "output_type": "display_data"
    },
    {
     "data": {
      "application/vnd.jupyter.widget-view+json": {
       "model_id": "a7d37ed7d06f4c189eb9add717b7aa5d",
       "version_major": 2,
       "version_minor": 0
      },
      "text/plain": [
       "Downloading:   0%|          | 0.00/850M [00:00<?, ?B/s]"
      ]
     },
     "metadata": {},
     "output_type": "display_data"
    },
    {
     "data": {
      "application/vnd.jupyter.widget-view+json": {
       "model_id": "371545921a4145ba86abc4ac5c25094b",
       "version_major": 2,
       "version_minor": 0
      },
      "text/plain": [
       "Downloading:   0%|          | 0.00/1.84k [00:00<?, ?B/s]"
      ]
     },
     "metadata": {},
     "output_type": "display_data"
    },
    {
     "data": {
      "application/vnd.jupyter.widget-view+json": {
       "model_id": "983d00ad546646eba81bedcb1c63ae0f",
       "version_major": 2,
       "version_minor": 0
      },
      "text/plain": [
       "Downloading:   0%|          | 0.00/773k [00:00<?, ?B/s]"
      ]
     },
     "metadata": {},
     "output_type": "display_data"
    },
    {
     "data": {
      "application/vnd.jupyter.widget-view+json": {
       "model_id": "8658803f56294f598d1822a0aedd0628",
       "version_major": 2,
       "version_minor": 0
      },
      "text/plain": [
       "Downloading:   0%|          | 0.00/1.32M [00:00<?, ?B/s]"
      ]
     },
     "metadata": {},
     "output_type": "display_data"
    },
    {
     "data": {
      "application/vnd.jupyter.widget-view+json": {
       "model_id": "f11b25e495014661ab7843be2aa84110",
       "version_major": 2,
       "version_minor": 0
      },
      "text/plain": [
       "Downloading:   0%|          | 0.00/1.74k [00:00<?, ?B/s]"
      ]
     },
     "metadata": {},
     "output_type": "display_data"
    }
   ],
   "source": [
    "# pip install --upgrade simplet5\n",
    "from simplet5 import SimpleT5\n",
    "model = SimpleT5()\n",
    "model.load_model(\"t5\",\"snrspeaks/t5-one-line-summary\")"
   ]
  },
  {
   "cell_type": "code",
   "execution_count": 16,
   "id": "583dbf0a",
   "metadata": {},
   "outputs": [
    {
     "data": {
      "text/plain": [
       "['Overton: Building, Deploying, and Monitoring Deep Machine Learning Systems']"
      ]
     },
     "execution_count": 16,
     "metadata": {},
     "output_type": "execute_result"
    }
   ],
   "source": [
    "abstract = \"\"\"We describe a system called Overton, whose main design goal is to support engineers in building, monitoring, and improving production \n",
    "machine learning systems. Key challenges engineers face are monitoring fine-grained quality, diagnosing errors in sophisticated applications, and \n",
    "handling contradictory or incomplete supervision data. Overton automates the life cycle of model construction, deployment, and monitoring by providing a \n",
    "set of novel high-level, declarative abstractions. Overton's vision is to shift developers to these higher-level tasks instead of lower-level machine learning tasks. \n",
    "In fact, using Overton, engineers can build deep-learning-based applications without writing any code in frameworks like TensorFlow. For over a year, \n",
    "Overton has been used in production to support multiple applications in both near-real-time applications and back-of-house processing. In that time, \n",
    "Overton-based applications have answered billions of queries in multiple languages and processed trillions of records reducing errors 1.7-2.9 times versus production systems.\n",
    "\"\"\"\n",
    "\n",
    "#根据摘要生成标题\n",
    "model.predict(abstract)"
   ]
  },
  {
   "cell_type": "code",
   "execution_count": 15,
   "id": "d47f1254",
   "metadata": {},
   "outputs": [
    {
     "data": {
      "text/plain": [
       "['Overton: Building, Deploying, and Monitoring Deep Machine Learning Systems',\n",
       " 'Overton: Building, Deployment, and Improving Production Machine Learning Systems',\n",
       " 'Overton: Building, Deploying, and Monitoring Machine Learning Systems for Engineers',\n",
       " 'Overton: Building, Deploying, and Monitoring Machine Learning Systems',\n",
       " 'Overton: Building, Deployment, and Monitoring Deep Machine Learning Systems']"
      ]
     },
     "execution_count": 15,
     "metadata": {},
     "output_type": "execute_result"
    }
   ],
   "source": [
    "abstract = \"\"\"We describe a system called Overton, whose main design goal is to support engineers in building, monitoring, and improving production \n",
    "machine learning systems. Key challenges engineers face are monitoring fine-grained quality, diagnosing errors in sophisticated applications, and \n",
    "handling contradictory or incomplete supervision data. Overton automates the life cycle of model construction, deployment, and monitoring by providing a \n",
    "set of novel high-level, declarative abstractions. Overton's vision is to shift developers to these higher-level tasks instead of lower-level machine learning tasks. \n",
    "In fact, using Overton, engineers can build deep-learning-based applications without writing any code in frameworks like TensorFlow. For over a year, \n",
    "Overton has been used in production to support multiple applications in both near-real-time applications and back-of-house processing. In that time, \n",
    "Overton-based applications have answered billions of queries in multiple languages and processed trillions of records reducing errors 1.7-2.9 times versus production systems.\n",
    "\"\"\"\n",
    "\n",
    "#根据摘要生成5个标题\n",
    "n = 5\n",
    "model.predict(abstract, \n",
    "              num_return_sequences=n, \n",
    "              num_beams=n+1)\n"
   ]
  }
 ],
 "metadata": {
  "kernelspec": {
   "display_name": "Python 3 (ipykernel)",
   "language": "python",
   "name": "python3"
  },
  "language_info": {
   "codemirror_mode": {
    "name": "ipython",
    "version": 3
   },
   "file_extension": ".py",
   "mimetype": "text/x-python",
   "name": "python",
   "nbconvert_exporter": "python",
   "pygments_lexer": "ipython3",
   "version": "3.9.13"
  }
 },
 "nbformat": 4,
 "nbformat_minor": 5
}
