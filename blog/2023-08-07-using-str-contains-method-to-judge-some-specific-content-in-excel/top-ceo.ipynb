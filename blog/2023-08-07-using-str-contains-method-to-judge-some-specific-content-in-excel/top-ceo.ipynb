{
 "cells": [
  {
   "cell_type": "markdown",
   "id": "32eaa36a",
   "metadata": {},
   "source": [
    "\n",
    "\n",
    "## 一、高管数据集\n",
    "\n",
    "\n",
    "\n",
    "<br>\n",
    "\n",
    "\n",
    "### 1.1 介绍\n",
    "[数据集 | 90w条中国上市公司高管数据](https://textdata.cn/blog/2022-11-25-senior-manager-resume-dataset/)\n",
    "\n",
    "90w 条中国上市公司高管简历，数据源-新浪财经，统计的日期范围**1990-2021**年。\n",
    "    \n",
    "    \n",
    "### 1.2 字段\n",
    "数据集的字段含，大多是从「个人简历」中计算衍生出来的。\n",
    "\n",
    "```\n",
    "- ID\n",
    "- 姓名\n",
    "- 证券代码\n",
    "- 统计截止日期\n",
    "- 个人简历\n",
    "- 国籍\n",
    "- 籍贯\n",
    "- 籍贯所在地区代码\n",
    "- 出生地\n",
    "- 出生地所在地区代码\n",
    "- 性别\n",
    "- 年龄\n",
    "- 毕业院校\n",
    "- 学历  1=中专及中专以下； 2=大专； 3=本科； 4=硕士研究生； 5=博士研究生； 6=其他（以其他形式公布的学历，如荣誉博士、函授等）； 7=MBA/EMBA\n",
    "- 专业\n",
    "- 职称\n",
    "- 是否领取薪酬\n",
    "- 报告期报酬总额\n",
    "- 年末持股数\n",
    "- 是否高管团队成员\n",
    "- 是否董事会成员\n",
    "- 是否独立董事\n",
    "- 是否兼任董事长和CEO\n",
    "- 是否监事\n",
    "- 具体职务\n",
    "```\n",
    "\n",
    "\n",
    "<br>\n",
    "\n",
    "### 1.3 应用价值\n",
    "\n",
    "这里粘贴部分应用高管数据论文\n",
    "\n",
    "- 何瑛,于文蕾,戴逸驰,王砚羽.高管职业经历与企业创新[J].管理世界,2019,35(11):174-192.\n",
    "- 杨林,和欣,顾红芳.高管团队经验、动态能力与企业战略突变：管理自主权的调节效应[J].管理世界,2020,36(06):168-188+201+252.\n",
    "- 周楷唐,麻志明,吴联生.高管学术经历与公司债务融资成本[J].经济研究,2017,52(07):169-183.\n",
    "- 陆瑶,张叶青,黎波,赵浩宇.高管个人特征与公司业绩——基于机器学习的经验证据[J].管理科学学报,2020,23(02):120-140.\n",
    "- 柳光强,孔高文.高管经管教育背景与企业内部薪酬差距[J].会计研究,2021,(03):110-121.\n",
    "- 郑建明,孙诗璐,李金甜.高管文化背景与企业债务成本——基于劳模文化的视角[J].会计研究,2021,(03):137-145.\n",
    "    \n",
    "    \n",
    "<br>\n",
    "\n",
    "## 二、代码案例\n",
    "\n",
    "用Python实现以下五个技术难题，主要对高管简介进行操作\n",
    "\n",
    "1. 读取xlsx文件（90w高管数据）\n",
    "2. 简介文本中是否含指定词语(例如找出有【清华大学】求学经历的高管)\n",
    "3. 大学高管数量排行榜\n",
    "4. 统计文本中指定词语出现次数(例如统计每位高管内【大学】出现次数)\n",
    "5. 找出每位高管的出生年份(用正则表达式)\n",
    "6. 统计每位高管经历的时间点个数\n",
    "...\n",
    "\n",
    "### 2.1 导入数据\n"
   ]
  },
  {
   "cell_type": "code",
   "execution_count": 1,
   "id": "1bc443a4",
   "metadata": {},
   "outputs": [
    {
     "data": {
      "text/html": [
       "<div>\n",
       "<style scoped>\n",
       "    .dataframe tbody tr th:only-of-type {\n",
       "        vertical-align: middle;\n",
       "    }\n",
       "\n",
       "    .dataframe tbody tr th {\n",
       "        vertical-align: top;\n",
       "    }\n",
       "\n",
       "    .dataframe thead th {\n",
       "        text-align: right;\n",
       "    }\n",
       "</style>\n",
       "<table border=\"1\" class=\"dataframe\">\n",
       "  <thead>\n",
       "    <tr style=\"text-align: right;\">\n",
       "      <th></th>\n",
       "      <th>ID</th>\n",
       "      <th>姓名</th>\n",
       "      <th>证券代码</th>\n",
       "      <th>统计截止日期</th>\n",
       "      <th>个人简历</th>\n",
       "      <th>国籍</th>\n",
       "      <th>籍贯</th>\n",
       "      <th>籍贯所在地区代码</th>\n",
       "      <th>出生地</th>\n",
       "      <th>出生地所在地区代码</th>\n",
       "      <th>...</th>\n",
       "      <th>是否领取薪酬</th>\n",
       "      <th>报告期报酬总额</th>\n",
       "      <th>津贴</th>\n",
       "      <th>年末持股数</th>\n",
       "      <th>是否高管团队成员</th>\n",
       "      <th>是否董事会成员</th>\n",
       "      <th>是否独立董事</th>\n",
       "      <th>是否兼任董事长和CEO</th>\n",
       "      <th>是否监事</th>\n",
       "      <th>具体职务</th>\n",
       "    </tr>\n",
       "  </thead>\n",
       "  <tbody>\n",
       "    <tr>\n",
       "      <th>0</th>\n",
       "      <td>30276026</td>\n",
       "      <td>赵勇</td>\n",
       "      <td>605169</td>\n",
       "      <td>2020-10-30</td>\n",
       "      <td>赵勇先生，副总经理，中国国籍，无境外永久居留权，1969年6月出生，大专学历；曾任新疆生产建...</td>\n",
       "      <td>中华人民共和国</td>\n",
       "      <td>北京市</td>\n",
       "      <td>110000</td>\n",
       "      <td>北京市</td>\n",
       "      <td>110000</td>\n",
       "      <td>...</td>\n",
       "      <td>Y</td>\n",
       "      <td>269600.0</td>\n",
       "      <td>NaN</td>\n",
       "      <td>NaN</td>\n",
       "      <td>1</td>\n",
       "      <td>0</td>\n",
       "      <td>0</td>\n",
       "      <td>0</td>\n",
       "      <td>0</td>\n",
       "      <td>副总经理</td>\n",
       "    </tr>\n",
       "    <tr>\n",
       "      <th>1</th>\n",
       "      <td>3056116</td>\n",
       "      <td>林菁</td>\n",
       "      <td>689009</td>\n",
       "      <td>2020-10-29</td>\n",
       "      <td>林菁先生，1965年3月出生，中国国籍，无境外永久居留权，对外经济贸易大学工商管理（MBA）...</td>\n",
       "      <td>中华人民共和国</td>\n",
       "      <td>北京市</td>\n",
       "      <td>110000</td>\n",
       "      <td>北京市</td>\n",
       "      <td>110000</td>\n",
       "      <td>...</td>\n",
       "      <td>N</td>\n",
       "      <td>166300.0</td>\n",
       "      <td>166300.0</td>\n",
       "      <td>NaN</td>\n",
       "      <td>0</td>\n",
       "      <td>1</td>\n",
       "      <td>1</td>\n",
       "      <td>0</td>\n",
       "      <td>0</td>\n",
       "      <td>独立董事</td>\n",
       "    </tr>\n",
       "    <tr>\n",
       "      <th>2</th>\n",
       "      <td>30568910</td>\n",
       "      <td>信意安</td>\n",
       "      <td>2995</td>\n",
       "      <td>2020-08-05</td>\n",
       "      <td>信意安,男,1972年出生,中国国籍,无境外永久居留权,专科学历,现任发行人董事长兼总经理,...</td>\n",
       "      <td>中华人民共和国</td>\n",
       "      <td>北京市</td>\n",
       "      <td>110000</td>\n",
       "      <td>北京市</td>\n",
       "      <td>110000</td>\n",
       "      <td>...</td>\n",
       "      <td>Y</td>\n",
       "      <td>950000.0</td>\n",
       "      <td>NaN</td>\n",
       "      <td>22509250.0</td>\n",
       "      <td>1</td>\n",
       "      <td>1</td>\n",
       "      <td>0</td>\n",
       "      <td>1</td>\n",
       "      <td>0</td>\n",
       "      <td>董事长,非独立董事,总经理</td>\n",
       "    </tr>\n",
       "    <tr>\n",
       "      <th>3</th>\n",
       "      <td>30101636</td>\n",
       "      <td>赵炳弟</td>\n",
       "      <td>688561</td>\n",
       "      <td>2020-07-22</td>\n",
       "      <td>赵炳弟先生，独立董事，生于1960年10月，中国籍，无境外永久居留权，研究生学历，毕业于中央...</td>\n",
       "      <td>NaN</td>\n",
       "      <td>北京市</td>\n",
       "      <td>110000</td>\n",
       "      <td>北京市</td>\n",
       "      <td>110000</td>\n",
       "      <td>...</td>\n",
       "      <td>N</td>\n",
       "      <td>105000.0</td>\n",
       "      <td>105000.0</td>\n",
       "      <td>NaN</td>\n",
       "      <td>0</td>\n",
       "      <td>1</td>\n",
       "      <td>1</td>\n",
       "      <td>0</td>\n",
       "      <td>0</td>\n",
       "      <td>独立董事</td>\n",
       "    </tr>\n",
       "    <tr>\n",
       "      <th>4</th>\n",
       "      <td>30138872</td>\n",
       "      <td>张金</td>\n",
       "      <td>688377</td>\n",
       "      <td>2020-07-08</td>\n",
       "      <td>张金先生：中国国籍，1962年出生，无境外永久居留权，本科学历，高级工程师，2009年2月被...</td>\n",
       "      <td>中华人民共和国</td>\n",
       "      <td>北京市</td>\n",
       "      <td>110000</td>\n",
       "      <td>北京市</td>\n",
       "      <td>110000</td>\n",
       "      <td>...</td>\n",
       "      <td>N</td>\n",
       "      <td>60000.0</td>\n",
       "      <td>60000.0</td>\n",
       "      <td>NaN</td>\n",
       "      <td>0</td>\n",
       "      <td>1</td>\n",
       "      <td>1</td>\n",
       "      <td>0</td>\n",
       "      <td>0</td>\n",
       "      <td>独立董事</td>\n",
       "    </tr>\n",
       "  </tbody>\n",
       "</table>\n",
       "<p>5 rows × 26 columns</p>\n",
       "</div>"
      ],
      "text/plain": [
       "         ID   姓名    证券代码     统计截止日期  \\\n",
       "0  30276026   赵勇  605169 2020-10-30   \n",
       "1   3056116   林菁  689009 2020-10-29   \n",
       "2  30568910  信意安    2995 2020-08-05   \n",
       "3  30101636  赵炳弟  688561 2020-07-22   \n",
       "4  30138872   张金  688377 2020-07-08   \n",
       "\n",
       "                                                个人简历       国籍   籍贯 籍贯所在地区代码  \\\n",
       "0  赵勇先生，副总经理，中国国籍，无境外永久居留权，1969年6月出生，大专学历；曾任新疆生产建...  中华人民共和国  北京市   110000   \n",
       "1  林菁先生，1965年3月出生，中国国籍，无境外永久居留权，对外经济贸易大学工商管理（MBA）...  中华人民共和国  北京市   110000   \n",
       "2  信意安,男,1972年出生,中国国籍,无境外永久居留权,专科学历,现任发行人董事长兼总经理,...  中华人民共和国  北京市   110000   \n",
       "3  赵炳弟先生，独立董事，生于1960年10月，中国籍，无境外永久居留权，研究生学历，毕业于中央...      NaN  北京市   110000   \n",
       "4  张金先生：中国国籍，1962年出生，无境外永久居留权，本科学历，高级工程师，2009年2月被...  中华人民共和国  北京市   110000   \n",
       "\n",
       "   出生地 出生地所在地区代码  ... 是否领取薪酬   报告期报酬总额        津贴       年末持股数 是否高管团队成员 是否董事会成员  \\\n",
       "0  北京市    110000  ...      Y  269600.0       NaN         NaN        1       0   \n",
       "1  北京市    110000  ...      N  166300.0  166300.0         NaN        0       1   \n",
       "2  北京市    110000  ...      Y  950000.0       NaN  22509250.0        1       1   \n",
       "3  北京市    110000  ...      N  105000.0  105000.0         NaN        0       1   \n",
       "4  北京市    110000  ...      N   60000.0   60000.0         NaN        0       1   \n",
       "\n",
       "  是否独立董事  是否兼任董事长和CEO  是否监事           具体职务  \n",
       "0      0            0     0           副总经理  \n",
       "1      1            0     0           独立董事  \n",
       "2      0            1     0  董事长,非独立董事,总经理  \n",
       "3      1            0     0           独立董事  \n",
       "4      1            0     0           独立董事  \n",
       "\n",
       "[5 rows x 26 columns]"
      ]
     },
     "execution_count": 1,
     "metadata": {},
     "output_type": "execute_result"
    }
   ],
   "source": [
    "import pandas as pd\n",
    "\n",
    "df = pd.read_excel('高管数据.xlsx')\n",
    "#剔除「个人简历」字段中的缺失值\n",
    "df.dropna(subset=['个人简历'], inplace=True)\n",
    "df.head()"
   ]
  },
  {
   "cell_type": "markdown",
   "id": "3fa652c5",
   "metadata": {},
   "source": [
    "<br>\n",
    "\n",
    "### 2.2 简介文本长度"
   ]
  },
  {
   "cell_type": "code",
   "execution_count": 91,
   "id": "18f17838",
   "metadata": {},
   "outputs": [
    {
     "data": {
      "text/plain": [
       "0         161\n",
       "1         154\n",
       "2         395\n",
       "3         306\n",
       "4         335\n",
       "         ... \n",
       "900882     40\n",
       "900883     54\n",
       "900884     71\n",
       "900885     41\n",
       "900886     62\n",
       "Name: 个人简历, Length: 736970, dtype: int64"
      ]
     },
     "execution_count": 91,
     "metadata": {},
     "output_type": "execute_result"
    }
   ],
   "source": [
    "df['个人简历'].str.len()\n",
    "\n",
    "#新增一个字段length，将简介文本长度保存到length中\n",
    "#df['length'] = df['个人简历'].str.len()"
   ]
  },
  {
   "cell_type": "markdown",
   "id": "9d06e0cd",
   "metadata": {},
   "source": [
    "<br>\n",
    "\n",
    "### 2.3 简介文本中是否含指定词语\n",
    "\n",
    "例如找出有【清华大学】求学经历的高管,这里直接使用**Series.str.contains()**方法来直接搜某字段(Series)是否含某个词\n",
    "\n",
    "- ``len(df[df['个人简历'].str.contains('清华大学')])`` 有「清华大学」学习经历的高管人数\n",
    "- ``len(df[df['个人简历'].str.contains('北京大学')])`` 有「北京大学」学习经历的高管人数\n",
    "- ``len(df[df['个人简历'].str.contains('清华大学|北京大学')])`` 有「清华大学」或「北京大学」学习经历的高管人数\n",
    "- ``len(df[df['个人简历'].str.contains('清华大学') & df['个人简历'].str.contains('北京大学')])`` 同时有「清华大学」和「北京大学」学习经历的高管人数\n",
    "\n",
    "第三个(北大清华)表达式的数量应该是最多的(前两者之和)， 第四个表达式是最少。 注意, 逻辑【或|】【且&】可以有任意多个"
   ]
  },
  {
   "cell_type": "code",
   "execution_count": 78,
   "id": "56648e52",
   "metadata": {},
   "outputs": [
    {
     "data": {
      "text/plain": [
       "10377"
      ]
     },
     "execution_count": 78,
     "metadata": {},
     "output_type": "execute_result"
    }
   ],
   "source": [
    "#统计有【清华大学】学习经历的高管人数\n",
    "len(df[df['个人简历'].str.contains('清华大学')])"
   ]
  },
  {
   "cell_type": "code",
   "execution_count": 77,
   "id": "3dc0e124",
   "metadata": {},
   "outputs": [
    {
     "data": {
      "text/plain": [
       "8709"
      ]
     },
     "execution_count": 77,
     "metadata": {},
     "output_type": "execute_result"
    }
   ],
   "source": [
    "len(df[df['个人简历'].str.contains('北京大学')])"
   ]
  },
  {
   "cell_type": "code",
   "execution_count": 76,
   "id": "abbfd513",
   "metadata": {},
   "outputs": [
    {
     "data": {
      "text/plain": [
       "18647"
      ]
     },
     "execution_count": 76,
     "metadata": {},
     "output_type": "execute_result"
    }
   ],
   "source": [
    "len(df[df['个人简历'].str.contains('清华大学|北京大学')])"
   ]
  },
  {
   "cell_type": "code",
   "execution_count": 72,
   "id": "8b043d0c",
   "metadata": {},
   "outputs": [
    {
     "data": {
      "text/plain": [
       "439"
      ]
     },
     "execution_count": 72,
     "metadata": {},
     "output_type": "execute_result"
    }
   ],
   "source": [
    "len(df[df['个人简历'].str.contains('清华大学') & df['个人简历'].str.contains('北京大学')])"
   ]
  },
  {
   "cell_type": "markdown",
   "id": "5f8c8340",
   "metadata": {},
   "source": [
    "<br>\n",
    "\n",
    "### 2.4 大学高管数量排行榜"
   ]
  },
  {
   "cell_type": "code",
   "execution_count": 69,
   "id": "d7f97dcb",
   "metadata": {},
   "outputs": [
    {
     "name": "stdout",
     "output_type": "stream",
     "text": [
      "大学高管人数排行\n"
     ]
    },
    {
     "data": {
      "text/plain": [
       "[('清华大学', 10377),\n",
       " ('北京大学', 8709),\n",
       " ('中国人民大学', 7012),\n",
       " ('浙江大学', 5816),\n",
       " ('中山大学', 4065),\n",
       " ('上海交通大学', 3844),\n",
       " ('武汉大学', 3578),\n",
       " ('南京大学', 3272),\n",
       " ('西安交通大学', 2972),\n",
       " ('南开大学', 2716),\n",
       " ('湖南大学', 2502),\n",
       " ('华中科技大学', 2356),\n",
       " ('同济大学', 2089),\n",
       " ('吉林大学', 2044),\n",
       " ('四川大学', 1934),\n",
       " ('山东大学', 1847),\n",
       " ('中南大学', 1615),\n",
       " ('天津大学', 1598),\n",
       " ('重庆大学', 1440),\n",
       " ('北京航空航天大学', 1334),\n",
       " ('东北大学', 1241),\n",
       " ('中国科学技术大学', 842),\n",
       " ('兰州大学', 745),\n",
       " ('中国地质大学', 437),\n",
       " ('大连理工大大学', 0)]"
      ]
     },
     "execution_count": 69,
     "metadata": {},
     "output_type": "execute_result"
    }
   ],
   "source": [
    "#测试列表(凭记忆手动输入的大学，各位可以自己设计测试列表)\n",
    "test_universitys = ['清华大学', '北京大学', '中国人民大学', '浙江大学', \n",
    "                    '上海交通大学', '西安交通大学', '同济大学', '南开大学', '天津大学', \n",
    "                    '武汉大学', '华中科技大学', '中国科学技术大学', '南京大学',\n",
    "                    '中山大学', '中南大学', '四川大学', '重庆大学', '兰州大学', '湖南大学', \n",
    "                    '山东大学', '吉林大学', '大连理工大大学', '东北大学', '北京航空航天大学', '中国地质大学']\n",
    "\n",
    "\n",
    "print('大学高管人数排行')\n",
    "\n",
    "uni_infos = []\n",
    "for university in test_universitys:\n",
    "    num = len(df[df['个人简历'].str.contains(university)])\n",
    "    uni_infos.append((university, num))\n",
    "    \n",
    "uni_infos = sorted(uni_infos, key=lambda k:k[1], reverse=True)\n",
    "uni_infos"
   ]
  },
  {
   "cell_type": "markdown",
   "id": "a2d14420",
   "metadata": {},
   "source": [
    "<br>\n",
    "\n",
    "### 2.5 统计文本中指定词语出现次数\n",
    "例如统计每位高管内【大学】出现次数"
   ]
  },
  {
   "cell_type": "code",
   "execution_count": 79,
   "id": "15a1520f",
   "metadata": {},
   "outputs": [
    {
     "data": {
      "text/plain": [
       "0         0\n",
       "1         2\n",
       "2         0\n",
       "3         0\n",
       "4         0\n",
       "         ..\n",
       "900882    0\n",
       "900883    0\n",
       "900884    0\n",
       "900885    0\n",
       "900886    0\n",
       "Name: 个人简历, Length: 736970, dtype: int64"
      ]
     },
     "execution_count": 79,
     "metadata": {},
     "output_type": "execute_result"
    }
   ],
   "source": [
    "df['个人简历'].str.count('大学')"
   ]
  },
  {
   "cell_type": "code",
   "execution_count": 81,
   "id": "bc83ef8c",
   "metadata": {},
   "outputs": [
    {
     "name": "stdout",
     "output_type": "stream",
     "text": [
      "高管总人数:  736970\n",
      "无大学经历高管人数: 515172\n",
      "有大学经历高管人数: 221798\n"
     ]
    }
   ],
   "source": [
    "print('高管总人数: ', len(df))\n",
    "#简历中无「大学」字眼\n",
    "print('无大学经历高管人数:' , len(df[df['个人简历'].str.count('大学')==0]))\n",
    "#简历中有「大学」字眼\n",
    "print('有大学经历高管人数:' , len(df[df['个人简历'].str.count('大学')>0]))"
   ]
  },
  {
   "cell_type": "code",
   "execution_count": 84,
   "id": "3aacf916",
   "metadata": {},
   "outputs": [
    {
     "data": {
      "text/plain": [
       "<AxesSubplot:>"
      ]
     },
     "execution_count": 84,
     "metadata": {},
     "output_type": "execute_result"
    },
    {
     "data": {
      "image/png": "[encoded data removed]",
      "text/plain": [
       "<Figure size 640x480 with 1 Axes>"
      ]
     },
     "metadata": {},
     "output_type": "display_data"
    }
   ],
   "source": [
    "#有些企业单位名字中带有「大学」，但这类企业非常少。\n",
    "#「大学」词语出现次数可以近似看做学习经历次数\n",
    "#如此， 1可以看做本科学历，2看做研究生学历， 3看做博士学历\n",
    "df['个人简历'].str.count('大学').value_counts(normalize=True).plot(kind='bar')"
   ]
  },
  {
   "cell_type": "markdown",
   "id": "6189eabb",
   "metadata": {},
   "source": [
    "<br>\n",
    "\n",
    "### 2.6 找出每位高管的出生年份(用正则表达式)"
   ]
  },
  {
   "cell_type": "code",
   "execution_count": 86,
   "id": "faff7c2d",
   "metadata": {},
   "outputs": [
    {
     "data": {
      "text/plain": [
       "0                                                    [1969]\n",
       "1                      [1965, 1984, 1986, 1990, 1994, 1995]\n",
       "2         [1972, 1998, 1999, 2000, 2015, 2002, 2016, 200...\n",
       "3         [1960, 1982, 1989, 1990, 1991, 1991, 2002, 200...\n",
       "4         [1962, 2009, 1985, 1996, 1996, 2008, 1993, 200...\n",
       "                                ...                        \n",
       "900882                                                   []\n",
       "900883                                                   []\n",
       "900884                                                   []\n",
       "900885                                                   []\n",
       "900886                                                   []\n",
       "Name: 个人简历, Length: 736970, dtype: object"
      ]
     },
     "execution_count": 86,
     "metadata": {},
     "output_type": "execute_result"
    }
   ],
   "source": [
    "df['个人简历'].str.findall('\\d{4}')"
   ]
  },
  {
   "cell_type": "code",
   "execution_count": 93,
   "id": "c45af8ba",
   "metadata": {},
   "outputs": [
    {
     "data": {
      "text/plain": [
       "0         1969\n",
       "1         1965\n",
       "2         1972\n",
       "3         1960\n",
       "4         1962\n",
       "          ... \n",
       "900882       0\n",
       "900883       0\n",
       "900884       0\n",
       "900885       0\n",
       "900886       0\n",
       "Name: 个人简历, Length: 736970, dtype: object"
      ]
     },
     "execution_count": 93,
     "metadata": {},
     "output_type": "execute_result"
    }
   ],
   "source": [
    "def birth_year(years):\n",
    "    try:\n",
    "        #返回出生年份\n",
    "        return years[0]\n",
    "    except:\n",
    "        #没有年份的，返回0\n",
    "        return 0\n",
    "    \n",
    "    \n",
    "#高管出生年份\n",
    "df['个人简历'].str.findall('\\d{4}').apply(birth_year)"
   ]
  },
  {
   "cell_type": "code",
   "execution_count": 92,
   "id": "29a4171a",
   "metadata": {},
   "outputs": [
    {
     "data": {
      "text/plain": [
       "0          1\n",
       "1          6\n",
       "2         10\n",
       "3         10\n",
       "4          8\n",
       "          ..\n",
       "900882     0\n",
       "900883     0\n",
       "900884     0\n",
       "900885     0\n",
       "900886     0\n",
       "Name: 个人简历, Length: 736970, dtype: int64"
      ]
     },
     "execution_count": 92,
     "metadata": {},
     "output_type": "execute_result"
    }
   ],
   "source": [
    "#高管时间点个数(感觉可以看做经历的个数)\n",
    "df['个人简历'].str.findall('\\d{4}').apply(lambda ys: len(set(ys)))"
   ]
  }
 ],
 "metadata": {
  "kernelspec": {
   "display_name": "Python 3 (ipykernel)",
   "language": "python",
   "name": "python3"
  },
  "language_info": {
   "codemirror_mode": {
    "name": "ipython",
    "version": 3
   },
   "file_extension": ".py",
   "mimetype": "text/x-python",
   "name": "python",
   "nbconvert_exporter": "python",
   "pygments_lexer": "ipython3",
   "version": "3.9.13"
  }
 },
 "nbformat": 4,
 "nbformat_minor": 5
}
