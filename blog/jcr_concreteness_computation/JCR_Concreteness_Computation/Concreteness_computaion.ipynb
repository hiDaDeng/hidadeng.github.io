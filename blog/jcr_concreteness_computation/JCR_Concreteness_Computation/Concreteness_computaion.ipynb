{
 "cells": [
  {
   "cell_type": "code",
   "execution_count": 2,
   "id": "8a83c60d",
   "metadata": {},
   "outputs": [
    {
     "data": {
      "text/html": [
       "<div>\n",
       "<style scoped>\n",
       "    .dataframe tbody tr th:only-of-type {\n",
       "        vertical-align: middle;\n",
       "    }\n",
       "\n",
       "    .dataframe tbody tr th {\n",
       "        vertical-align: top;\n",
       "    }\n",
       "\n",
       "    .dataframe thead th {\n",
       "        text-align: right;\n",
       "    }\n",
       "</style>\n",
       "<table border=\"1\" class=\"dataframe\">\n",
       "  <thead>\n",
       "    <tr style=\"text-align: right;\">\n",
       "      <th></th>\n",
       "      <th>Word</th>\n",
       "      <th>Bigram</th>\n",
       "      <th>Conc.M</th>\n",
       "      <th>Conc.SD</th>\n",
       "      <th>Unknown</th>\n",
       "      <th>Total</th>\n",
       "      <th>Percent_known</th>\n",
       "      <th>SUBTLEX</th>\n",
       "      <th>Dom_Pos</th>\n",
       "    </tr>\n",
       "  </thead>\n",
       "  <tbody>\n",
       "    <tr>\n",
       "      <th>0</th>\n",
       "      <td>roadsweeper</td>\n",
       "      <td>0</td>\n",
       "      <td>4.85</td>\n",
       "      <td>0.37</td>\n",
       "      <td>1</td>\n",
       "      <td>27</td>\n",
       "      <td>0.962963</td>\n",
       "      <td>0</td>\n",
       "      <td>0</td>\n",
       "    </tr>\n",
       "    <tr>\n",
       "      <th>1</th>\n",
       "      <td>traindriver</td>\n",
       "      <td>0</td>\n",
       "      <td>4.54</td>\n",
       "      <td>0.71</td>\n",
       "      <td>3</td>\n",
       "      <td>29</td>\n",
       "      <td>0.896552</td>\n",
       "      <td>0</td>\n",
       "      <td>0</td>\n",
       "    </tr>\n",
       "    <tr>\n",
       "      <th>2</th>\n",
       "      <td>tush</td>\n",
       "      <td>0</td>\n",
       "      <td>4.45</td>\n",
       "      <td>1.01</td>\n",
       "      <td>3</td>\n",
       "      <td>25</td>\n",
       "      <td>0.880000</td>\n",
       "      <td>66</td>\n",
       "      <td>0</td>\n",
       "    </tr>\n",
       "    <tr>\n",
       "      <th>3</th>\n",
       "      <td>hairdress</td>\n",
       "      <td>0</td>\n",
       "      <td>3.93</td>\n",
       "      <td>1.28</td>\n",
       "      <td>0</td>\n",
       "      <td>29</td>\n",
       "      <td>1.000000</td>\n",
       "      <td>1</td>\n",
       "      <td>0</td>\n",
       "    </tr>\n",
       "    <tr>\n",
       "      <th>4</th>\n",
       "      <td>pharmaceutics</td>\n",
       "      <td>0</td>\n",
       "      <td>3.77</td>\n",
       "      <td>1.41</td>\n",
       "      <td>4</td>\n",
       "      <td>26</td>\n",
       "      <td>0.846154</td>\n",
       "      <td>0</td>\n",
       "      <td>0</td>\n",
       "    </tr>\n",
       "  </tbody>\n",
       "</table>\n",
       "</div>"
      ],
      "text/plain": [
       "            Word  Bigram  Conc.M  Conc.SD  Unknown  Total  Percent_known  \\\n",
       "0    roadsweeper       0    4.85     0.37        1     27       0.962963   \n",
       "1    traindriver       0    4.54     0.71        3     29       0.896552   \n",
       "2           tush       0    4.45     1.01        3     25       0.880000   \n",
       "3      hairdress       0    3.93     1.28        0     29       1.000000   \n",
       "4  pharmaceutics       0    3.77     1.41        4     26       0.846154   \n",
       "\n",
       "   SUBTLEX Dom_Pos  \n",
       "0        0       0  \n",
       "1        0       0  \n",
       "2       66       0  \n",
       "3        1       0  \n",
       "4        0       0  "
      ]
     },
     "execution_count": 2,
     "metadata": {},
     "output_type": "execute_result"
    }
   ],
   "source": [
    "import pandas as pd\n",
    "\n",
    "df = pd.read_excel(\"Concreteness_ratings_Brysbaert_et_al_BRM.xlsx\")\n",
    "\n",
    "df.head()"
   ]
  },
  {
   "cell_type": "code",
   "execution_count": null,
   "id": "f2289dcf",
   "metadata": {},
   "outputs": [],
   "source": []
  },
  {
   "cell_type": "code",
   "execution_count": 22,
   "id": "8cb539cc",
   "metadata": {},
   "outputs": [
    {
     "data": {
      "text/plain": [
       "True"
      ]
     },
     "execution_count": 22,
     "metadata": {},
     "output_type": "execute_result"
    }
   ],
   "source": []
  },
  {
   "cell_type": "code",
   "execution_count": 33,
   "id": "20d88621",
   "metadata": {},
   "outputs": [
    {
     "data": {
      "text/plain": [
       "1.7028571428571426"
      ]
     },
     "execution_count": 33,
     "metadata": {},
     "output_type": "execute_result"
    }
   ],
   "source": [
    "from nltk.tokenize import word_tokenize\n",
    "\n",
    "def query_concreteness(word):\n",
    "    \"\"\"\n",
    "    查询word的具体性得分\n",
    "    \"\"\"\n",
    "    try:\n",
    "        return df[df[\"Word\"]==word]['Conc.M'].values[0]\n",
    "    except:\n",
    "        return 0\n",
    "    \n",
    "    \n",
    "def concreteness_score(text):\n",
    "    \"\"\"\n",
    "    计算文本的具体性得分\n",
    "    \"\"\"\n",
    "    score = 0\n",
    "    text = text.lower()\n",
    "    \n",
    "    try:\n",
    "        words = word_tokenize(text)\n",
    "    except:\n",
    "        print('你的电脑nltk没配置好，请观看视频https://www.bilibili.com/video/BV14A411i7DB')\n",
    "        words = text.split(' ')\n",
    "        \n",
    "    for word in words:\n",
    "        try:\n",
    "            score += query_concreteness(word=word)\n",
    "        except:\n",
    "            score += 0\n",
    "            \n",
    "    return score/len(words)\n",
    "    \n",
    "concreteness_score(text=\"I will go look for that!\")"
   ]
  },
  {
   "cell_type": "code",
   "execution_count": 43,
   "id": "66a75f70",
   "metadata": {},
   "outputs": [
    {
     "name": "stdout",
     "output_type": "stream",
     "text": [
      "Concreteness Score: 1.55 | Example-0: I'll go look for that\n",
      "Concreteness Score: 1.55 | Example-1: I'll go search for that\n",
      "Concreteness Score: 1.89 | Example-2: I'll go search for that top\n",
      "Concreteness Score: 2.04 | Example-3: I'll go search for that t-shirt\n",
      "Concreteness Score: 2.37 | Example-4: I'll go look for that t-shirt in grey\n",
      "Concreteness Score: 2.37 | Example-5: I'll go search for that t-shirt in grey\n"
     ]
    }
   ],
   "source": [
    "employee_replys = [\"I'll go look for that\",\n",
    "                   \"I'll go search for that\",\n",
    "                   \"I'll go search for that top\",\n",
    "                   \"I'll go search for that t-shirt\",\n",
    "                   \"I'll go look for that t-shirt in grey\",\n",
    "                   \"I'll go search for that t-shirt in grey\"]\n",
    "\n",
    "for idx, reply in enumerate(employee_replys):\n",
    "    score=concreteness_score(reply)\n",
    "    template = \"Concreteness Score: {score:.2f} | Example-{idx}: {exmaple}\"\n",
    "    print(template.format(score=score, \n",
    "                          idx=idx, \n",
    "                          exmaple=reply))\n",
    "    \n"
   ]
  },
  {
   "cell_type": "code",
   "execution_count": null,
   "id": "b7038a30",
   "metadata": {},
   "outputs": [],
   "source": [
    "在JCR这篇论文中提到，员工会倾向于使用使用抽象词， 这样可以应对更多中情况，而且客观上减轻工作量。\n",
    "\n",
    "员工的表达越具体，具体性得分越高，更容易使得服务的对象感到满意。\n",
    "\n",
    ">跟JCR中的得分不一样，但是案例的得分趋势是一致的。"
   ]
  }
 ],
 "metadata": {
  "kernelspec": {
   "display_name": "Python 3 (ipykernel)",
   "language": "python",
   "name": "python3"
  },
  "language_info": {
   "codemirror_mode": {
    "name": "ipython",
    "version": 3
   },
   "file_extension": ".py",
   "mimetype": "text/x-python",
   "name": "python",
   "nbconvert_exporter": "python",
   "pygments_lexer": "ipython3",
   "version": "3.9.7"
  }
 },
 "nbformat": 4,
 "nbformat_minor": 5
}
