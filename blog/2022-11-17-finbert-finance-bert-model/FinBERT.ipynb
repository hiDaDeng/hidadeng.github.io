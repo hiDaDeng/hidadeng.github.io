{
 "cells": [
  {
   "cell_type": "markdown",
   "metadata": {},
   "source": [
    "## FinBERT介绍\n",
    "FinBERT， 是使用49亿词的英文金融语料库数据，生成的BERT预训练语言模型。语料库上大小为 49亿个词。\n",
    "\n",
    "- 公司报告 10-K 和 10-Q：25亿个词\n",
    "- 电话会议记录：13亿个词\n",
    "- 分析师报告：11亿个词\n",
    "\n",
    "FinBERT开发者在多个金融 NLP 任务上对 FinBERT 预训练模型进行了微调，均优于传统机器学习模型、深度学习模型和微调 BERT 模型。 所有经过微调的 FinBERT 模型都公开托管在 Huggingface 🤗。  目前支持包括**情绪分析、ESG 分类、前瞻性陈述 (FLS) 分类**。 \n",
    "\n",
    "\n",
    "<br>\n",
    "\n",
    "\n",
    "### FinBERT功能\n",
    "\n",
    "具体来说，FinBERT有以下内容：\n",
    "\n",
    "- [FinBERT-Pretrained](https://huggingface.co/yiyanghkust/finbert-pretrain)： 针对大规模金融文本的预训练 FinBERT 模型。 \n",
    "- [FinBERT-Sentiment](https://huggingface.co/yiyanghkust/finbert-tone)： 用于情感分类任务。 \n",
    "- [FinBERT-ESG](https://huggingface.co/yiyanghkust/finbert-esg)： 用于 ESG 分类任务。 \n",
    "- [FinBERT-FLS](https://huggingface.co/yiyanghkust/finbert-fls)： 用于前瞻性陈述（FLS）分类任务。 \n",
    "\n",
    "<br>\n",
    "\n",
    "\n",
    "### 环境配置\n",
    "\n",
    "```\n",
    "pip install transformers==4.18.0\n",
    "```\n",
    "\n",
    "本次实验使用的transformers版本为\n",
    "\n",
    "```\n",
    "import transformers\n",
    "transformers.__version__\n",
    "```\n",
    "\n",
    "Run\n",
    "\n",
    "```\n",
    "4.18.0\n",
    "```\n",
    "\n",
    "<br><br>\n",
    "\n",
    "\n",
    "## 一、情感分析\n",
    "\n",
    "金融文本情绪可以调动管理者、信息中介和投资者的观点和意见, 因此分析金融文本情感(情绪)是有价值的。 FinBERT-Sentiment 是一个 FinBERT 模型，它根据标准普尔 500 家公司的分析师报告中的 10,000 个手动注释的句子进行了Fine-tune(微调)。\n",
    "\n",
    ">Fine-Tune微调 是 深度学习的一种语言处理技术，可以在前人（已有）的语言模型文件基础上加入少量新场景的文本数据进行更新训练，生成出新场景的语言模型。\n",
    "\n",
    "- **输入**：金融文本。\n",
    "- **输出**：Positive, Neutral or Negative.\n",
    "\n"
   ]
  },
  {
   "cell_type": "code",
   "execution_count": 1,
   "metadata": {},
   "outputs": [
    {
     "data": {
      "application/vnd.jupyter.widget-view+json": {
       "model_id": "904a1a13e87d403dbb9590e1611566ae",
       "version_major": 2,
       "version_minor": 0
      },
      "text/plain": [
       "Downloading:   0%|          | 0.00/533 [00:00<?, ?B/s]"
      ]
     },
     "metadata": {},
     "output_type": "display_data"
    },
    {
     "name": "stderr",
     "output_type": "stream",
     "text": [
      "c:\\Users\\Deng\\anaconda3\\lib\\site-packages\\huggingface_hub\\file_download.py:123: UserWarning: `huggingface_hub` cache-system uses symlinks by default to efficiently store duplicated files but your machine does not support them in C:\\Users\\Deng\\.cache\\huggingface\\hub. Caching files will still work but in a degraded version that might require more space on your disk. This warning can be disabled by setting the `HF_HUB_DISABLE_SYMLINKS_WARNING` environment variable. For more details, see https://huggingface.co/docs/huggingface_hub/how-to-cache#limitations.\n",
      "To support symlinks on Windows, you either need to activate Developer Mode or to run Python as an administrator. In order to see activate developer mode, see this article: https://docs.microsoft.com/en-us/windows/apps/get-started/enable-your-device-for-development\n",
      "  warnings.warn(message)\n"
     ]
    },
    {
     "data": {
      "application/vnd.jupyter.widget-view+json": {
       "model_id": "d6dc87995972421e929741bedf261e98",
       "version_major": 2,
       "version_minor": 0
      },
      "text/plain": [
       "Downloading:   0%|          | 0.00/439M [00:00<?, ?B/s]"
      ]
     },
     "metadata": {},
     "output_type": "display_data"
    },
    {
     "data": {
      "application/vnd.jupyter.widget-view+json": {
       "model_id": "61e357c5c3c0442da5daf76d50916555",
       "version_major": 2,
       "version_minor": 0
      },
      "text/plain": [
       "Downloading:   0%|          | 0.00/226k [00:00<?, ?B/s]"
      ]
     },
     "metadata": {},
     "output_type": "display_data"
    }
   ],
   "source": [
    "from transformers import BertTokenizer, BertForSequenceClassification, pipeline\n",
    "\n",
    "#首次运行，因为会下载FinBERT模型，耗时会比较久\n",
    "senti_finbert = BertForSequenceClassification.from_pretrained('yiyanghkust/finbert-tone',num_labels=3)\n",
    "senti_tokenizer = BertTokenizer.from_pretrained('yiyanghkust/finbert-tone')\n",
    "senti_nlp = pipeline(\"text-classification\", model=senti_finbert, tokenizer=senti_tokenizer)"
   ]
  },
  {
   "cell_type": "code",
   "execution_count": 2,
   "metadata": {},
   "outputs": [
    {
     "data": {
      "text/plain": [
       "[{'label': 'Positive', 'score': 1.0},\n",
       " {'label': 'Negative', 'score': 0.9952379465103149},\n",
       " {'label': 'Neutral', 'score': 0.9979718327522278}]"
      ]
     },
     "execution_count": 2,
     "metadata": {},
     "output_type": "execute_result"
    }
   ],
   "source": [
    "# 待分析的文本数据\n",
    "senti_results = senti_nlp(['growth is strong and we have plenty of liquidity.', \n",
    "                           'there is a shortage of capital, and we need extra financing.',\n",
    "                           'formulation patents might protect Vasotec to a limited extent.'])\n",
    "senti_results"
   ]
  },
  {
   "cell_type": "markdown",
   "metadata": {},
   "source": [
    "\n",
    "<br><br>\n",
    "\n",
    "## 二、ESG分类\n",
    "ESG 分析可以帮助投资者确定企业的长期可持续性并识别相关风险。 FinBERT-ESG 是一个 FinBERT 模型，根据来自公司 ESG 报告和年度报告的 2,000 个手动注释句子进行微调。\n",
    "\n",
    "- **输入**：金融文本。\n",
    "- **输出**：Environmental, Social, Governance or None."
   ]
  },
  {
   "cell_type": "code",
   "execution_count": 3,
   "metadata": {},
   "outputs": [
    {
     "data": {
      "application/vnd.jupyter.widget-view+json": {
       "model_id": "7f6466d4ce384252b6e5b6bb93b45d3a",
       "version_major": 2,
       "version_minor": 0
      },
      "text/plain": [
       "Downloading:   0%|          | 0.00/781 [00:00<?, ?B/s]"
      ]
     },
     "metadata": {},
     "output_type": "display_data"
    },
    {
     "data": {
      "application/vnd.jupyter.widget-view+json": {
       "model_id": "ea8b1b68a77a455b89d79c06bf9c9ef4",
       "version_major": 2,
       "version_minor": 0
      },
      "text/plain": [
       "Downloading:   0%|          | 0.00/439M [00:00<?, ?B/s]"
      ]
     },
     "metadata": {},
     "output_type": "display_data"
    },
    {
     "data": {
      "application/vnd.jupyter.widget-view+json": {
       "model_id": "f07dcd679acf42c6abc235b386964c1a",
       "version_major": 2,
       "version_minor": 0
      },
      "text/plain": [
       "Downloading:   0%|          | 0.00/226k [00:00<?, ?B/s]"
      ]
     },
     "metadata": {},
     "output_type": "display_data"
    }
   ],
   "source": [
    "from transformers import BertTokenizer, BertForSequenceClassification, pipeline\n",
    "\n",
    "esg_finbert = BertForSequenceClassification.from_pretrained('yiyanghkust/finbert-esg',num_labels=4)\n",
    "esg_tokenizer = BertTokenizer.from_pretrained('yiyanghkust/finbert-esg')\n",
    "esg_nlp = pipeline(\"text-classification\", model=esg_finbert, tokenizer=esg_tokenizer)"
   ]
  },
  {
   "cell_type": "code",
   "execution_count": 4,
   "metadata": {},
   "outputs": [
    {
     "data": {
      "text/plain": [
       "[{'label': 'Environmental', 'score': 0.9805498719215393},\n",
       " {'label': 'Social', 'score': 0.9906041026115417},\n",
       " {'label': 'Governance', 'score': 0.6738430857658386},\n",
       " {'label': 'None', 'score': 0.9960240125656128}]"
      ]
     },
     "execution_count": 4,
     "metadata": {},
     "output_type": "execute_result"
    }
   ],
   "source": [
    "esg_results = esg_nlp(['Managing and working to mitigate the impact our operations have on the environment is a core element of our business.',\n",
    "                      'Rhonda has been volunteering for several years for a variety of charitable community programs.',\n",
    "                      'Cabot\\'s annual statements are audited annually by an independent registered public accounting firm.',\n",
    "                      'As of December 31, 2012, the 2011 Term Loan had a principal balance of $492.5 million.'])\n",
    "\n",
    "esg_results"
   ]
  },
  {
   "cell_type": "markdown",
   "metadata": {},
   "source": [
    "<br><br>\n",
    "\n",
    "## 三、FLS识别\n",
    "\n",
    "**前瞻性陈述 (FLS)** 告知投资者经理人对公司未来事件或结果的信念和意见。 从公司报告中识别前瞻性陈述可以帮助投资者进行财务分析。 FinBERT-FLS 是一个 FinBERT 模型，它基于罗素 3000 家公司年报的管理讨论和分析部分的 3,500 个手动注释的句子进行了微调。\n",
    "\n",
    "- **输入**：金融文本。\n",
    "- **输出**：Specific-FLS(特定 FLS) , Non-specific FLS(非特定 FLS),  Not-FLS(非 FLS)。"
   ]
  },
  {
   "cell_type": "code",
   "execution_count": 5,
   "metadata": {},
   "outputs": [
    {
     "data": {
      "application/vnd.jupyter.widget-view+json": {
       "model_id": "3092813a95464a9492fe3fd51b4b25eb",
       "version_major": 2,
       "version_minor": 0
      },
      "text/plain": [
       "Downloading:   0%|          | 0.00/761 [00:00<?, ?B/s]"
      ]
     },
     "metadata": {},
     "output_type": "display_data"
    },
    {
     "data": {
      "application/vnd.jupyter.widget-view+json": {
       "model_id": "93bdffa68c564be0b60759e4b4617255",
       "version_major": 2,
       "version_minor": 0
      },
      "text/plain": [
       "Downloading:   0%|          | 0.00/439M [00:00<?, ?B/s]"
      ]
     },
     "metadata": {},
     "output_type": "display_data"
    },
    {
     "data": {
      "application/vnd.jupyter.widget-view+json": {
       "model_id": "348f466e2f304d10b892d5ea74a5b551",
       "version_major": 2,
       "version_minor": 0
      },
      "text/plain": [
       "Downloading:   0%|          | 0.00/226k [00:00<?, ?B/s]"
      ]
     },
     "metadata": {},
     "output_type": "display_data"
    }
   ],
   "source": [
    "from transformers import BertTokenizer, BertForSequenceClassification, pipeline\n",
    "\n",
    "fls_finbert = BertForSequenceClassification.from_pretrained('yiyanghkust/finbert-fls',num_labels=3)\n",
    "fls_tokenizer = BertTokenizer.from_pretrained('yiyanghkust/finbert-fls')\n",
    "\n",
    "fls_nlp = pipeline(\"text-classification\", model=fls_finbert, tokenizer=fls_tokenizer)"
   ]
  },
  {
   "cell_type": "code",
   "execution_count": 6,
   "metadata": {},
   "outputs": [
    {
     "data": {
      "text/plain": [
       "[{'label': 'Specific FLS', 'score': 0.7727874517440796},\n",
       " {'label': 'Not FLS', 'score': 0.9905241131782532},\n",
       " {'label': 'Non-specific FLS', 'score': 0.975904107093811}]"
      ]
     },
     "execution_count": 6,
     "metadata": {},
     "output_type": "execute_result"
    }
   ],
   "source": [
    "fls_results = fls_nlp(['we expect the age of our fleet to enhance availability and reliability due to reduced downtime for repairs.',\n",
    "                      'on an equivalent unit of production basis, general and administrative expenses declined 24 percent from 1994 to $.67 per boe.',\n",
    "                      'we will continue to assess the need for a valuation allowance against deferred tax assets considering all available evidence obtained in future reporting periods.'])\n",
    "\n",
    "\n",
    "fls_results"
   ]
  },
  {
   "cell_type": "markdown",
   "metadata": {},
   "source": [
    "<br><br>\n",
    "\n",
    "## 文档及引用说明\n",
    "\n",
    "- 文档github地址 https://github.com/yya518/FinBERT \n",
    "\n",
    "<br>\n",
    "\n",
    "\n",
    "```\n",
    "@misc{yang2020finbert,\n",
    "    title={FinBERT: A Pretrained Language Model for Financial Communications},\n",
    "    author={Yi Yang and Mark Christopher Siy UY and Allen Huang},\n",
    "    year={2020},\n",
    "    eprint={2006.08097},\n",
    "    archivePrefix={arXiv},\n",
    "    }\n",
    "```\n"
   ]
  }
 ],
 "metadata": {
  "kernelspec": {
   "display_name": "Python 3 (ipykernel)",
   "language": "python",
   "name": "python3"
  },
  "language_info": {
   "codemirror_mode": {
    "name": "ipython",
    "version": 3
   },
   "file_extension": ".py",
   "mimetype": "text/x-python",
   "name": "python",
   "nbconvert_exporter": "python",
   "pygments_lexer": "ipython3",
   "version": "3.9.12"
  },
  "toc": {
   "base_numbering": 1,
   "nav_menu": {},
   "number_sections": false,
   "sideBar": true,
   "skip_h1_title": false,
   "title_cell": "Table of Contents",
   "title_sidebar": "Contents",
   "toc_cell": false,
   "toc_position": {},
   "toc_section_display": true,
   "toc_window_display": false
  },
  "vscode": {
   "interpreter": {
    "hash": "39efd68f93e60613a22adb0a24f8974eb44aba5452699b12e52bf7b8f47c9669"
   }
  }
 },
 "nbformat": 4,
 "nbformat_minor": 2
}
