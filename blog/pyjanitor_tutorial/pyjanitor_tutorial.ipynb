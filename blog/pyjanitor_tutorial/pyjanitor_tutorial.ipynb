{
 "cells": [
  {
   "cell_type": "markdown",
   "metadata": {},
   "source": [
    "pyjanitor是参照R语言janitor包语法，为Python量身定制的数据清洗包,即可清洗数据，又可让代码简洁干净。\n",
    "\n",
    "## 安装"
   ]
  },
  {
   "cell_type": "code",
   "execution_count": null,
   "metadata": {},
   "outputs": [],
   "source": [
    "\n",
    "!pip3 install pyjanitor\n"
   ]
  },
  {
   "cell_type": "markdown",
   "metadata": {},
   "source": [
    "## 为什么用janitor？\n",
    "数据预处理通常由一系列步骤组成，这些步骤涉及将原始数据转换为可理解/可用的格式。这一系列的步骤需要按照一定的顺序运行才能成功。我们以基础数据文件为起点，对其执行操作，例如删除空行/空行、用其他值替换它们、添加/重命名/删除数据列、过滤行等。更正式地说，这些步骤以及它们的关系和依赖关系通常被称为有向无环图 (DAG)。\n",
    "\n",
    "pandas API 对 Python 数据科学生态系统非常宝贵，它实现了方法子集的方法链作为 API 的一部分。例如，重置索引 (.reset_index())、删除空值 (.dropna()) 等都是通过适当的 pd.DataFrame 方法调用来完成的。\n",
    "\n",
    "受 R 统计语言生态系统 dplyr 包的易用性和表达能力的启发，我们将 pyjanitor 开发为语法包，用于为 Pandas 用户表达数据处理 DAG。\n",
    "\n",
    "为了实现这一点，我们需要调用声明式的操作 替换为允许 逻辑顺序的方法链。让我们看看下面带注释的示例。首先，这里是数据清理路径的文字描述：\n",
    "\n",
    "1. 创建一个dataframe。\n",
    "2. 删除一列。\n",
    "3. 删除两个特定列中具有空值的行。\n",
    "4. 重命名另外两列。\n",
    "5. 添加一个新列。\n",
    "\n",
    "让我们导入一些库并从本示例的一些示例数据开始："
   ]
  },
  {
   "cell_type": "code",
   "execution_count": 2,
   "metadata": {},
   "outputs": [],
   "source": [
    "# Libraries\n",
    "import numpy as np\n",
    "import pandas as pd\n",
    "import janitor\n",
    "\n",
    "# Sample Data curated for this example\n",
    "company_sales = {\n",
    "    'SalesMonth': ['Jan', 'Feb', 'Mar', 'April'],\n",
    "    'Company1': [150.0, 200.0, 300.0, 400.0],\n",
    "    'Company2': [180.0, 250.0, np.nan, 500.0],\n",
    "    'Company3': [400.0, 500.0, 600.0, 675.0]\n",
    "}"
   ]
  },
  {
   "cell_type": "markdown",
   "metadata": {},
   "source": [
    "## 常见的Pandas实现方式\n",
    "\n",
    "下面是传统的Pandas方式"
   ]
  },
  {
   "cell_type": "code",
   "execution_count": null,
   "metadata": {},
   "outputs": [],
   "source": [
    "# The Pandas Way\n",
    "\n",
    "# 1. 创建一个dataframe\n",
    "df = pd.DataFrame(company_sales)\n",
    "\n",
    "# 2.删除一列。 Say 'Company1'\n",
    "del df['Company1']\n",
    "\n",
    "# 3. 删除两个特定列中具有空值的行。 'Company2' and 'Company3'\n",
    "df = df.dropna(subset=['Company2', 'Company3'])\n",
    "\n",
    "# 4. 重命名另外两列。 将'Company2' 改为 'Amazon'； 将 'Company3' 改为 'Facebook'\n",
    "df = df.rename({'Company2': 'Amazon',\n",
    "                'Company3': 'Facebook'},\n",
    "               axis=1)\n",
    "\n",
    "# 5. 添加一个新列 'Google'\n",
    "df['Google'] = [450.0, 550.0, 800.0]\n",
    "\n",
    "df"
   ]
  },
  {
   "cell_type": "markdown",
   "metadata": {},
   "source": [
    "|    | SalesMonth   |   Amazon |   Facebook |   Google |\n",
    "|---:|:-------------|---------:|-----------:|---------:|\n",
    "|  0 | Jan          |      180 |        400 |      450 |\n",
    "|  1 | Feb          |      250 |        500 |      550 |\n",
    "|  3 | April        |      500 |        675 |      800 |"
   ]
  },
  {
   "cell_type": "markdown",
   "metadata": {},
   "source": [
    "## 稍微高级一点Pandas实现方式\n",
    "稍微高级一点的用户可能会利用函数式 API："
   ]
  },
  {
   "cell_type": "code",
   "execution_count": null,
   "metadata": {},
   "outputs": [],
   "source": [
    "df = (\n",
    "    pd.DataFrame(company_sales)\n",
    "    .drop(columns=\"Company1\")\n",
    "    .dropna(subset=[\"Company2\", \"Company3\"])\n",
    "    .rename(columns={\"Company2\": \"Amazon\", \"Company3\":\"Facebook\"})\n",
    "    .assign(Google=[450.0, 550.0, 800.0])\n",
    ")\n",
    "\n",
    "df"
   ]
  },
  {
   "cell_type": "markdown",
   "metadata": {},
   "source": [
    "|    | SalesMonth   |   Amazon |   Facebook |   Google |\n",
    "|---:|:-------------|---------:|-----------:|---------:|\n",
    "|  0 | Jan          |      180 |        400 |      450 |\n",
    "|  1 | Feb          |      250 |        500 |      550 |\n",
    "|  3 | April        |      500 |        675 |      800 |"
   ]
  },
  {
   "cell_type": "markdown",
   "metadata": {},
   "source": [
    "## PyJanitor实现方式\n",
    "借助pyjanitor库，我们可以使用方法名链式代码"
   ]
  },
  {
   "cell_type": "code",
   "execution_count": null,
   "metadata": {},
   "outputs": [],
   "source": [
    "df = (\n",
    "    pd.DataFrame(company_sales)\n",
    "    .remove_columns(['Company1'])\n",
    "    .dropna(subset=[\"Company2\", \"Company3\"])\n",
    "    .rename_column(\"Company2\", \"Amazon\")\n",
    "    .rename_column(\"Company3\", \"Facebook\")\n",
    "    .add_column(\"Google\", [450.0, 550.0, 800.0])\n",
    "\n",
    ")\n",
    "\n",
    "df"
   ]
  },
  {
   "cell_type": "markdown",
   "metadata": {},
   "source": [
    "|    | SalesMonth   |   Amazon |   Facebook |   Google |\n",
    "|---:|:-------------|---------:|-----------:|---------:|\n",
    "|  0 | Jan          |      180 |        400 |      450 |\n",
    "|  1 | Feb          |      250 |        500 |      550 |\n",
    "|  3 | April        |      500 |        675 |      800 |"
   ]
  },
  {
   "cell_type": "markdown",
   "metadata": {},
   "source": [
    "因此，pyjanitor 的词源与“清洁度”有双重关系。 首先，它是关于使用方便的数据清理例程扩展 Pandas。 其次，它是关于为常见的 Pandas 例程提供更清晰、方法链接、基于动词的 API。\n",
    "\n"
   ]
  },
  {
   "cell_type": "markdown",
   "metadata": {},
   "source": [
    "## pyjanitor更多功能\n",
    "- 清理列名（多索引是可能的！）\n",
    "- 删除空行和列\n",
    "- 识别重复条目\n",
    "- 将列编码为分类\n",
    "- 将数据拆分为特征和目标（用于机器学习）\n",
    "- 添加、删除和重命名列\n",
    "- 将多列合并为一列\n",
    "- 日期转换（从 matlab、excel、unix）到 Python 日期时间格式\n",
    "- 将具有分隔的分类值的单个列扩展为虚拟编码变量\n",
    "- 基于分隔符连接和分离列\n",
    "- 用于根据列上的查询过滤数据框的语法糖\n",
    "- 金融、生物、化学、工程和 pyspark 的实验子模块"
   ]
  }
 ],
 "metadata": {
  "kernelspec": {
   "display_name": "Python 3 (ipykernel)",
   "language": "python",
   "name": "python3"
  },
  "language_info": {
   "codemirror_mode": {
    "name": "ipython",
    "version": 3
   },
   "file_extension": ".py",
   "mimetype": "text/x-python",
   "name": "python",
   "nbconvert_exporter": "python",
   "pygments_lexer": "ipython3",
   "version": "3.9.7"
  },
  "toc": {
   "base_numbering": 1,
   "nav_menu": {},
   "number_sections": true,
   "sideBar": true,
   "skip_h1_title": false,
   "title_cell": "Table of Contents",
   "title_sidebar": "Contents",
   "toc_cell": false,
   "toc_position": {},
   "toc_section_display": true,
   "toc_window_display": false
  }
 },
 "nbformat": 4,
 "nbformat_minor": 4
}
