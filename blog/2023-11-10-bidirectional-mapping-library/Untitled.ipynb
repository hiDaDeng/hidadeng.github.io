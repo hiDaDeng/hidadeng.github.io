{
 "cells": [
  {
   "cell_type": "code",
   "execution_count": 1,
   "id": "350d0189",
   "metadata": {},
   "outputs": [
    {
     "name": "stdout",
     "output_type": "stream",
     "text": [
      "\u001b[33mDEPRECATION: Loading egg at /Library/Frameworks/Python.framework/Versions/3.11/lib/python3.11/site-packages/python_docx-0.8.11-py3.11.egg is deprecated. pip 23.3 will enforce this behaviour change. A possible replacement is to use pip for package installation..\u001b[0m\u001b[33m\n",
      "\u001b[0m\u001b[33mDEPRECATION: Loading egg at /Library/Frameworks/Python.framework/Versions/3.11/lib/python3.11/site-packages/pdfdocx-1.7-py3.11.egg is deprecated. pip 23.3 will enforce this behaviour change. A possible replacement is to use pip for package installation..\u001b[0m\u001b[33m\n",
      "\u001b[0m\u001b[33mDEPRECATION: Loading egg at /Library/Frameworks/Python.framework/Versions/3.11/lib/python3.11/site-packages/lxml-4.9.3-py3.11-macosx-10.9-universal2.egg is deprecated. pip 23.3 will enforce this behaviour change. A possible replacement is to use pip for package installation..\u001b[0m\u001b[33m\n",
      "\u001b[0mLooking in indexes: https://mirrors.aliyun.com/pypi/simple/\n",
      "Collecting bidict\n",
      "  Downloading https://mirrors.aliyun.com/pypi/packages/b5/82/ce0b6380f35f49d3fe687979a324c342cfa3588380232f3801db9dd62f9e/bidict-0.22.1-py3-none-any.whl (35 kB)\n",
      "Installing collected packages: bidict\n",
      "Successfully installed bidict-0.22.1\n",
      "\n",
      "\u001b[1m[\u001b[0m\u001b[34;49mnotice\u001b[0m\u001b[1;39;49m]\u001b[0m\u001b[39;49m A new release of pip is available: \u001b[0m\u001b[31;49m23.2.1\u001b[0m\u001b[39;49m -> \u001b[0m\u001b[32;49m23.3.1\u001b[0m\n",
      "\u001b[1m[\u001b[0m\u001b[34;49mnotice\u001b[0m\u001b[1;39;49m]\u001b[0m\u001b[39;49m To update, run: \u001b[0m\u001b[32;49mpip3 install --upgrade pip\u001b[0m\n"
     ]
    }
   ],
   "source": [
    "!pip3 install bidict"
   ]
  },
  {
   "cell_type": "code",
   "execution_count": 4,
   "id": "fe43ab18",
   "metadata": {},
   "outputs": [
    {
     "name": "stdout",
     "output_type": "stream",
     "text": [
      "Huawei\n",
      "微软\n"
     ]
    }
   ],
   "source": [
    "from bidict import bidict\n",
    "\n",
    "test_data = bidict({\n",
    "   '华为': 'Huawei',\n",
    "   '比亚迪': 'BYD',\n",
    "   '吉利': 'Geely',\n",
    "   '微软': 'Microsoft',\n",
    "   '苹果': 'Apple'\n",
    "})\n",
    "\n",
    "print(test_data['华为'])\n",
    "print(test_data.inverse['Microsoft'])"
   ]
  },
  {
   "cell_type": "code",
   "execution_count": 5,
   "id": "1f372a12",
   "metadata": {},
   "outputs": [
    {
     "ename": "KeyError",
     "evalue": "'三星'",
     "output_type": "error",
     "traceback": [
      "\u001b[0;31m---------------------------------------------------------------------------\u001b[0m",
      "\u001b[0;31mKeyError\u001b[0m                                  Traceback (most recent call last)",
      "Cell \u001b[0;32mIn[5], line 1\u001b[0m\n\u001b[0;32m----> 1\u001b[0m \u001b[43mtest_data\u001b[49m\u001b[43m[\u001b[49m\u001b[38;5;124;43m'\u001b[39;49m\u001b[38;5;124;43m三星\u001b[39;49m\u001b[38;5;124;43m'\u001b[39;49m\u001b[43m]\u001b[49m\n",
      "File \u001b[0;32m/Library/Frameworks/Python.framework/Versions/3.11/lib/python3.11/site-packages/bidict/_base.py:523\u001b[0m, in \u001b[0;36mBidictBase.__getitem__\u001b[0;34m(self, key)\u001b[0m\n\u001b[1;32m    521\u001b[0m \u001b[38;5;28;01mdef\u001b[39;00m \u001b[38;5;21m__getitem__\u001b[39m(\u001b[38;5;28mself\u001b[39m, key: KT) \u001b[38;5;241m-\u001b[39m\u001b[38;5;241m>\u001b[39m VT:\n\u001b[1;32m    522\u001b[0m \u001b[38;5;250m    \u001b[39m\u001b[38;5;124;03m\"\"\"*x.__getitem__(key) ⟺ x[key]*\"\"\"\u001b[39;00m\n\u001b[0;32m--> 523\u001b[0m     \u001b[38;5;28;01mreturn\u001b[39;00m \u001b[38;5;28;43mself\u001b[39;49m\u001b[38;5;241;43m.\u001b[39;49m\u001b[43m_fwdm\u001b[49m\u001b[43m[\u001b[49m\u001b[43mkey\u001b[49m\u001b[43m]\u001b[49m\n",
      "\u001b[0;31mKeyError\u001b[0m: '三星'"
     ]
    }
   ],
   "source": [
    "test_data['三星']"
   ]
  },
  {
   "cell_type": "code",
   "execution_count": 7,
   "id": "651ceb69",
   "metadata": {},
   "outputs": [],
   "source": [
    "test_data.get('三星')"
   ]
  },
  {
   "cell_type": "code",
   "execution_count": 8,
   "id": "d6d6851b",
   "metadata": {},
   "outputs": [
    {
     "data": {
      "text/plain": [
       "'Huawei'"
      ]
     },
     "execution_count": 8,
     "metadata": {},
     "output_type": "execute_result"
    }
   ],
   "source": [
    "test_data['华为'] == 'HUAWEI'\n",
    "test_data['华为']"
   ]
  },
  {
   "cell_type": "code",
   "execution_count": 10,
   "id": "9527625a",
   "metadata": {},
   "outputs": [],
   "source": [
    "test_data.update(华为='HUAWEI')"
   ]
  },
  {
   "cell_type": "code",
   "execution_count": 11,
   "id": "b0a4467f",
   "metadata": {},
   "outputs": [
    {
     "data": {
      "text/plain": [
       "bidict({'华为': 'HUAWEI', '比亚迪': 'BYD', '吉利': 'Geely', '微软': 'Microsoft', '苹果': 'Apple'})"
      ]
     },
     "execution_count": 11,
     "metadata": {},
     "output_type": "execute_result"
    }
   ],
   "source": [
    "test_data"
   ]
  },
  {
   "cell_type": "code",
   "execution_count": 12,
   "id": "e3a1e952",
   "metadata": {},
   "outputs": [],
   "source": [
    "test_data.update(三星='Samsung')"
   ]
  },
  {
   "cell_type": "code",
   "execution_count": 13,
   "id": "c984be93",
   "metadata": {},
   "outputs": [
    {
     "data": {
      "text/plain": [
       "bidict({'华为': 'HUAWEI', '比亚迪': 'BYD', '吉利': 'Geely', '微软': 'Microsoft', '苹果': 'Apple', '三星': 'Samsung'})"
      ]
     },
     "execution_count": 13,
     "metadata": {},
     "output_type": "execute_result"
    }
   ],
   "source": [
    "test_data"
   ]
  },
  {
   "cell_type": "code",
   "execution_count": 16,
   "id": "68914693",
   "metadata": {},
   "outputs": [
    {
     "data": {
      "text/plain": [
       "'Samsung'"
      ]
     },
     "execution_count": 16,
     "metadata": {},
     "output_type": "execute_result"
    }
   ],
   "source": [
    "test_data.pop('三星')"
   ]
  },
  {
   "cell_type": "code",
   "execution_count": 17,
   "id": "d57b9e81",
   "metadata": {},
   "outputs": [
    {
     "data": {
      "text/plain": [
       "bidict({'华为': 'HUAWEI', '比亚迪': 'BYD', '吉利': 'Geely', '微软': 'Microsoft', '苹果': 'Apple'})"
      ]
     },
     "execution_count": 17,
     "metadata": {},
     "output_type": "execute_result"
    }
   ],
   "source": [
    "test_data"
   ]
  },
  {
   "cell_type": "code",
   "execution_count": null,
   "id": "ab1f8519",
   "metadata": {},
   "outputs": [],
   "source": []
  }
 ],
 "metadata": {
  "kernelspec": {
   "display_name": "Python 3 (ipykernel)",
   "language": "python",
   "name": "python3"
  },
  "language_info": {
   "codemirror_mode": {
    "name": "ipython",
    "version": 3
   },
   "file_extension": ".py",
   "mimetype": "text/x-python",
   "name": "python",
   "nbconvert_exporter": "python",
   "pygments_lexer": "ipython3",
   "version": "3.11.5"
  }
 },
 "nbformat": 4,
 "nbformat_minor": 5
}
