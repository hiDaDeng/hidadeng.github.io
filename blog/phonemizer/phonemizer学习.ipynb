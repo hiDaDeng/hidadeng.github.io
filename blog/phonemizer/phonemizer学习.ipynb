{
 "cells": [
  {
   "cell_type": "markdown",
   "metadata": {},
   "source": [
    "**音素**是构成语音的基本声音，音节和单词建立在音节上。在与**语音**和**语言**处理相关的各种应用（例如**文本到语音系统**）中，将文本从其拼写形式转录为语音字母表是一项重要要求。 \n",
    "\n",
    "Phonemizer 是一个精确寻址的 Python 包, 它将文本从其拼写表示转录为语音表示。 该包设计用户友好的，并公开了一个高级音素化函数， 支持大约100种不同的语言。phonemizer 使用的默认后端是 eSpeak\n",
    "（Dunn & Vitolins，2019 年），一种基于语言专业知识和手写转录规则的文本转语音软件。它将文本转录成国际音标，并支持一百多种语言。使用 MBROLA 声音（Tits & Vitolins，2019），eSpeak 后端可用于大约 35 种语言，以 SAMPA 计算机可读语音字母表转录文本。 \n",
    "\n",
    "## 安装\n",
    "安装phonemizer前需要配置espeak-ng，\n",
    "- win https://github.com/espeak-ng/espeak-ng/releases下载对应的msi文件点击安装\n",
    "- mac 首先配置好homebrew，之后命令行brew install espeak\n",
    "```\n",
    "pip3 install phonemizer\n",
    "```"
   ]
  },
  {
   "cell_type": "markdown",
   "metadata": {},
   "source": [
    "<br>\n",
    "\n",
    "## 音素化phonemize\n",
    "\n",
    "from phonemizer import phonemize\n",
    "\n",
    "phonemize(text, language='en-us', prepend_text=False, preserve_punctuation=False, with_stress=False, njobs=1)\n",
    "\n",
    "- text 文本列表\n",
    "- language 语言。\"en-us\"美国英语， \"zh\"中文\n",
    "- prepend_text 输出结果保留输入的文本，默认False\n",
    "- preserve_punctuation 输出结果保留标点符号，默认False\n",
    "- with_stress 标记重读，默认False\n",
    "- njobs 并行运算核数，默认使用cpu的1个核。"
   ]
  },
  {
   "cell_type": "code",
   "execution_count": 37,
   "metadata": {},
   "outputs": [
    {
     "data": {
      "text/plain": [
       "['həlˈoʊ maɪ nˈeɪm ɪz dˈeɪvɪd ', 'nˈaɪs tə mˈiːt juː ']"
      ]
     },
     "execution_count": 37,
     "metadata": {},
     "output_type": "execute_result"
    }
   ],
   "source": [
    "from phonemizer import phonemize\n",
    "\n",
    "texts = ['hello, my name is david', \n",
    "        'nice to meet you!']\n",
    "\n",
    "# Do this:\n",
    "phonemized =  phonemize(texts, language='en-us', with_stress=True)\n",
    "phonemized"
   ]
  },
  {
   "cell_type": "markdown",
   "metadata": {},
   "source": [
    "但上面的用法速度较慢， 更高效的写法应该为"
   ]
  },
  {
   "cell_type": "code",
   "execution_count": 34,
   "metadata": {},
   "outputs": [
    {
     "name": "stdout",
     "output_type": "stream",
     "text": [
      "142 µs ± 851 ns per loop (mean ± std. dev. of 7 runs, 10000 loops each)\n"
     ]
    }
   ],
   "source": [
    "from phonemizer.backend import EspeakBackend\n",
    "backend = EspeakBackend(language='en-us')\n",
    "\n",
    "texts = ['hello, my name is david', \n",
    "         'nice to meet you!']\n",
    "\n",
    "phonemized = backend.phonemize(texts) \n",
    "phonemized"
   ]
  },
  {
   "cell_type": "markdown",
   "metadata": {},
   "source": [
    "给每个单词构造音素，输出结果为字典样式"
   ]
  },
  {
   "cell_type": "code",
   "execution_count": 29,
   "metadata": {},
   "outputs": [
    {
     "data": {
      "text/plain": [
       "{'it': 'ɪ t',\n",
       " 'amused': 'ɐ m j uː s d',\n",
       " 'him': 'h ɪ m',\n",
       " 'to': 't uː',\n",
       " 'think': 'θ ɪ ŋ k',\n",
       " 'that': 'ð æ t',\n",
       " 'they': 'ð eɪ',\n",
       " 'were': 'w ɜː',\n",
       " 'probably': 'p ɹ ɑː b ə b l i',\n",
       " 'talking': 't ɔː k ɪ ŋ',\n",
       " 'about': 'ɐ b aʊ t',\n",
       " 'at': 'æ t',\n",
       " 'very': 'v ɛ ɹ i',\n",
       " 'moment': 'm oʊ m ə n t'}"
      ]
     },
     "execution_count": 29,
     "metadata": {},
     "output_type": "execute_result"
    }
   ],
   "source": [
    "from phonemizer.backend import EspeakBackend\n",
    "from phonemizer.punctuation import Punctuation\n",
    "from phonemizer.separator import Separator\n",
    "backend = EspeakBackend('en-us')\n",
    "\n",
    "text = 'It amused him to think that they were probably talking about him at that very moment'\n",
    "words = [word for word in text.lower().split(' ')]\n",
    "\n",
    "# 忽略词语边界，音素之间用空格间隔\n",
    "separator = Separator(phone=' ', word=None)\n",
    "\n",
    "lexicon = {word: backend.phonemize([word], separator=separator, strip=True)[0]\n",
    "           for word in words}\n",
    "\n",
    "lexicon"
   ]
  },
  {
   "cell_type": "markdown",
   "metadata": {},
   "source": [
    "<br>\n",
    "\n",
    "\n",
    "## 中文的音素化"
   ]
  },
  {
   "cell_type": "code",
   "execution_count": 39,
   "metadata": {},
   "outputs": [
    {
     "data": {
      "text/plain": [
       "['ni2 xɑu2 wo2 tə1 miɜŋ tsi̪5 s.i.5 tɑ5 wei5 ',\n",
       " 'xə2n kɑu5 ɕi5ŋ ʐə5n s.i.1 ni2 ']"
      ]
     },
     "execution_count": 39,
     "metadata": {},
     "output_type": "execute_result"
    }
   ],
   "source": [
    "text_zhs = ['你好我的名字是大卫', \n",
    "            '很高兴认识你']\n",
    "\n",
    "phonemized_zhs = phonemize(text_zhs, language='zh')\n",
    "phonemized_zhs"
   ]
  },
  {
   "cell_type": "code",
   "execution_count": 32,
   "metadata": {},
   "outputs": [
    {
     "data": {
      "text/plain": [
       "{'想': 'ɕ iɑ2 ŋ ',\n",
       " '到': 't ɑu5 ',\n",
       " '他': 'th ɑ5 ',\n",
       " '们': 'm ə1 n ',\n",
       " '可': 'kh o2 ',\n",
       " '能': 'n əɜ ŋ ',\n",
       " '在': 'ts ai5 ',\n",
       " '那': 'n ɑ5 ',\n",
       " '个': 'k o1 ',\n",
       " '时': 's. i.ɜ ',\n",
       " '候': 'x ou5 ',\n",
       " '谈': 'th aɜ n ',\n",
       " '论': 'l uə5 n ',\n",
       " '觉': 'tɕ yɛɜ ',\n",
       " '得': 't ə1 ',\n",
       " '好': 'x ɑu2 ',\n",
       " '笑': 'ɕ j ɑu5 '}"
      ]
     },
     "execution_count": 32,
     "metadata": {},
     "output_type": "execute_result"
    }
   ],
   "source": [
    "from phonemizer.backend import EspeakBackend\n",
    "from phonemizer.punctuation import Punctuation\n",
    "from phonemizer.separator import Separator\n",
    "import re\n",
    "\n",
    "\n",
    "text = '想到他们可能在那个时候谈论他，他觉得好笑'\n",
    "words = re.findall('[\\u4e00-\\u9fa5]', text)\n",
    "\n",
    "\n",
    "backend = EspeakBackend('zh')\n",
    "\n",
    "separator = Separator(phone=' ', word=None)\n",
    "\n",
    "# 构建每个汉字一个对应的音素表达，输出结果为字典样式\n",
    "lexicon = {word: backend.phonemize([word], separator=separator, strip=True)[0]\n",
    "           for word in words}\n",
    "\n",
    "lexicon"
   ]
  },
  {
   "cell_type": "markdown",
   "metadata": {},
   "source": [
    "<br>\n",
    "\n",
    "\n",
    "## 引用格式\n",
    "\n",
    "Bernard, M. and Titeux, H. (2021). Phonemizer: Text to phones transcription for multiple languages in python. Journal of Open Source Software, 6(68):3958.\n",
    "\n",
    "```tex\n",
    "@article{Bernard2021,\n",
    "  doi = {10.21105/joss.03958},\n",
    "  url = {https://doi.org/10.21105/joss.03958},\n",
    "  year = {2021},\n",
    "  publisher = {The Open Journal},\n",
    "  volume = {6},\n",
    "  number = {68},\n",
    "  pages = {3958},\n",
    "  author = {Mathieu Bernard and Hadrien Titeux},\n",
    "  title = {Phonemizer: Text to Phones Transcription for Multiple Languages in Python},\n",
    "  journal = {Journal of Open Source Software}\n",
    "}\n",
    "```"
   ]
  },
  {
   "cell_type": "code",
   "execution_count": null,
   "metadata": {},
   "outputs": [],
   "source": []
  }
 ],
 "metadata": {
  "kernelspec": {
   "display_name": "Python 3",
   "language": "python",
   "name": "python3"
  },
  "language_info": {
   "codemirror_mode": {
    "name": "ipython",
    "version": 3
   },
   "file_extension": ".py",
   "mimetype": "text/x-python",
   "name": "python",
   "nbconvert_exporter": "python",
   "pygments_lexer": "ipython3",
   "version": "3.7.5"
  },
  "toc": {
   "base_numbering": 1,
   "nav_menu": {},
   "number_sections": false,
   "sideBar": true,
   "skip_h1_title": false,
   "title_cell": "Table of Contents",
   "title_sidebar": "Contents",
   "toc_cell": false,
   "toc_position": {},
   "toc_section_display": true,
   "toc_window_display": false
  }
 },
 "nbformat": 4,
 "nbformat_minor": 4
}
