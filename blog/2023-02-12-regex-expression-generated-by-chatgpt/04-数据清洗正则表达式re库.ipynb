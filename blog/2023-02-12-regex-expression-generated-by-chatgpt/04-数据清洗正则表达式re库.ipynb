{
 "cells": [
  {
   "cell_type": "markdown",
   "metadata": {},
   "source": [
    "# 一、正则表达式中的符号\n",
    "\n",
    "按照符号的功能，我将其分为三类，一般情况下表达式都是由这三种符号组成的。\n",
    "\n",
    "### 1.1 正则字符\n",
    "|正则符号|描述|匹配自己时|\n",
    "|:---|:---|:---|\n",
    "|``\\``|\t转义字符。例如， 'n' 匹配字符 'n'。|``'\\n'``|\n",
    "|``( )``|标记一个子表达式的开始和结束位置。|``\\(   \\)``|\n",
    "|.|\t匹配除换行符 ``\\n`` 之外的任何单字符。|``\\. ``|\n",
    "|\\|| \\|左右两侧均可参与匹配|\n",
    "|\\d|匹配字符串中的单个数字||\n",
    "|a-zA-Z|匹配全部英文字符||\n",
    "|0-9|匹配全部数字||\n",
    "|``\\s``|匹配字符串中的``\\n``,``\\t``,``空格``||\n",
    "|``[]``| 中括号内任意正则符号均可参与匹配|``\\[   \\]``|\n",
    "|^|当在方括号表达式中使用，^对其后的正则表达式进行了反义表达。|``\\^``|\n",
    "\n",
    "\n",
    "### 1.2 限定字符\n",
    "\n",
    "|正则符号|描述|匹配自己时|\n",
    "|:---|:---|:---|\n",
    "|\\*|\t匹配前面的子表达式零次或多次。| ``\\*``|\n",
    "|?|\t匹配前面的子表达式零次或一次|\\\\?|\n",
    "|+|匹配前面的子表达式一次或多次。|``\\+``|\n",
    "|{m}|n 是一个非负整数。匹配确定的 m 次。|\n",
    "|{m,}|m 是一个非负整数。至少匹配m 次。|\n",
    "|{m, n}|\tm 和 n 均为非负整数，其中m <= n。最少匹配 m 次且最多匹配 n 次。|\n",
    "\n",
    "\n",
    "### 1.3 定位字符\n",
    "|正则符号|描述|匹配自己时|\n",
    "|:---|:---|:---|\n",
    "|^|匹配输入字符串的开始位置。|``\\^``|\n",
    "|$|匹配输入字符串的结尾位置|``\\$``|\n",
    "| \\b |匹配一个单词边界，即字与空格间的位置||\n",
    "| \\B|非单词边界匹配||\n"
   ]
  },
  {
   "cell_type": "markdown",
   "metadata": {},
   "source": [
    "# 二、re库常用方法\n",
    "\n",
    "regex 正则\n",
    "\n",
    "|re库常用函数|作用|\n",
    "|:---|:---|\n",
    "|``re.findall(pattern, string)``|根据pattern返回匹配结果（列表）|\n",
    "|``re.split(pattern, string)`` |使用pattern分割string，返回列表        \n",
    "|``re.sub(pattern, repl, string)``|使用repl替换string中的pattern|\n"
   ]
  },
  {
   "cell_type": "markdown",
   "metadata": {},
   "source": [
    "# 三、只需要掌握\n",
    "- 搜索引擎检索到自己需要的正则表达式\n",
    "- 最简单最好用表达式``(.*?)``\n",
    "\n",
    "\n",
    "在[正则表达式测试网站]( http://c.runoob.com/front-end/854 )验证自己的正则表达式\n",
    "\n",
    "\n",
    "### 3.1 检索找到自己需要的正则表达式\n",
    "比如我只需要中文，其余字符统统不要。\n",
    "\n",
    "【问题: 只保留中文的正则表达式Python】\n"
   ]
  },
  {
   "cell_type": "code",
   "execution_count": 1,
   "metadata": {},
   "outputs": [
    {
     "name": "stdout",
     "output_type": "stream",
     "text": [
      "今天下雨了不开心\n"
     ]
    }
   ],
   "source": [
    "#去除特殊字符，只保留汉子，字母、数字\n",
    "import re\n",
    "\n",
    "#【问题: 只保留中文的正则表达式Python】\n",
    "text = \"今天下雨了123！@#%@……￥@￥，不开心\"\n",
    "#去除不可见字符\n",
    "res=re.sub('[^\\u4e00-\\u9fa5]+', '',text)\n",
    "print(res)"
   ]
  },
  {
   "cell_type": "code",
   "execution_count": null,
   "metadata": {},
   "outputs": [],
   "source": []
  },
  {
   "cell_type": "code",
   "execution_count": 15,
   "metadata": {},
   "outputs": [
    {
     "name": "stdout",
     "output_type": "stream",
     "text": [
      "今天下雨了不开心\n"
     ]
    }
   ],
   "source": [
    "#去除特殊字符，只保留汉子，字母、数字\n",
    "import re\n",
    "\n",
    "#【问题: 只保留中文的正则表达式Python】\n",
    "text = \"今天下雨了123！@#%@……￥@￥，不开心\"\n",
    "#去除不可见字符\n",
    "res = re.findall('[\\u4e00-\\u9fa5]+', text)\n",
    "res = ''.join(res)\n",
    "print(res)"
   ]
  },
  {
   "cell_type": "code",
   "execution_count": null,
   "metadata": {},
   "outputs": [],
   "source": []
  },
  {
   "cell_type": "markdown",
   "metadata": {},
   "source": [
    "### 3.2 最简单最好用表达式(.*?)\n",
    "**pattern设计步骤：**\n",
    "\n",
    "**正则符号**组成**正则表达式**，用于**匹配**需要的字符。\n",
    "\n",
    "1. 找到重复的一致的规律\n",
    "2. 复制粘贴到pattern中\n",
    "3. 扣掉**想要的数据**\n",
    "4. 替换为``(.*?)``  或者``相应的正则符号表达式*``\n",
    "\n",
    "\n",
    "比如现在需要快速挖掘出intros中的姓名、籍贯和年龄"
   ]
  },
  {
   "cell_type": "code",
   "execution_count": 3,
   "metadata": {},
   "outputs": [
    {
     "name": "stdout",
     "output_type": "stream",
     "text": [
      "[('张三', '山东', '25')]\n",
      "[('李四', '河北', '28')]\n",
      "[('王五', '河南', '24')]\n"
     ]
    }
   ],
   "source": [
    "import re\n",
    "\n",
    "#过滤出想要的字段\n",
    "pattern = '我叫(.*?)，来自(.*?)，今年(.*?)岁。'\n",
    "\n",
    "intros = ['我叫张三，来自山东，今年25岁。',\n",
    "          '我叫李四，来自河北，今年28岁。',\n",
    "          '我叫王五，来自河南，今年24岁。']\n",
    "\n",
    "for intro in intros:\n",
    "    info = re.findall(pattern, intro)\n",
    "    print(info)"
   ]
  },
  {
   "cell_type": "markdown",
   "metadata": {},
   "source": [
    "**特别需要注意的是pattern中的(.*?)左右两侧必须有字符，否则匹配失败**"
   ]
  },
  {
   "cell_type": "code",
   "execution_count": 7,
   "metadata": {},
   "outputs": [
    {
     "name": "stdout",
     "output_type": "stream",
     "text": [
      "[('张三', '山东', '')]\n",
      "[('李四', '河北', '')]\n",
      "[('王五', '河南', '')]\n"
     ]
    }
   ],
   "source": [
    "import re\n",
    "\n",
    "#过滤出想要的字段\n",
    "pattern = '我叫(.*?)，来自(.*?)，今年(.*?)'\n",
    "\n",
    "intros = ['我叫张三，来自山东，今年25岁。',\n",
    "          '我叫李四，来自河北，今年28岁。',\n",
    "          '我叫王五，来自河南，今年24岁。']\n",
    "\n",
    "for intro in intros:\n",
    "    info = re.findall(pattern, intro)\n",
    "    print(info)"
   ]
  },
  {
   "cell_type": "code",
   "execution_count": null,
   "metadata": {},
   "outputs": [],
   "source": []
  },
  {
   "cell_type": "code",
   "execution_count": null,
   "metadata": {},
   "outputs": [],
   "source": []
  },
  {
   "cell_type": "markdown",
   "metadata": {},
   "source": [
    "# 四、案例 \n",
    "### 4.1 找出文本中出现的年份"
   ]
  },
  {
   "cell_type": "code",
   "execution_count": 9,
   "metadata": {},
   "outputs": [
    {
     "data": {
      "text/plain": [
       "['1991']"
      ]
     },
     "execution_count": 9,
     "metadata": {},
     "output_type": "execute_result"
    }
   ],
   "source": [
    "import re\n",
    "\n",
    "#pattern = '\\d{4}'  #digits\n",
    "pattern = '[0-9]{4}' \n",
    "\n",
    "string = \"\"\"Python是一门面向对象的编程语言，诞生于1991年22。\\\n",
    "目前以广泛应用在网站开发、游戏软件开发、数据采集、机器学习等多个领域。\\\n",
    "一般情况下Python是Java的20%，所以说人生苦短，我用Python。\"\"\"\n",
    "\n",
    "re.findall(pattern, string)"
   ]
  },
  {
   "cell_type": "markdown",
   "metadata": {},
   "source": [
    "### 4.2 re.split(pattern, string)\n",
    "断句"
   ]
  },
  {
   "cell_type": "code",
   "execution_count": 10,
   "metadata": {},
   "outputs": [
    {
     "data": {
      "text/plain": [
       "['Python是一门面向对象的编程语言',\n",
       " '诞生于1991年',\n",
       " '\\n目前以广泛应用在网站开发、游戏软件开发、数据采集、机器学习等多个领域',\n",
       " '一般情况下Python是Java的20%']"
      ]
     },
     "execution_count": 10,
     "metadata": {},
     "output_type": "execute_result"
    }
   ],
   "source": [
    "pattern = '。|；'  #或\n",
    "#pattern = '[。；]'  \n",
    "\n",
    "string = \"\"\"Python是一门面向对象的编程语言。诞生于1991年；\n",
    "目前以广泛应用在网站开发、游戏软件开发、数据采集、机器学习等多个领域。\\\n",
    "一般情况下Python是Java的20%\"\"\"\n",
    "\n",
    "res = re.split(pattern, string)\n",
    "res"
   ]
  },
  {
   "cell_type": "markdown",
   "metadata": {},
   "source": [
    "### 4.3 re.sub(pattern, repl, string)\n",
    "将数字替换为NUM"
   ]
  },
  {
   "cell_type": "code",
   "execution_count": 11,
   "metadata": {},
   "outputs": [
    {
     "data": {
      "text/plain": [
       "'Python是一门面向对象的编程语言，诞生于NUM年。一般情况下Python代码量是Java的NUM%，所以说人生苦短，我用Python。'"
      ]
     },
     "execution_count": 11,
     "metadata": {},
     "output_type": "execute_result"
    }
   ],
   "source": [
    "pattern = '\\d+'\n",
    "\n",
    "repl = 'NUM'\n",
    "\n",
    "string = \"\"\"Python是一门面向对象的编程语言，诞生于1991年。\\\n",
    "一般情况下Python代码量是Java的20%，所以说人生苦短，我用Python。\"\"\"\n",
    "\n",
    "re.sub(pattern, repl, string)"
   ]
  },
  {
   "cell_type": "markdown",
   "metadata": {},
   "source": [
    "\n",
    "### 4.4 . 统一表达/合并同类词\n",
    "将指代同一个主体的不同表达词语统一为同一个词"
   ]
  },
  {
   "cell_type": "code",
   "execution_count": 12,
   "metadata": {},
   "outputs": [
    {
     "data": {
      "text/plain": [
       "'中铁成立于1950年3月，\\n          总部位于北京。\\n        目前中铁已经发展成中国和亚洲最大的多功能综合型建设集团。'"
      ]
     },
     "execution_count": 12,
     "metadata": {},
     "output_type": "execute_result"
    }
   ],
   "source": [
    "text = \"\"\"中国铁路工程集团有限公司成立于1950年3月，\n",
    "          总部位于北京。\n",
    "        目前中国中铁已经发展成中国和亚洲最大的多功能综合型建设集团。\"\"\"\n",
    "\n",
    "\n",
    "pattern = '中国铁路工程集团有限公司|中国中铁'\n",
    "\n",
    "\n",
    "repl = '中铁'\n",
    "\n",
    "re.sub(pattern, repl, text)"
   ]
  },
  {
   "cell_type": "markdown",
   "metadata": {},
   "source": [
    "### 4.5 分割文本数据的章节\n",
    "\n",
    "一二三四五六七八九十零百"
   ]
  },
  {
   "cell_type": "code",
   "execution_count": 4,
   "metadata": {},
   "outputs": [
    {
     "data": {
      "text/plain": [
       "[' Python简介 ', ' Python入门语法 ', ' Python网络爬虫 ', ' 文本数据编码 ', ' 数据分析 ', ' 可视化']"
      ]
     },
     "execution_count": 4,
     "metadata": {},
     "output_type": "execute_result"
    }
   ],
   "source": [
    "import re\n",
    "\n",
    "text = \"\"\"第一篇 Python简介 第二篇 Python入门语法 第三篇 Python网络爬虫 第四篇 文本数据编码 第五篇 数据分析 第六篇 可视化\"\"\"\n",
    "\n",
    "pattern = '第[一二三四五六七八九十零百]+篇'\n",
    "\n",
    "res = re.split(pattern, text)\n",
    "\n",
    "#剔除空内容\n",
    "res = [r for r in res if r]\n",
    "res"
   ]
  },
  {
   "cell_type": "code",
   "execution_count": null,
   "metadata": {},
   "outputs": [],
   "source": []
  }
 ],
 "metadata": {
  "kernelspec": {
   "display_name": "Python 3",
   "language": "python",
   "name": "python3"
  },
  "language_info": {
   "codemirror_mode": {
    "name": "ipython",
    "version": 3
   },
   "file_extension": ".py",
   "mimetype": "text/x-python",
   "name": "python",
   "nbconvert_exporter": "python",
   "pygments_lexer": "ipython3",
   "version": "3.9.7"
  },
  "toc": {
   "base_numbering": 1,
   "nav_menu": {},
   "number_sections": false,
   "sideBar": true,
   "skip_h1_title": false,
   "title_cell": "Table of Contents",
   "title_sidebar": "Contents",
   "toc_cell": false,
   "toc_position": {},
   "toc_section_display": true,
   "toc_window_display": false
  },
  "varInspector": {
   "cols": {
    "lenName": 16,
    "lenType": 16,
    "lenVar": 40
   },
   "kernels_config": {
    "python": {
     "delete_cmd_postfix": "",
     "delete_cmd_prefix": "del ",
     "library": "var_list.py",
     "varRefreshCmd": "print(var_dic_list())"
    },
    "r": {
     "delete_cmd_postfix": ") ",
     "delete_cmd_prefix": "rm(",
     "library": "var_list.r",
     "varRefreshCmd": "cat(var_dic_list()) "
    }
   },
   "types_to_exclude": [
    "module",
    "function",
    "builtin_function_or_method",
    "instance",
    "_Feature"
   ],
   "window_display": false
  },
  "vscode": {
   "interpreter": {
    "hash": "39efd68f93e60613a22adb0a24f8974eb44aba5452699b12e52bf7b8f47c9669"
   }
  }
 },
 "nbformat": 4,
 "nbformat_minor": 4
}
