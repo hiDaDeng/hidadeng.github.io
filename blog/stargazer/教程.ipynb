{
 "cells": [
  {
   "cell_type": "markdown",
   "id": "a84b0949",
   "metadata": {},
   "source": [
    "##  Stargazer库介绍\n",
    "R语言有一个stargazer包，可用于创建漂亮的、可发表的多元回归表。如今有Python化的stargazer库也可做类似的事。\n",
    "\n",
    "下图是使用stargazer生成的没有任何样式的原始示例的示例：\n",
    "![](img/latex_example.png)"
   ]
  },
  {
   "cell_type": "markdown",
   "id": "6d5fb8dd",
   "metadata": {},
   "source": [
    "<br>\n",
    "\n",
    "## 什么时候会用到这些？\n",
    "人们倾向于使用R版本的stargazer的主要情况是在学术论文中报告回归结果。 它允许您轻松地比较多个回归结果，这有助于比较具有实验影响的模型与没有影响的模型之间的结果。 这允许用户轻松查看系数的差异、统计显着性以及实验引入的新变量的影响。\n",
    "\n",
    "它目前支持 LaTeX 和 HTML 输出，stargazer开发者最终最表是也支持 Markdown 和 ASCII 文本。\n",
    "\n",
    "<br>\n",
    "\n",
    "## 项目地址\n",
    "https://github.com/mwburke/stargazer\n",
    "\n",
    "<br>\n",
    "该库实现了原始包中的许多自定义功能。大多数示例可以在示例 jupyter notebook 中找到，功能函数完整列表如下：\n",
    "\n",
    "## Stargazer库的函数\n",
    "- show_header：显示或隐藏模型头数据\n",
    "- show_model_numbers：显示或隐藏型号\n",
    "- custom_columns：自定义模型名称和模型分组\n",
    "- significance_levels：更改统计显着性阈值\n",
    "- significant_digits：更改有效数字的数量\n",
    "- show_confidence_intervals：显示置信区间，而不是方差\n",
    "- dependent_variable_name：重命名因变量\n",
    "- rename_covariates: 重命名协变量\n",
    "- covariate_order：重新排序协变量\n",
    "- reset_covariate_order：将协变量顺序重置为原始顺序\n",
    "- show_degrees_of_freedom：显示或隐藏自由度\n",
    "- custom_note_label：表格底部的标签注释部分\n",
    "- add_custom_notes：将自定义注释添加到表格底部的部分\n",
    "- add_line：向表格中添加自定义行\n",
    "- append_notes：显示或隐藏统计显着性阈值\n",
    "\n",
    "这些功能与渲染类型无关，无论用户以 HTML、LaTeX 等格式输出都将应用\n",
    "\n",
    "## 安装"
   ]
  },
  {
   "cell_type": "code",
   "execution_count": null,
   "id": "35d8e278",
   "metadata": {},
   "outputs": [],
   "source": [
    "!pip3 install stargazer"
   ]
  },
  {
   "cell_type": "markdown",
   "id": "73ff1fb2",
   "metadata": {},
   "source": [
    "<br>\n",
    "\n",
    "## OLS回归"
   ]
  },
  {
   "cell_type": "code",
   "execution_count": 3,
   "id": "e0e53e5d",
   "metadata": {},
   "outputs": [
    {
     "name": "stderr",
     "output_type": "stream",
     "text": [
      "/Library/Frameworks/Python.framework/Versions/3.7/lib/python3.7/site-packages/statsmodels/tsa/tsatools.py:142: FutureWarning: In a future version of pandas all arguments of concat except for the argument 'objs' will be keyword-only\n",
      "  x = pd.concat(x[::order], 1)\n"
     ]
    }
   ],
   "source": [
    "import pandas as pd\n",
    "from sklearn import datasets\n",
    "import statsmodels.api as sm\n",
    "from stargazer.stargazer import Stargazer\n",
    "\n",
    "diabetes = datasets.load_diabetes()\n",
    "df = pd.DataFrame(diabetes.data)\n",
    "df.columns = ['Age', 'Sex', 'BMI', 'ABP', 'S1', 'S2', 'S3', 'S4', 'S5', 'S6']\n",
    "df['target'] = diabetes.target\n",
    "\n",
    "est = sm.OLS(endog=df['target'], exog=sm.add_constant(df[df.columns[0:4]])).fit()\n",
    "est2 = sm.OLS(endog=df['target'], exog=sm.add_constant(df[df.columns[0:6]])).fit()\n",
    "\n",
    "stargazer = Stargazer([est, est2])"
   ]
  },
  {
   "cell_type": "code",
   "execution_count": null,
   "id": "6f77209a",
   "metadata": {},
   "outputs": [],
   "source": [
    "#分析结果渲染成html\n",
    "from IPython.display import display, HTML\n",
    "raw_str = stargazer.render_html()\n",
    "html = HTML(raw_str)\n",
    "display(html)"
   ]
  },
  {
   "cell_type": "markdown",
   "id": "53b01391",
   "metadata": {},
   "source": [
    "![](img/html_example.png)"
   ]
  },
  {
   "cell_type": "code",
   "execution_count": null,
   "id": "d2547b8f",
   "metadata": {},
   "outputs": [],
   "source": [
    "#分析结果渲染成latex\n",
    "stargazer.render_latex()"
   ]
  },
  {
   "cell_type": "markdown",
   "id": "a49db66e",
   "metadata": {},
   "source": [
    "![](img/latex_example.png)"
   ]
  }
 ],
 "metadata": {
  "kernelspec": {
   "display_name": "Python 3 (ipykernel)",
   "language": "python",
   "name": "python3"
  },
  "language_info": {
   "codemirror_mode": {
    "name": "ipython",
    "version": 3
   },
   "file_extension": ".py",
   "mimetype": "text/x-python",
   "name": "python",
   "nbconvert_exporter": "python",
   "pygments_lexer": "ipython3",
   "version": "3.7.5"
  },
  "toc": {
   "base_numbering": 1,
   "nav_menu": {},
   "number_sections": false,
   "sideBar": true,
   "skip_h1_title": false,
   "title_cell": "Table of Contents",
   "title_sidebar": "Contents",
   "toc_cell": false,
   "toc_position": {},
   "toc_section_display": true,
   "toc_window_display": false
  }
 },
 "nbformat": 4,
 "nbformat_minor": 5
}
