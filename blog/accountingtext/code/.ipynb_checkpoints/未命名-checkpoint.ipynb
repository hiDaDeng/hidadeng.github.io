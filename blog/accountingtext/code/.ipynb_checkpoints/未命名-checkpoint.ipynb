{
 "cells": [
  {
   "cell_type": "code",
   "execution_count": 1,
   "id": "9a18fc7f",
   "metadata": {
    "collapsed": true
   },
   "outputs": [
    {
     "name": "stdout",
     "output_type": "stream",
     "text": [
      "Looking in indexes: https://pypi.tuna.tsinghua.edu.cn/simple/\n",
      "Requirement already satisfied: shreport in /Library/Frameworks/anaconda3/lib/python3.9/site-packages (0.1.3)\n",
      "Requirement already satisfied: requests in /Library/Frameworks/anaconda3/lib/python3.9/site-packages (from shreport) (2.26.0)\n",
      "Requirement already satisfied: grequests in /Library/Frameworks/anaconda3/lib/python3.9/site-packages (from shreport) (0.6.0)\n",
      "Requirement already satisfied: gevent in /Library/Frameworks/anaconda3/lib/python3.9/site-packages (from grequests->shreport) (21.8.0)\n",
      "Requirement already satisfied: zope.event in /Library/Frameworks/anaconda3/lib/python3.9/site-packages (from gevent->grequests->shreport) (4.5.0)\n",
      "Requirement already satisfied: greenlet<2.0,>=1.1.0 in /Library/Frameworks/anaconda3/lib/python3.9/site-packages (from gevent->grequests->shreport) (1.1.1)\n",
      "Requirement already satisfied: setuptools in /Library/Frameworks/anaconda3/lib/python3.9/site-packages (from gevent->grequests->shreport) (59.6.0)\n",
      "Requirement already satisfied: zope.interface in /Library/Frameworks/anaconda3/lib/python3.9/site-packages (from gevent->grequests->shreport) (5.4.0)\n",
      "Requirement already satisfied: urllib3<1.27,>=1.21.1 in /Library/Frameworks/anaconda3/lib/python3.9/site-packages (from requests->shreport) (1.26.7)\n",
      "Requirement already satisfied: idna<4,>=2.5 in /Library/Frameworks/anaconda3/lib/python3.9/site-packages (from requests->shreport) (2.10)\n",
      "Requirement already satisfied: certifi>=2017.4.17 in /Library/Frameworks/anaconda3/lib/python3.9/site-packages (from requests->shreport) (2021.10.8)\n",
      "Requirement already satisfied: charset-normalizer~=2.0.0 in /Library/Frameworks/anaconda3/lib/python3.9/site-packages (from requests->shreport) (2.0.4)\n"
     ]
    }
   ],
   "source": [
    "!pip3 install shreport"
   ]
  },
  {
   "cell_type": "code",
   "execution_count": 2,
   "id": "ead815d8",
   "metadata": {},
   "outputs": [
    {
     "name": "stderr",
     "output_type": "stream",
     "text": [
      "/Library/Frameworks/anaconda3/lib/python3.9/site-packages/grequests.py:22: MonkeyPatchWarning: Monkey-patching ssl after ssl has already been imported may lead to errors, including RecursionError on Python 3.6. It may also silently lead to incorrect behaviour on Python 3.7. Please monkey-patch earlier. See https://github.com/gevent/gevent/issues/1016. Modules that had direct imports (NOT patched): ['urllib3.util (/Library/Frameworks/anaconda3/lib/python3.9/site-packages/urllib3/util/__init__.py)', 'urllib3.util.ssl_ (/Library/Frameworks/anaconda3/lib/python3.9/site-packages/urllib3/util/ssl_.py)']. \n",
      "  curious_george.patch_all(thread=False, select=False)\n"
     ]
    },
    {
     "data": {
      "text/html": [
       "<div>\n",
       "<style scoped>\n",
       "    .dataframe tbody tr th:only-of-type {\n",
       "        vertical-align: middle;\n",
       "    }\n",
       "\n",
       "    .dataframe tbody tr th {\n",
       "        vertical-align: top;\n",
       "    }\n",
       "\n",
       "    .dataframe thead th {\n",
       "        text-align: right;\n",
       "    }\n",
       "</style>\n",
       "<table border=\"1\" class=\"dataframe\">\n",
       "  <thead>\n",
       "    <tr style=\"text-align: right;\">\n",
       "      <th></th>\n",
       "      <th>name</th>\n",
       "      <th>code</th>\n",
       "    </tr>\n",
       "  </thead>\n",
       "  <tbody>\n",
       "    <tr>\n",
       "      <th>0</th>\n",
       "      <td>浦发银行</td>\n",
       "      <td>600000</td>\n",
       "    </tr>\n",
       "    <tr>\n",
       "      <th>1</th>\n",
       "      <td>白云机场</td>\n",
       "      <td>600004</td>\n",
       "    </tr>\n",
       "    <tr>\n",
       "      <th>2</th>\n",
       "      <td>东风汽车</td>\n",
       "      <td>600006</td>\n",
       "    </tr>\n",
       "    <tr>\n",
       "      <th>3</th>\n",
       "      <td>中国国贸</td>\n",
       "      <td>600007</td>\n",
       "    </tr>\n",
       "    <tr>\n",
       "      <th>4</th>\n",
       "      <td>首创股份</td>\n",
       "      <td>600008</td>\n",
       "    </tr>\n",
       "  </tbody>\n",
       "</table>\n",
       "</div>"
      ],
      "text/plain": [
       "   name    code\n",
       "0  浦发银行  600000\n",
       "1  白云机场  600004\n",
       "2  东风汽车  600006\n",
       "3  中国国贸  600007\n",
       "4  首创股份  600008"
      ]
     },
     "execution_count": 2,
     "metadata": {},
     "output_type": "execute_result"
    }
   ],
   "source": [
    "from shreport import SH\n",
    "\n",
    "cookies = {\"Cookie\": '您的cookies'}\n",
    "sh = SH(cookies)\n",
    "df = sh.companys()\n",
    "\n",
    "#将查询结果存储\n",
    "#df.to_excel('上证交易所上市公司名录.xlsx')\n",
    "\n",
    "#显示前5条数据\n",
    "df.head()"
   ]
  },
  {
   "cell_type": "code",
   "execution_count": 4,
   "id": "5b4ac8a1",
   "metadata": {},
   "outputs": [],
   "source": [
    "df.to_excel('上海.xlsx')"
   ]
  },
  {
   "cell_type": "code",
   "execution_count": null,
   "id": "d0df45d6",
   "metadata": {},
   "outputs": [],
   "source": []
  },
  {
   "cell_type": "code",
   "execution_count": null,
   "id": "79170e19",
   "metadata": {},
   "outputs": [],
   "source": []
  },
  {
   "cell_type": "code",
   "execution_count": null,
   "id": "9841fdae",
   "metadata": {},
   "outputs": [],
   "source": []
  },
  {
   "cell_type": "code",
   "execution_count": 6,
   "id": "b5a63ade",
   "metadata": {
    "collapsed": true
   },
   "outputs": [
    {
     "name": "stdout",
     "output_type": "stream",
     "text": [
      "准备获取600000年报文件链接\n",
      "         ['http://www.sse.com.cn/disclosure/listedinfo/announcement/c/600000_2000_1.pdf', 'http://www.sse.com.cn/disclosure/listedinfo/announcement/c/2002-10-30/600000_2002_3.pdf', 'http://www.sse.com.cn/disclosure/listedinfo/announcement/c/2002-08-17/600000_2002_z.pdf', 'http://www.sse.com.cn/disclosure/listedinfo/announcement/c/600000_2002_1.pdf', 'http://www.sse.com.cn/disclosure/listedinfo/announcement/c/600000_2001_n.pdf', 'http://www.sse.com.cn/disclosure/listedinfo/announcement/c/600000_2001_3.pdf', 'http://www.sse.com.cn/disclosure/listedinfo/announcement/c/600000_2001_1.pdf', 'http://www.sse.com.cn/disclosure/listedinfo/announcement/c/2005-08-26/600000_2005_z.pdf', 'http://www.sse.com.cn/disclosure/listedinfo/announcement/c/2005-04-23/600000_2005_1.pdf', 'http://www.sse.com.cn/disclosure/listedinfo/announcement/c/2005-02-26/600000_2004_n.pdf', 'http://www.sse.com.cn/disclosure/listedinfo/announcement/c/2004-10-30/600000_2004_3.pdf', 'http://www.sse.com.cn/disclosure/listedinfo/announcement/c/2004-08-14/600000_2004_z.pdf', 'http://www.sse.com.cn/disclosure/listedinfo/announcement/c/2004-04-28/600000_2004_1.pdf', 'http://www.sse.com.cn/disclosure/listedinfo/announcement/c/2004-02-27/600000_2003_n.pdf', 'http://www.sse.com.cn/disclosure/listedinfo/announcement/c/2003-10-29/600000_2003_3.pdf', 'http://www.sse.com.cn/disclosure/listedinfo/announcement/c/2003-08-27/600000_2003_z.pdf', 'http://www.sse.com.cn/disclosure/listedinfo/announcement/c/2003-04-29/600000_2003_1.pdf', 'http://www.sse.com.cn/disclosure/listedinfo/announcement/c/2003-03-29/600000_2002_n.pdf', 'http://www.sse.com.cn/disclosure/listedinfo/announcement/c/2007-10-27/600000_2007_3.pdf', 'http://www.sse.com.cn/disclosure/listedinfo/announcement/c/2007-08-22/600000_2007_z.pdf', 'http://www.sse.com.cn/disclosure/listedinfo/announcement/c/2007-04-28/600000_2007_1.pdf', 'http://www.sse.com.cn/disclosure/listedinfo/announcement/c/2007-03-24/600000_2006_n.pdf', 'http://www.sse.com.cn/disclosure/listedinfo/announcement/c/2006-10-27/600000_2006_3.pdf', 'http://www.sse.com.cn/disclosure/listedinfo/announcement/c/2006-08-12/600000_2006_z.pdf', 'http://www.sse.com.cn/disclosure/listedinfo/announcement/c/2006-04-29/600000_2006_1.pdf', 'http://www.sse.com.cn/disclosure/listedinfo/announcement/c/2006-03-02/600000_2005_n.pdf', 'http://www.sse.com.cn/disclosure/listedinfo/announcement/c/2005-10-29/600000_2005_3.pdf', 'http://www.sse.com.cn/disclosure/listedinfo/announcement/c/2010-04-30/600000_2010_1.pdf', 'http://www.sse.com.cn/disclosure/listedinfo/announcement/c/2010-04-07/600000_2009_n.pdf', 'http://www.sse.com.cn/disclosure/listedinfo/announcement/c/2009-10-29/600000_2009_3.pdf', 'http://www.sse.com.cn/disclosure/listedinfo/announcement/c/2009-08-29/600000_2009_z.pdf', 'http://www.sse.com.cn/disclosure/listedinfo/announcement/c/2009-04-30/600000_2009_1.pdf', 'http://www.sse.com.cn/disclosure/listedinfo/announcement/c/2009-04-10/600000_2008_n.pdf', 'http://www.sse.com.cn/disclosure/listedinfo/announcement/c/2008-10-30/600000_2008_3.pdf', 'http://www.sse.com.cn/disclosure/listedinfo/announcement/c/2008-08-23/600000_2008_z.pdf', 'http://www.sse.com.cn/disclosure/listedinfo/announcement/c/2008-04-26/600000_2008_1.pdf', 'http://www.sse.com.cn/disclosure/listedinfo/announcement/c/2008-02-28/600000_2007_n.pdf', 'http://www.sse.com.cn/disclosure/listedinfo/announcement/c/2012-10-31/600000_2012_3.pdf', 'http://www.sse.com.cn/disclosure/listedinfo/announcement/c/2012-08-15/600000_2012_z.pdf', 'http://www.sse.com.cn/disclosure/listedinfo/announcement/c/2012-04-28/600000_2012_1.pdf', 'http://www.sse.com.cn/disclosure/listedinfo/announcement/c/2012-03-16/600000_2011_n.pdf', 'http://www.sse.com.cn/disclosure/listedinfo/announcement/c/2011-10-29/600000_2011_3.pdf', 'http://www.sse.com.cn/disclosure/listedinfo/announcement/c/2011-08-16/600000_2011_z.pdf', 'http://www.sse.com.cn/disclosure/listedinfo/announcement/c/2011-04-28/600000_2011_1.pdf', 'http://www.sse.com.cn/disclosure/listedinfo/announcement/c/2011-03-30/600000_2010_n.pdf', 'http://www.sse.com.cn/disclosure/listedinfo/announcement/c/2010-10-29/600000_2010_3.pdf', 'http://www.sse.com.cn/disclosure/listedinfo/announcement/c/2010-08-30/600000_2010_z.pdf', 'http://www.sse.com.cn/disclosure/listedinfo/announcement/c/2015-04-29/600000_2015_1.pdf', 'http://www.sse.com.cn/disclosure/listedinfo/announcement/c/2015-03-18/600000_2014_n.pdf', 'http://www.sse.com.cn/disclosure/listedinfo/announcement/c/2014-10-30/600000_2014_3.pdf', 'http://www.sse.com.cn/disclosure/listedinfo/announcement/c/2014-08-13/600000_2014_z.pdf', 'http://www.sse.com.cn/disclosure/listedinfo/announcement/c/2014-04-29/600000_2014_1.pdf', 'http://www.sse.com.cn/disclosure/listedinfo/announcement/c/2014-03-19/600000_2013_n.pdf', 'http://www.sse.com.cn/disclosure/listedinfo/announcement/c/2013-10-30/600000_2013_3.pdf', 'http://www.sse.com.cn/disclosure/listedinfo/announcement/c/2013-08-13/600000_2013_z.pdf', 'http://www.sse.com.cn/disclosure/listedinfo/announcement/c/2013-04-26/600000_2013_1.pdf', 'http://www.sse.com.cn/disclosure/listedinfo/announcement/c/2013-03-13/600000_2012_n.pdf', 'http://www.sse.com.cn/disclosure/listedinfo/announcement/c/2017-10-28/600000_2017_3.pdf', 'http://www.sse.com.cn/disclosure/listedinfo/announcement/c/2017-08-30/600000_2017_z.pdf', 'http://www.sse.com.cn/disclosure/listedinfo/announcement/c/2017-04-27/600000_2017_1.pdf', 'http://www.sse.com.cn/disclosure/listedinfo/announcement/c/2017-04-01/600000_2016_n.pdf', 'http://www.sse.com.cn/disclosure/listedinfo/announcement/c/2016-10-29/600000_2016_3.pdf', 'http://www.sse.com.cn/disclosure/listedinfo/announcement/c/2016-08-11/600000_2016_z.pdf', 'http://www.sse.com.cn/disclosure/listedinfo/announcement/c/2016-04-30/600000_2016_1.pdf', 'http://www.sse.com.cn/disclosure/listedinfo/announcement/c/2016-04-07/600000_2015_n.pdf', 'http://www.sse.com.cn/disclosure/listedinfo/announcement/c/2015-10-30/600000_2015_3.pdf', 'http://www.sse.com.cn/disclosure/listedinfo/announcement/c/2015-08-20/600000_2015_z.pdf', 'http://www.sse.com.cn/disclosure/listedinfo/announcement/c/2019-10-30/600000_2019_3.pdf', 'http://www.sse.com.cn/disclosure/listedinfo/announcement/c/2019-08-24/600000_2019_z.pdf', 'http://www.sse.com.cn/disclosure/listedinfo/announcement/c/2019-04-30/600000_2019_1.pdf', 'http://www.sse.com.cn/disclosure/listedinfo/announcement/c/2019-03-26/600000_2018_n.pdf', 'http://www.sse.com.cn/disclosure/listedinfo/announcement/c/2018-10-31/600000_2018_3.pdf', 'http://www.sse.com.cn/disclosure/listedinfo/announcement/c/2018-08-30/600000_2018_z.pdf', 'http://www.sse.com.cn/disclosure/listedinfo/announcement/c/2018-04-28/600000_2017_n.pdf', 'http://www.sse.com.cn/disclosure/listedinfo/announcement/c/2018-04-28/600000_2018_1.pdf']\n"
     ]
    },
    {
     "name": "stderr",
     "output_type": "stream",
     "text": [
      "KeyboardInterrupt\n",
      "2022-04-15T13:02:58Z\n"
     ]
    },
    {
     "ename": "KeyboardInterrupt",
     "evalue": "",
     "output_type": "error",
     "traceback": [
      "\u001b[0;31m---------------------------------------------------------------------------\u001b[0m",
      "\u001b[0;31mKeyboardInterrupt\u001b[0m                         Traceback (most recent call last)",
      "\u001b[0;32m/var/folders/sc/3mnt5tgs419_hk7s16gq61p80000gn/T/ipykernel_51723/2035111253.py\u001b[0m in \u001b[0;36m<module>\u001b[0;34m\u001b[0m\n\u001b[1;32m      7\u001b[0m \u001b[0mcwd\u001b[0m \u001b[0;34m=\u001b[0m \u001b[0mPath\u001b[0m\u001b[0;34m(\u001b[0m\u001b[0;34m)\u001b[0m\u001b[0;34m.\u001b[0m\u001b[0mcwd\u001b[0m\u001b[0;34m(\u001b[0m\u001b[0;34m)\u001b[0m\u001b[0;34m\u001b[0m\u001b[0;34m\u001b[0m\u001b[0m\n\u001b[1;32m      8\u001b[0m \u001b[0;31m#以浦发银行为例股票代码600000\u001b[0m\u001b[0;34m\u001b[0m\u001b[0;34m\u001b[0m\u001b[0m\n\u001b[0;32m----> 9\u001b[0;31m \u001b[0msh\u001b[0m\u001b[0;34m.\u001b[0m\u001b[0mdownload\u001b[0m\u001b[0;34m(\u001b[0m\u001b[0mcode\u001b[0m\u001b[0;34m=\u001b[0m\u001b[0;34m'600000'\u001b[0m\u001b[0;34m,\u001b[0m \u001b[0msavepath\u001b[0m\u001b[0;34m=\u001b[0m\u001b[0mcwd\u001b[0m\u001b[0;34m)\u001b[0m\u001b[0;34m\u001b[0m\u001b[0;34m\u001b[0m\u001b[0m\n\u001b[0m",
      "\u001b[0;32m/Library/Frameworks/anaconda3/lib/python3.9/site-packages/shreport/sh.py\u001b[0m in \u001b[0;36mdownload\u001b[0;34m(self, code, savepath)\u001b[0m\n\u001b[1;32m    139\u001b[0m         \u001b[0murls\u001b[0m \u001b[0;34m=\u001b[0m \u001b[0mself\u001b[0m\u001b[0;34m.\u001b[0m\u001b[0mpdfurls\u001b[0m\u001b[0;34m(\u001b[0m\u001b[0mcode\u001b[0m\u001b[0;34m=\u001b[0m\u001b[0mcode\u001b[0m\u001b[0;34m)\u001b[0m\u001b[0;34m\u001b[0m\u001b[0;34m\u001b[0m\u001b[0m\n\u001b[1;32m    140\u001b[0m         \u001b[0mtasks\u001b[0m \u001b[0;34m=\u001b[0m \u001b[0;34m[\u001b[0m\u001b[0mgrequests\u001b[0m\u001b[0;34m.\u001b[0m\u001b[0mrequest\u001b[0m\u001b[0;34m(\u001b[0m\u001b[0;34m\"GET\"\u001b[0m\u001b[0;34m,\u001b[0m \u001b[0murl\u001b[0m\u001b[0;34m=\u001b[0m\u001b[0murl\u001b[0m\u001b[0;34m,\u001b[0m \u001b[0mheaders\u001b[0m\u001b[0;34m=\u001b[0m\u001b[0mheaders\u001b[0m\u001b[0;34m,\u001b[0m \u001b[0mcookies\u001b[0m\u001b[0;34m=\u001b[0m\u001b[0mself\u001b[0m\u001b[0;34m.\u001b[0m\u001b[0mcookies\u001b[0m\u001b[0;34m)\u001b[0m \u001b[0;32mfor\u001b[0m \u001b[0murl\u001b[0m \u001b[0;32min\u001b[0m \u001b[0murls\u001b[0m\u001b[0;34m]\u001b[0m\u001b[0;34m\u001b[0m\u001b[0;34m\u001b[0m\u001b[0m\n\u001b[0;32m--> 141\u001b[0;31m         \u001b[0mresults\u001b[0m \u001b[0;34m=\u001b[0m \u001b[0mgrequests\u001b[0m\u001b[0;34m.\u001b[0m\u001b[0mmap\u001b[0m\u001b[0;34m(\u001b[0m\u001b[0mtasks\u001b[0m\u001b[0;34m)\u001b[0m\u001b[0;34m\u001b[0m\u001b[0;34m\u001b[0m\u001b[0m\n\u001b[0m\u001b[1;32m    142\u001b[0m \u001b[0;34m\u001b[0m\u001b[0m\n\u001b[1;32m    143\u001b[0m         \u001b[0;32mfor\u001b[0m \u001b[0mresult\u001b[0m \u001b[0;32min\u001b[0m \u001b[0mresults\u001b[0m\u001b[0;34m:\u001b[0m\u001b[0;34m\u001b[0m\u001b[0;34m\u001b[0m\u001b[0m\n",
      "\u001b[0;32m/Library/Frameworks/anaconda3/lib/python3.9/site-packages/grequests.py\u001b[0m in \u001b[0;36mmap\u001b[0;34m(requests, stream, size, exception_handler, gtimeout)\u001b[0m\n\u001b[1;32m    123\u001b[0m     \u001b[0mpool\u001b[0m \u001b[0;34m=\u001b[0m \u001b[0mPool\u001b[0m\u001b[0;34m(\u001b[0m\u001b[0msize\u001b[0m\u001b[0;34m)\u001b[0m \u001b[0;32mif\u001b[0m \u001b[0msize\u001b[0m \u001b[0;32melse\u001b[0m \u001b[0;32mNone\u001b[0m\u001b[0;34m\u001b[0m\u001b[0;34m\u001b[0m\u001b[0m\n\u001b[1;32m    124\u001b[0m     \u001b[0mjobs\u001b[0m \u001b[0;34m=\u001b[0m \u001b[0;34m[\u001b[0m\u001b[0msend\u001b[0m\u001b[0;34m(\u001b[0m\u001b[0mr\u001b[0m\u001b[0;34m,\u001b[0m \u001b[0mpool\u001b[0m\u001b[0;34m,\u001b[0m \u001b[0mstream\u001b[0m\u001b[0;34m=\u001b[0m\u001b[0mstream\u001b[0m\u001b[0;34m)\u001b[0m \u001b[0;32mfor\u001b[0m \u001b[0mr\u001b[0m \u001b[0;32min\u001b[0m \u001b[0mrequests\u001b[0m\u001b[0;34m]\u001b[0m\u001b[0;34m\u001b[0m\u001b[0;34m\u001b[0m\u001b[0m\n\u001b[0;32m--> 125\u001b[0;31m     \u001b[0mgevent\u001b[0m\u001b[0;34m.\u001b[0m\u001b[0mjoinall\u001b[0m\u001b[0;34m(\u001b[0m\u001b[0mjobs\u001b[0m\u001b[0;34m,\u001b[0m \u001b[0mtimeout\u001b[0m\u001b[0;34m=\u001b[0m\u001b[0mgtimeout\u001b[0m\u001b[0;34m)\u001b[0m\u001b[0;34m\u001b[0m\u001b[0;34m\u001b[0m\u001b[0m\n\u001b[0m\u001b[1;32m    126\u001b[0m \u001b[0;34m\u001b[0m\u001b[0m\n\u001b[1;32m    127\u001b[0m     \u001b[0mret\u001b[0m \u001b[0;34m=\u001b[0m \u001b[0;34m[\u001b[0m\u001b[0;34m]\u001b[0m\u001b[0;34m\u001b[0m\u001b[0;34m\u001b[0m\u001b[0m\n",
      "\u001b[0;32m/Library/Frameworks/anaconda3/lib/python3.9/site-packages/gevent/_gevent_cgreenlet.cpython-39-darwin.so\u001b[0m in \u001b[0;36mgevent._gevent_cgreenlet.joinall\u001b[0;34m()\u001b[0m\n",
      "\u001b[0;32m/Library/Frameworks/anaconda3/lib/python3.9/site-packages/gevent/_gevent_cgreenlet.cpython-39-darwin.so\u001b[0m in \u001b[0;36mgevent._gevent_cgreenlet.joinall\u001b[0;34m()\u001b[0m\n",
      "\u001b[0;32m/Library/Frameworks/anaconda3/lib/python3.9/site-packages/gevent/_gevent_c_hub_primitives.cpython-39-darwin.so\u001b[0m in \u001b[0;36mgevent._gevent_c_hub_primitives.wait_on_objects\u001b[0;34m()\u001b[0m\n",
      "\u001b[0;32m/Library/Frameworks/anaconda3/lib/python3.9/site-packages/gevent/_gevent_c_hub_primitives.cpython-39-darwin.so\u001b[0m in \u001b[0;36mgevent._gevent_c_hub_primitives.wait_on_objects\u001b[0;34m()\u001b[0m\n",
      "\u001b[0;32m/Library/Frameworks/anaconda3/lib/python3.9/site-packages/gevent/_gevent_c_hub_primitives.cpython-39-darwin.so\u001b[0m in \u001b[0;36mgevent._gevent_c_hub_primitives._WaitIterator.__next__\u001b[0;34m()\u001b[0m\n",
      "\u001b[0;32m/Library/Frameworks/anaconda3/lib/python3.9/site-packages/gevent/_gevent_c_hub_primitives.cpython-39-darwin.so\u001b[0m in \u001b[0;36mgevent._gevent_c_hub_primitives._WaitIterator.__next__\u001b[0;34m()\u001b[0m\n",
      "\u001b[0;32m/Library/Frameworks/anaconda3/lib/python3.9/site-packages/gevent/_gevent_c_waiter.cpython-39-darwin.so\u001b[0m in \u001b[0;36mgevent._gevent_c_waiter.MultipleWaiter.get\u001b[0;34m()\u001b[0m\n",
      "\u001b[0;32m/Library/Frameworks/anaconda3/lib/python3.9/site-packages/gevent/_gevent_c_waiter.cpython-39-darwin.so\u001b[0m in \u001b[0;36mgevent._gevent_c_waiter.Waiter.get\u001b[0;34m()\u001b[0m\n",
      "\u001b[0;32m/Library/Frameworks/anaconda3/lib/python3.9/site-packages/gevent/_gevent_c_greenlet_primitives.cpython-39-darwin.so\u001b[0m in \u001b[0;36mgevent._gevent_c_greenlet_primitives.SwitchOutGreenletWithLoop.switch\u001b[0;34m()\u001b[0m\n",
      "\u001b[0;32m/Library/Frameworks/anaconda3/lib/python3.9/site-packages/gevent/_gevent_c_greenlet_primitives.cpython-39-darwin.so\u001b[0m in \u001b[0;36mgevent._gevent_c_greenlet_primitives.SwitchOutGreenletWithLoop.switch\u001b[0;34m()\u001b[0m\n",
      "\u001b[0;32m/Library/Frameworks/anaconda3/lib/python3.9/site-packages/gevent/_gevent_c_greenlet_primitives.cpython-39-darwin.so\u001b[0m in \u001b[0;36mgevent._gevent_c_greenlet_primitives.SwitchOutGreenletWithLoop.switch\u001b[0;34m()\u001b[0m\n",
      "\u001b[0;32msrc/gevent/_gevent_c_greenlet_primitives.pxd\u001b[0m in \u001b[0;36mgevent._gevent_c_greenlet_primitives._greenlet_switch\u001b[0;34m()\u001b[0m\n",
      "\u001b[0;31mKeyboardInterrupt\u001b[0m: "
     ]
    }
   ],
   "source": [
    "from pathlib import Path\n",
    "from shreport import SH\n",
    "\n",
    "cookies = {\"Cookie\": 'yfx_c_g_u_id_10000042=_ck22041420474316030190275754320; VISITED_MENU=%5B%228312%22%5D; sseMenuSpecial=8311; yfx_f_l_v_t_10000042=f_t_1649940463492__r_t_1650027627707__v_t_1650027627707__r_c_1'}\n",
    "sh = SH(cookies)\n",
    "#获取当前代码所在的文件夹路径\n",
    "cwd = Path().cwd() \n",
    "#以浦发银行为例股票代码600000\n",
    "sh.download(code='600000', savepath=cwd)\n",
    "\n"
   ]
  },
  {
   "cell_type": "code",
   "execution_count": 7,
   "id": "993dae03",
   "metadata": {},
   "outputs": [
    {
     "name": "stdout",
     "output_type": "stream",
     "text": [
      "准备获取600004年报文件链接\n",
      "         ['http://www.sse.com.cn/disclosure/listedinfo/announcement/c/2005-08-24/600004_2005_z.pdf', 'http://www.sse.com.cn/disclosure/listedinfo/announcement/c/2005-04-29/600004_2004_n.pdf', 'http://www.sse.com.cn/disclosure/listedinfo/announcement/c/2005-04-29/600004_2005_1.pdf', 'http://www.sse.com.cn/disclosure/listedinfo/announcement/c/2004-10-29/600004_2004_3.pdf', 'http://www.sse.com.cn/disclosure/listedinfo/announcement/c/2004-08-28/600004_2004_z.pdf', 'http://www.sse.com.cn/disclosure/listedinfo/announcement/c/2004-04-29/600004_2004_1.pdf', 'http://www.sse.com.cn/disclosure/listedinfo/announcement/c/2004-04-24/600004_2003_n.pdf', 'http://www.sse.com.cn/disclosure/listedinfo/announcement/c/2003-10-28/600004_2003_3.pdf', 'http://www.sse.com.cn/disclosure/listedinfo/announcement/c/2003-08-26/600004_2003_z.pdf', 'http://www.sse.com.cn/disclosure/listedinfo/announcement/c/2007-10-31/600004_2007_3.pdf', 'http://www.sse.com.cn/disclosure/listedinfo/announcement/c/2007-07-31/600004_2007_z.pdf', 'http://www.sse.com.cn/disclosure/listedinfo/announcement/c/2007-04-27/600004_2007_1.pdf', 'http://www.sse.com.cn/disclosure/listedinfo/announcement/c/2007-03-27/600004_2006_n.pdf', 'http://www.sse.com.cn/disclosure/listedinfo/announcement/c/2006-10-31/600004_2006_3.pdf', 'http://www.sse.com.cn/disclosure/listedinfo/announcement/c/2006-08-29/600004_2006_z.pdf', 'http://www.sse.com.cn/disclosure/listedinfo/announcement/c/2006-04-25/600004_2005_n.pdf', 'http://www.sse.com.cn/disclosure/listedinfo/announcement/c/2006-04-25/600004_2006_1.pdf', 'http://www.sse.com.cn/disclosure/listedinfo/announcement/c/2005-10-26/600004_2005_3.pdf', 'http://www.sse.com.cn/disclosure/listedinfo/announcement/c/2010-04-27/600004_2010_1.pdf', 'http://www.sse.com.cn/disclosure/listedinfo/announcement/c/2010-03-13/600004_2009_n.pdf', 'http://www.sse.com.cn/disclosure/listedinfo/announcement/c/2009-10-29/600004_2009_3.pdf', 'http://www.sse.com.cn/disclosure/listedinfo/announcement/c/2009-08-04/600004_2009_z.pdf', 'http://www.sse.com.cn/disclosure/listedinfo/announcement/c/2009-04-28/600004_2009_1.pdf', 'http://www.sse.com.cn/disclosure/listedinfo/announcement/c/2009-03-10/600004_2008_n.pdf', 'http://www.sse.com.cn/disclosure/listedinfo/announcement/c/2008-10-29/600004_2008_3.pdf', 'http://www.sse.com.cn/disclosure/listedinfo/announcement/c/2008-08-28/600004_2008_z.pdf', 'http://www.sse.com.cn/disclosure/listedinfo/announcement/c/2008-04-30/600004_2007_n.pdf', 'http://www.sse.com.cn/disclosure/listedinfo/announcement/c/2008-04-30/600004_2008_1.pdf', 'http://www.sse.com.cn/disclosure/listedinfo/announcement/c/2012-10-30/600004_2012_3.pdf', 'http://www.sse.com.cn/disclosure/listedinfo/announcement/c/2012-08-29/600004_2012_z.pdf', 'http://www.sse.com.cn/disclosure/listedinfo/announcement/c/2012-04-28/600004_2012_1.pdf', 'http://www.sse.com.cn/disclosure/listedinfo/announcement/c/2012-03-15/600004_2011_n.pdf', 'http://www.sse.com.cn/disclosure/listedinfo/announcement/c/2011-10-28/600004_2011_3.pdf', 'http://www.sse.com.cn/disclosure/listedinfo/announcement/c/2011-08-25/600004_2011_z.pdf', 'http://www.sse.com.cn/disclosure/listedinfo/announcement/c/2011-04-28/600004_2011_1.pdf', 'http://www.sse.com.cn/disclosure/listedinfo/announcement/c/2011-03-12/600004_2010_n.pdf', 'http://www.sse.com.cn/disclosure/listedinfo/announcement/c/2010-10-27/600004_2010_3.pdf', 'http://www.sse.com.cn/disclosure/listedinfo/announcement/c/2010-08-27/600004_2010_z.pdf', 'http://www.sse.com.cn/disclosure/listedinfo/announcement/c/2015-04-29/600004_2015_1.pdf', 'http://www.sse.com.cn/disclosure/listedinfo/announcement/c/2015-03-30/600004_2014_n.pdf', 'http://www.sse.com.cn/disclosure/listedinfo/announcement/c/2014-10-29/600004_2014_3.pdf', 'http://www.sse.com.cn/disclosure/listedinfo/announcement/c/2014-08-28/600004_2014_z.pdf', 'http://www.sse.com.cn/disclosure/listedinfo/announcement/c/2014-04-29/600004_2014_1.pdf', 'http://www.sse.com.cn/disclosure/listedinfo/announcement/c/2014-04-03/600004_2013_n.pdf', 'http://www.sse.com.cn/disclosure/listedinfo/announcement/c/2013-10-29/600004_2013_3.pdf', 'http://www.sse.com.cn/disclosure/listedinfo/announcement/c/2013-08-29/600004_2013_z.pdf', 'http://www.sse.com.cn/disclosure/listedinfo/announcement/c/2013-04-24/600004_2012_n.pdf', 'http://www.sse.com.cn/disclosure/listedinfo/announcement/c/2013-04-24/600004_2013_1.pdf', 'http://www.sse.com.cn/disclosure/listedinfo/announcement/c/2017-10-31/600004_2017_3.pdf', 'http://www.sse.com.cn/disclosure/listedinfo/announcement/c/2017-08-31/600004_2017_z.pdf', 'http://www.sse.com.cn/disclosure/listedinfo/announcement/c/2017-04-29/600004_2016_n.pdf', 'http://www.sse.com.cn/disclosure/listedinfo/announcement/c/2017-04-29/600004_2017_1.pdf', 'http://www.sse.com.cn/disclosure/listedinfo/announcement/c/2016-10-29/600004_2016_3.pdf', 'http://www.sse.com.cn/disclosure/listedinfo/announcement/c/2016-08-31/600004_2016_z.pdf', 'http://www.sse.com.cn/disclosure/listedinfo/announcement/c/2016-04-29/600004_2015_n.pdf', 'http://www.sse.com.cn/disclosure/listedinfo/announcement/c/2016-04-29/600004_2016_1.pdf', 'http://www.sse.com.cn/disclosure/listedinfo/announcement/c/2015-10-31/600004_2015_3.pdf', 'http://www.sse.com.cn/disclosure/listedinfo/announcement/c/2015-08-18/600004_2015_z.pdf', 'http://www.sse.com.cn/disclosure/listedinfo/announcement/c/2019-10-29/600004_2019_3.pdf', 'http://www.sse.com.cn/disclosure/listedinfo/announcement/c/2019-08-31/600004_2019_z.pdf', 'http://www.sse.com.cn/disclosure/listedinfo/announcement/c/2019-04-30/600004_2018_n.pdf', 'http://www.sse.com.cn/disclosure/listedinfo/announcement/c/2019-04-30/600004_2019_1.pdf', 'http://www.sse.com.cn/disclosure/listedinfo/announcement/c/2018-10-31/600004_2018_3.pdf', 'http://www.sse.com.cn/disclosure/listedinfo/announcement/c/2018-08-18/600004_2018_z.pdf', 'http://www.sse.com.cn/disclosure/listedinfo/announcement/c/2018-04-21/600004_2017_n.pdf', 'http://www.sse.com.cn/disclosure/listedinfo/announcement/c/2018-04-21/600004_2018_1.pdf']\n",
      "       已成功下载600004_2005_z.pdf\n",
      "       已成功下载600004_2004_n.pdf\n",
      "       已成功下载600004_2005_1.pdf\n",
      "       已成功下载600004_2004_3.pdf\n",
      "       已成功下载600004_2004_z.pdf\n",
      "       已成功下载600004_2004_1.pdf\n",
      "       已成功下载600004_2003_n.pdf\n",
      "       已成功下载600004_2003_3.pdf\n",
      "       已成功下载600004_2003_z.pdf\n",
      "       已成功下载600004_2007_3.pdf\n",
      "       已成功下载600004_2007_z.pdf\n",
      "       已成功下载600004_2007_1.pdf\n",
      "       已成功下载600004_2006_n.pdf\n",
      "       已成功下载600004_2006_3.pdf\n",
      "       已成功下载600004_2006_z.pdf\n",
      "       已成功下载600004_2005_n.pdf\n",
      "       已成功下载600004_2006_1.pdf\n",
      "       已成功下载600004_2005_3.pdf\n",
      "       已成功下载600004_2010_1.pdf\n",
      "       已成功下载600004_2009_n.pdf\n",
      "       已成功下载600004_2009_3.pdf\n",
      "       已成功下载600004_2009_z.pdf\n",
      "       已成功下载600004_2009_1.pdf\n",
      "       已成功下载600004_2008_n.pdf\n",
      "       已成功下载600004_2008_3.pdf\n",
      "       已成功下载600004_2008_z.pdf\n",
      "       已成功下载600004_2007_n.pdf\n",
      "       已成功下载600004_2008_1.pdf\n",
      "       已成功下载600004_2012_3.pdf\n",
      "       已成功下载600004_2012_z.pdf\n",
      "       已成功下载600004_2012_1.pdf\n",
      "       已成功下载600004_2011_n.pdf\n",
      "       已成功下载600004_2011_3.pdf\n",
      "       已成功下载600004_2011_z.pdf\n",
      "       已成功下载600004_2011_1.pdf\n",
      "       已成功下载600004_2010_n.pdf\n",
      "       已成功下载600004_2010_3.pdf\n",
      "       已成功下载600004_2010_z.pdf\n",
      "       已成功下载600004_2015_1.pdf\n",
      "       已成功下载600004_2014_n.pdf\n",
      "       已成功下载600004_2014_3.pdf\n",
      "       已成功下载600004_2014_z.pdf\n",
      "       已成功下载600004_2014_1.pdf\n",
      "       已成功下载600004_2013_n.pdf\n",
      "       已成功下载600004_2013_3.pdf\n",
      "       已成功下载600004_2013_z.pdf\n",
      "       已成功下载600004_2012_n.pdf\n",
      "       已成功下载600004_2013_1.pdf\n",
      "       已成功下载600004_2017_3.pdf\n",
      "       已成功下载600004_2017_z.pdf\n",
      "       已成功下载600004_2016_n.pdf\n",
      "       已成功下载600004_2017_1.pdf\n",
      "       已成功下载600004_2016_3.pdf\n",
      "       已成功下载600004_2016_z.pdf\n",
      "       已成功下载600004_2015_n.pdf\n",
      "       已成功下载600004_2016_1.pdf\n",
      "       已成功下载600004_2015_3.pdf\n",
      "       已成功下载600004_2015_z.pdf\n",
      "       已成功下载600004_2019_3.pdf\n",
      "       已成功下载600004_2019_z.pdf\n",
      "       已成功下载600004_2018_n.pdf\n",
      "       已成功下载600004_2019_1.pdf\n",
      "       已成功下载600004_2018_3.pdf\n",
      "       已成功下载600004_2018_z.pdf\n",
      "       已成功下载600004_2017_n.pdf\n",
      "       已成功下载600004_2018_1.pdf\n"
     ]
    }
   ],
   "source": [
    "from pathlib import Path\n",
    "from shreport import SH\n",
    "\n",
    "cookies = {\"Cookie\": 'yfx_c_g_u_id_10000042=_ck22041420474316030190275754320; VISITED_MENU=%5B%228312%22%5D; sseMenuSpecial=8311; yfx_f_l_v_t_10000042=f_t_1649940463492__r_t_1650027627707__v_t_1650027627707__r_c_1'}\n",
    "sh = SH(cookies)\n",
    "#获取当前代码所在的文件夹路径\n",
    "cwd = Path().cwd() \n",
    "#以浦发银行为例股票代码600004\n",
    "sh.download(code='600004', savepath=cwd)"
   ]
  },
  {
   "cell_type": "code",
   "execution_count": null,
   "id": "bb19736d",
   "metadata": {},
   "outputs": [],
   "source": []
  }
 ],
 "metadata": {
  "kernelspec": {
   "display_name": "Python 3 (ipykernel)",
   "language": "python",
   "name": "python3"
  },
  "language_info": {
   "codemirror_mode": {
    "name": "ipython",
    "version": 3
   },
   "file_extension": ".py",
   "mimetype": "text/x-python",
   "name": "python",
   "nbconvert_exporter": "python",
   "pygments_lexer": "ipython3",
   "version": "3.9.7"
  }
 },
 "nbformat": 4,
 "nbformat_minor": 5
}
