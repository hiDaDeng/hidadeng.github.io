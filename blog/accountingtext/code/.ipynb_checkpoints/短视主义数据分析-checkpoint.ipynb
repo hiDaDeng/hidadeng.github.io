{
 "cells": [
  {
   "cell_type": "code",
   "execution_count": 13,
   "id": "5756c4e1",
   "metadata": {},
   "outputs": [
    {
     "data": {
      "text/html": [
       "<div>\n",
       "<style scoped>\n",
       "    .dataframe tbody tr th:only-of-type {\n",
       "        vertical-align: middle;\n",
       "    }\n",
       "\n",
       "    .dataframe tbody tr th {\n",
       "        vertical-align: top;\n",
       "    }\n",
       "\n",
       "    .dataframe thead th {\n",
       "        text-align: right;\n",
       "    }\n",
       "</style>\n",
       "<table border=\"1\" class=\"dataframe\">\n",
       "  <thead>\n",
       "    <tr style=\"text-align: right;\">\n",
       "      <th></th>\n",
       "      <th>Scode</th>\n",
       "      <th>Coname</th>\n",
       "      <th>Year</th>\n",
       "      <th>Anatime</th>\n",
       "      <th>BusDA</th>\n",
       "    </tr>\n",
       "  </thead>\n",
       "  <tbody>\n",
       "    <tr>\n",
       "      <th>0</th>\n",
       "      <td>1</td>\n",
       "      <td>平安银行</td>\n",
       "      <td>2001</td>\n",
       "      <td>2001-06-30</td>\n",
       "      <td>2001上半年本行主要经营情况\\n\\n\\n1、本行主营业务范围及其经营情况\\n\\n\\n本行主...</td>\n",
       "    </tr>\n",
       "    <tr>\n",
       "      <th>1</th>\n",
       "      <td>1</td>\n",
       "      <td>平安银行</td>\n",
       "      <td>2001</td>\n",
       "      <td>2001-12-31</td>\n",
       "      <td>2001年度本行主营业务范围\\n\\n\\n本行主营业务经营范围是经中国人民银行批准的各项商业银...</td>\n",
       "    </tr>\n",
       "    <tr>\n",
       "      <th>2</th>\n",
       "      <td>1</td>\n",
       "      <td>平安银行</td>\n",
       "      <td>2002</td>\n",
       "      <td>2002-06-30</td>\n",
       "      <td>2002上半年经营情况\\n\\n\\n1、本行经营情况\\n\\n\\n报告期内本行围绕2002年工作...</td>\n",
       "    </tr>\n",
       "    <tr>\n",
       "      <th>3</th>\n",
       "      <td>1</td>\n",
       "      <td>平安银行</td>\n",
       "      <td>2002</td>\n",
       "      <td>2002-12-31</td>\n",
       "      <td>一、报告期内整体经营情况的讨论和分析\\n\\n\\n2002年本行经营班子按照“规范经营立行，资...</td>\n",
       "    </tr>\n",
       "    <tr>\n",
       "      <th>4</th>\n",
       "      <td>1</td>\n",
       "      <td>平安银行</td>\n",
       "      <td>2003</td>\n",
       "      <td>2003-06-30</td>\n",
       "      <td>（一）主要经营情况\\n\\n\\n1、本行主营业务范围及其经营情况\\n\\n\\n本行主营业务经营范...</td>\n",
       "    </tr>\n",
       "  </tbody>\n",
       "</table>\n",
       "</div>"
      ],
      "text/plain": [
       "   Scode Coname  Year     Anatime  \\\n",
       "0      1   平安银行  2001  2001-06-30   \n",
       "1      1   平安银行  2001  2001-12-31   \n",
       "2      1   平安银行  2002  2002-06-30   \n",
       "3      1   平安银行  2002  2002-12-31   \n",
       "4      1   平安银行  2003  2003-06-30   \n",
       "\n",
       "                                               BusDA  \n",
       "0  2001上半年本行主要经营情况\\n\\n\\n1、本行主营业务范围及其经营情况\\n\\n\\n本行主...  \n",
       "1  2001年度本行主营业务范围\\n\\n\\n本行主营业务经营范围是经中国人民银行批准的各项商业银...  \n",
       "2  2002上半年经营情况\\n\\n\\n1、本行经营情况\\n\\n\\n报告期内本行围绕2002年工作...  \n",
       "3  一、报告期内整体经营情况的讨论和分析\\n\\n\\n2002年本行经营班子按照“规范经营立行，资...  \n",
       "4  （一）主要经营情况\\n\\n\\n1、本行主营业务范围及其经营情况\\n\\n\\n本行主营业务经营范...  "
      ]
     },
     "execution_count": 13,
     "metadata": {},
     "output_type": "execute_result"
    }
   ],
   "source": [
    "import pandas as pd\n",
    "\n",
    "df = pd.read_excel('管理层讨论与分析2.xlsx')\n",
    "df.head()"
   ]
  },
  {
   "cell_type": "code",
   "execution_count": 26,
   "id": "c27732cb",
   "metadata": {},
   "outputs": [
    {
     "name": "stdout",
     "output_type": "stream",
     "text": [
      "A股  :5868 家\n",
      "\n",
      "年份  :[1999, 2000, 2001, 2002, 2003, 2004, 2005, 2006, 2007, 2008, 2009, 2010, 2011, 2012, 2013, 2014, 2015, 2016, 2017, 2018, 2019, 2020] \n",
      "\n",
      "报告数: 88743 \n"
     ]
    }
   ],
   "source": [
    "print(\"A股  :{} 家\".format(len(df.Coname.unique())))\n",
    "print()\n",
    "print(\"年份  :{} \".format(sorted(df.Year.unique())))\n",
    "print()\n",
    "print(\"报告数: {} \".format(len(df)))"
   ]
  },
  {
   "cell_type": "code",
   "execution_count": null,
   "id": "e48dbc1e",
   "metadata": {},
   "outputs": [],
   "source": [
    "with open('md_a.txt', 'a+', encoding='utf-8') as f:\n",
    "    text = ''.join(df['BusDA'].to_list())\n",
    "    f.write(text)"
   ]
  },
  {
   "cell_type": "code",
   "execution_count": null,
   "id": "a94aa2c7",
   "metadata": {},
   "outputs": [],
   "source": [
    "from cntext import W2VModels\n",
    "import os\n",
    "\n",
    "#初始化模型\n",
    "model = W2VModels(cwd=os.getcwd())  #语料数据 w2v_corpus.txt\n",
    "model.train(input_txt_file='data/md_a.txt')\n",
    "\n",
    "\n",
    "#根据种子词，筛选出没类词最相近的前100个词\n",
    "model.find(seedword_txt_file='data/w2v_seeds/integrity.txt', \n",
    "           topn=100)\n",
    "model.find(seedword_txt_file='data/w2v_seeds/innovation.txt', \n",
    "           topn=100)\n",
    "model.find(seedword_txt_file='data/w2v_seeds/quality.txt', \n",
    "           topn=100)\n",
    "model.find(seedword_txt_file='data/w2v_seeds/respect.txt', \n",
    "           topn=100)\n",
    "model.find(seedword_txt_file='data/w2v_seeds/teamwork.txt', \n",
    "           topn=100)"
   ]
  },
  {
   "cell_type": "code",
   "execution_count": null,
   "id": "91012706",
   "metadata": {},
   "outputs": [],
   "source": []
  },
  {
   "cell_type": "code",
   "execution_count": null,
   "id": "dca9bfc3",
   "metadata": {},
   "outputs": [],
   "source": []
  },
  {
   "cell_type": "code",
   "execution_count": null,
   "id": "a4f21314",
   "metadata": {},
   "outputs": [],
   "source": []
  },
  {
   "cell_type": "code",
   "execution_count": null,
   "id": "bf2f8393",
   "metadata": {},
   "outputs": [],
   "source": []
  },
  {
   "cell_type": "code",
   "execution_count": null,
   "id": "0e8810fb",
   "metadata": {},
   "outputs": [],
   "source": []
  },
  {
   "cell_type": "code",
   "execution_count": null,
   "id": "4808ba31",
   "metadata": {},
   "outputs": [],
   "source": []
  },
  {
   "cell_type": "code",
   "execution_count": null,
   "id": "58303d95",
   "metadata": {},
   "outputs": [],
   "source": []
  },
  {
   "cell_type": "code",
   "execution_count": null,
   "id": "1581ee63",
   "metadata": {},
   "outputs": [],
   "source": []
  },
  {
   "cell_type": "code",
   "execution_count": null,
   "id": "3fa7575c",
   "metadata": {},
   "outputs": [],
   "source": []
  },
  {
   "cell_type": "code",
   "execution_count": null,
   "id": "df6a5c73",
   "metadata": {},
   "outputs": [],
   "source": []
  },
  {
   "cell_type": "code",
   "execution_count": null,
   "id": "6f5bbef2",
   "metadata": {},
   "outputs": [],
   "source": []
  },
  {
   "cell_type": "code",
   "execution_count": null,
   "id": "888b967e",
   "metadata": {},
   "outputs": [],
   "source": []
  },
  {
   "cell_type": "code",
   "execution_count": 12,
   "id": "473086a2",
   "metadata": {},
   "outputs": [],
   "source": [
    "df.iloc[1:, :][['Scode', 'Coname', 'Year', 'Anatime', 'BusDA']].to_excel('管理层讨论与分析2.xlsx', index=False)"
   ]
  },
  {
   "cell_type": "code",
   "execution_count": null,
   "id": "7bceda9b",
   "metadata": {},
   "outputs": [],
   "source": [
    "from cntext import W2VModels\n",
    "import os\n",
    "\n",
    "#初始化模型\n",
    "model = W2VModels(cwd=os.getcwd())  #语料数据 w2v_corpus.txt\n",
    "model.train(input_txt_file='data/w2v_corpus.txt')\n",
    "\n",
    "\n",
    "#根据种子词，筛选出没类词最相近的前100个词\n",
    "model.find(seedword_txt_file='data/w2v_seeds/integrity.txt', \n",
    "           topn=100)\n",
    "model.find(seedword_txt_file='data/w2v_seeds/innovation.txt', \n",
    "           topn=100)\n",
    "model.find(seedword_txt_file='data/w2v_seeds/quality.txt', \n",
    "           topn=100)\n",
    "model.find(seedword_txt_file='data/w2v_seeds/respect.txt', \n",
    "           topn=100)\n",
    "model.find(seedword_txt_file='data/w2v_seeds/teamwork.txt', \n",
    "           topn=100)"
   ]
  }
 ],
 "metadata": {
  "kernelspec": {
   "display_name": "Python 3 (ipykernel)",
   "language": "python",
   "name": "python3"
  },
  "language_info": {
   "codemirror_mode": {
    "name": "ipython",
    "version": 3
   },
   "file_extension": ".py",
   "mimetype": "text/x-python",
   "name": "python",
   "nbconvert_exporter": "python",
   "pygments_lexer": "ipython3",
   "version": "3.9.7"
  }
 },
 "nbformat": 4,
 "nbformat_minor": 5
}
