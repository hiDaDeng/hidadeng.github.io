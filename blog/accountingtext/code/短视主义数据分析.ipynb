{
 "cells": [
  {
   "cell_type": "code",
   "execution_count": null,
   "id": "992d2507",
   "metadata": {},
   "outputs": [],
   "source": []
  },
  {
   "cell_type": "markdown",
   "id": "84640ea1",
   "metadata": {},
   "source": [
    "# 1. 批量下载"
   ]
  },
  {
   "cell_type": "code",
   "execution_count": null,
   "id": "cb943f2c",
   "metadata": {},
   "outputs": [],
   "source": [
    "from shreport import SH\n",
    "\n",
    "cookies = {\"Cookie\": '您的cookies'}\n",
    "sh = SH(cookies)\n",
    "sdf = sh.companys()\n",
    "\n",
    "#将查询结果存储\n",
    "#sdf.to_excel('上证交易所上市公司名录.xlsx')\n",
    "\n",
    "#显示前5条数据\n",
    "sdf.head()"
   ]
  },
  {
   "cell_type": "code",
   "execution_count": null,
   "id": "e67be0c5",
   "metadata": {},
   "outputs": [],
   "source": []
  },
  {
   "cell_type": "code",
   "execution_count": null,
   "id": "2536d683",
   "metadata": {},
   "outputs": [],
   "source": [
    "from pathlib import Path\n",
    "from shreport import SH\n",
    "\n",
    "cookies = {\"Cookie\": 'sseMenuSpecial=8311; yfx_c_g_u_id_10000042=_ck22041420474316030190275754320; yfx_f_l_v_t_10000042=f_t_1649940463492__r_t_1649940463492__v_t_1649940463492__r_c_0; VISITED_MENU=%5B%228312%22%5D'}\n",
    "sh = SH(cookies)\n",
    "#获取当前代码所在的文件夹路径\n",
    "cwd = Path().cwd() \n",
    "#以浦发银行为例股票代码600000\n",
    "sh.download(code='600004', savepath=cwd)"
   ]
  },
  {
   "cell_type": "markdown",
   "id": "7168f6f7",
   "metadata": {},
   "source": []
  },
  {
   "cell_type": "markdown",
   "id": "5dd2a9c7",
   "metadata": {},
   "source": []
  },
  {
   "cell_type": "markdown",
   "id": "db667c9e",
   "metadata": {},
   "source": [
    "# 2. 整理md&a"
   ]
  },
  {
   "cell_type": "code",
   "execution_count": 1,
   "id": "3e498842",
   "metadata": {},
   "outputs": [
    {
     "data": {
      "text/html": [
       "<div>\n",
       "<style scoped>\n",
       "    .dataframe tbody tr th:only-of-type {\n",
       "        vertical-align: middle;\n",
       "    }\n",
       "\n",
       "    .dataframe tbody tr th {\n",
       "        vertical-align: top;\n",
       "    }\n",
       "\n",
       "    .dataframe thead th {\n",
       "        text-align: right;\n",
       "    }\n",
       "</style>\n",
       "<table border=\"1\" class=\"dataframe\">\n",
       "  <thead>\n",
       "    <tr style=\"text-align: right;\">\n",
       "      <th></th>\n",
       "      <th>Scode</th>\n",
       "      <th>Coname</th>\n",
       "      <th>Year</th>\n",
       "      <th>Anatime</th>\n",
       "      <th>BusDA</th>\n",
       "    </tr>\n",
       "  </thead>\n",
       "  <tbody>\n",
       "    <tr>\n",
       "      <th>0</th>\n",
       "      <td>600136</td>\n",
       "      <td>当代明诚</td>\n",
       "      <td>2005</td>\n",
       "      <td>2005-06-30</td>\n",
       "      <td>1、公司主营业务经营情况说明\\n\\n\\n本报告期公司主营业务为：房地产开发与商品房销售、电子...</td>\n",
       "    </tr>\n",
       "    <tr>\n",
       "      <th>1</th>\n",
       "      <td>861</td>\n",
       "      <td>海印股份</td>\n",
       "      <td>2018</td>\n",
       "      <td>2018-12-31</td>\n",
       "      <td>第四节 经营情况讨论与分析\\n\\n一、概述\\n\\n2018 年，随着经济结构不断优化，居民人...</td>\n",
       "    </tr>\n",
       "    <tr>\n",
       "      <th>2</th>\n",
       "      <td>600759</td>\n",
       "      <td>洲际油气</td>\n",
       "      <td>2016</td>\n",
       "      <td>2016-06-30</td>\n",
       "      <td>截止本报告期末,公司实现营业收入559,628,476.62元,较上年同期下降14.35%;...</td>\n",
       "    </tr>\n",
       "    <tr>\n",
       "      <th>3</th>\n",
       "      <td>600988</td>\n",
       "      <td>赤峰黄金</td>\n",
       "      <td>2012</td>\n",
       "      <td>2012-12-31</td>\n",
       "      <td>第三节 董事会报告\\n\\n2012 年，公司实施了重大资产重组，公司资产结构及主营业务发生了...</td>\n",
       "    </tr>\n",
       "    <tr>\n",
       "      <th>4</th>\n",
       "      <td>600804</td>\n",
       "      <td>鹏博士</td>\n",
       "      <td>2007</td>\n",
       "      <td>2007-12-31</td>\n",
       "      <td>（一）管理层讨论与分析\\n\\n\\n报告期内,公司顺利完成非公开发行股票及重大资产收购工作,使...</td>\n",
       "    </tr>\n",
       "  </tbody>\n",
       "</table>\n",
       "</div>"
      ],
      "text/plain": [
       "    Scode Coname  Year     Anatime  \\\n",
       "0  600136   当代明诚  2005  2005-06-30   \n",
       "1     861   海印股份  2018  2018-12-31   \n",
       "2  600759   洲际油气  2016  2016-06-30   \n",
       "3  600988   赤峰黄金  2012  2012-12-31   \n",
       "4  600804    鹏博士  2007  2007-12-31   \n",
       "\n",
       "                                               BusDA  \n",
       "0  1、公司主营业务经营情况说明\\n\\n\\n本报告期公司主营业务为：房地产开发与商品房销售、电子...  \n",
       "1  第四节 经营情况讨论与分析\\n\\n一、概述\\n\\n2018 年，随着经济结构不断优化，居民人...  \n",
       "2  截止本报告期末,公司实现营业收入559,628,476.62元,较上年同期下降14.35%;...  \n",
       "3  第三节 董事会报告\\n\\n2012 年，公司实施了重大资产重组，公司资产结构及主营业务发生了...  \n",
       "4  （一）管理层讨论与分析\\n\\n\\n报告期内,公司顺利完成非公开发行股票及重大资产收购工作,使...  "
      ]
     },
     "execution_count": 1,
     "metadata": {},
     "output_type": "execute_result"
    }
   ],
   "source": [
    "import pandas as pd\n",
    "\n",
    "df = pd.read_excel('small_MD_A.xlsx')\n",
    "df.head()"
   ]
  },
  {
   "cell_type": "code",
   "execution_count": 2,
   "id": "4678a78a",
   "metadata": {},
   "outputs": [
    {
     "name": "stdout",
     "output_type": "stream",
     "text": [
      "A股  :2742 家\n",
      "\n",
      "年份  :[1999, 2000, 2001, 2002, 2003, 2004, 2005, 2006, 2007, 2008, 2009, 2010, 2011, 2012, 2013, 2014, 2015, 2016, 2017, 2018, 2019, 2020] \n",
      "\n",
      "报告数: 5000 \n"
     ]
    }
   ],
   "source": [
    "print(\"A股  :{} 家\".format(len(df.Coname.unique())))\n",
    "print()\n",
    "print(\"年份  :{} \".format(sorted(df.Year.unique())))\n",
    "print()\n",
    "print(\"报告数: {} \".format(len(df)))"
   ]
  },
  {
   "cell_type": "markdown",
   "id": "964a7a8b",
   "metadata": {},
   "source": [
    "# 3. 短视主义词典"
   ]
  },
  {
   "cell_type": "code",
   "execution_count": 4,
   "id": "4d04cae7",
   "metadata": {},
   "outputs": [],
   "source": [
    "\n",
    "short_terms_dicts = {'短视': ['天内', '数月', '年内', '年底', '尽快',  '立刻', '马上']}\n",
    "\n"
   ]
  },
  {
   "cell_type": "markdown",
   "id": "e23c24d4",
   "metadata": {},
   "source": [
    "# 4. 短视主义计算"
   ]
  },
  {
   "cell_type": "code",
   "execution_count": null,
   "id": "6d26e572",
   "metadata": {},
   "outputs": [],
   "source": [
    "!pip3 install cntext==1.6"
   ]
  },
  {
   "cell_type": "code",
   "execution_count": 6,
   "id": "1627a799",
   "metadata": {},
   "outputs": [
    {
     "name": "stdout",
     "output_type": "stream",
     "text": [
      "Help on function sentiment in module cntext.stats:\n",
      "\n",
      "sentiment(text, diction, language='chinese')\n",
      "    使用diy词典进行情感分析，计算各个情绪词出现次数，未考虑强度副词、否定词对情感的复杂影响，\n",
      "    :param text:  待分析中文文本\n",
      "    :param diction:  情感词字典；\n",
      "    :param language: 语言类型，\"chinese\"或\"english\"，默认\"chinese\"\n",
      "    \n",
      "    {'category1':  'category1 词语列表',\n",
      "     'category2': 'category2词语列表',\n",
      "     'category3': 'category3词语列表',\n",
      "     ...\n",
      "    }\n",
      "    \n",
      "    :return:\n",
      "\n"
     ]
    }
   ],
   "source": [
    "from cntext import sentiment\n",
    "help(sentiment)"
   ]
  },
  {
   "cell_type": "code",
   "execution_count": 11,
   "id": "7e6dc0f8",
   "metadata": {},
   "outputs": [
    {
     "data": {
      "text/plain": [
       "{'短视_num': 3, 'stopword_num': 4, 'sentence_num': 1, 'word_num': 17}"
      ]
     },
     "execution_count": 11,
     "metadata": {},
     "output_type": "execute_result"
    }
   ],
   "source": [
    "from cntext import sentiment\n",
    "\n",
    "    \n",
    "def short_term_infos(text, diction):\n",
    "    return pd.Series(sentiment(text=text, \n",
    "                               diction=diction))\n",
    "\n",
    "text = '我公司需要尽快落实新战略，争取月底转型升级，力争年底上市。'\n",
    "\n",
    "\n",
    "sentiment(text=text, \n",
    "          diction=short_terms_dicts)"
   ]
  },
  {
   "cell_type": "code",
   "execution_count": null,
   "id": "d6eac4b1",
   "metadata": {},
   "outputs": [],
   "source": []
  },
  {
   "cell_type": "code",
   "execution_count": 12,
   "id": "3d07df99",
   "metadata": {},
   "outputs": [
    {
     "data": {
      "text/html": [
       "<div>\n",
       "<style scoped>\n",
       "    .dataframe tbody tr th:only-of-type {\n",
       "        vertical-align: middle;\n",
       "    }\n",
       "\n",
       "    .dataframe tbody tr th {\n",
       "        vertical-align: top;\n",
       "    }\n",
       "\n",
       "    .dataframe thead th {\n",
       "        text-align: right;\n",
       "    }\n",
       "</style>\n",
       "<table border=\"1\" class=\"dataframe\">\n",
       "  <thead>\n",
       "    <tr style=\"text-align: right;\">\n",
       "      <th></th>\n",
       "      <th>Scode</th>\n",
       "      <th>Coname</th>\n",
       "      <th>Year</th>\n",
       "      <th>Anatime</th>\n",
       "      <th>BusDA</th>\n",
       "      <th>短视_num</th>\n",
       "      <th>stopword_num</th>\n",
       "      <th>sentence_num</th>\n",
       "      <th>word_num</th>\n",
       "      <th>短视主义程度</th>\n",
       "    </tr>\n",
       "  </thead>\n",
       "  <tbody>\n",
       "    <tr>\n",
       "      <th>3</th>\n",
       "      <td>600988</td>\n",
       "      <td>赤峰黄金</td>\n",
       "      <td>2012</td>\n",
       "      <td>2012-12-31</td>\n",
       "      <td>第三节 董事会报告\\n\\n2012 年，公司实施了重大资产重组，公司资产结构及主营业务发生了...</td>\n",
       "      <td>1</td>\n",
       "      <td>1281</td>\n",
       "      <td>281</td>\n",
       "      <td>4566</td>\n",
       "      <td>0.000219</td>\n",
       "    </tr>\n",
       "    <tr>\n",
       "      <th>4</th>\n",
       "      <td>600804</td>\n",
       "      <td>鹏博士</td>\n",
       "      <td>2007</td>\n",
       "      <td>2007-12-31</td>\n",
       "      <td>（一）管理层讨论与分析\\n\\n\\n报告期内,公司顺利完成非公开发行股票及重大资产收购工作,使...</td>\n",
       "      <td>1</td>\n",
       "      <td>706</td>\n",
       "      <td>110</td>\n",
       "      <td>2881</td>\n",
       "      <td>0.000347</td>\n",
       "    </tr>\n",
       "    <tr>\n",
       "      <th>6</th>\n",
       "      <td>600227</td>\n",
       "      <td>赤天化</td>\n",
       "      <td>2009</td>\n",
       "      <td>2009-06-30</td>\n",
       "      <td>（一） 报告期内整体经营情况的讨论与分析报告期内，受全球金融危机蔓延的影响，公司面临的外部经...</td>\n",
       "      <td>1</td>\n",
       "      <td>333</td>\n",
       "      <td>60</td>\n",
       "      <td>1334</td>\n",
       "      <td>0.000750</td>\n",
       "    </tr>\n",
       "    <tr>\n",
       "      <th>12</th>\n",
       "      <td>300183</td>\n",
       "      <td>东软载波</td>\n",
       "      <td>2012</td>\n",
       "      <td>2012-06-30</td>\n",
       "      <td>2012年上半年，随着国家发改委提出加快阶梯电价实施进程，国网公司加快了电力用户信息采集系统...</td>\n",
       "      <td>7</td>\n",
       "      <td>196</td>\n",
       "      <td>26</td>\n",
       "      <td>750</td>\n",
       "      <td>0.009333</td>\n",
       "    </tr>\n",
       "    <tr>\n",
       "      <th>15</th>\n",
       "      <td>2175</td>\n",
       "      <td>东方网络</td>\n",
       "      <td>2018</td>\n",
       "      <td>2018-12-31</td>\n",
       "      <td>第四节 经营情况讨论与分析\\n\\n一、 概述\\n\\n2018 年是公司转型“文化传媒行业”的...</td>\n",
       "      <td>3</td>\n",
       "      <td>953</td>\n",
       "      <td>677</td>\n",
       "      <td>8297</td>\n",
       "      <td>0.000362</td>\n",
       "    </tr>\n",
       "    <tr>\n",
       "      <th>...</th>\n",
       "      <td>...</td>\n",
       "      <td>...</td>\n",
       "      <td>...</td>\n",
       "      <td>...</td>\n",
       "      <td>...</td>\n",
       "      <td>...</td>\n",
       "      <td>...</td>\n",
       "      <td>...</td>\n",
       "      <td>...</td>\n",
       "      <td>...</td>\n",
       "    </tr>\n",
       "    <tr>\n",
       "      <th>4983</th>\n",
       "      <td>600509</td>\n",
       "      <td>天富能源</td>\n",
       "      <td>2009</td>\n",
       "      <td>2009-06-30</td>\n",
       "      <td>（一） 报告期内整体经营情况的讨论与分析报告期内，公司电、热及天然气的产销量都较上年同期有较...</td>\n",
       "      <td>1</td>\n",
       "      <td>231</td>\n",
       "      <td>41</td>\n",
       "      <td>798</td>\n",
       "      <td>0.001253</td>\n",
       "    </tr>\n",
       "    <tr>\n",
       "      <th>4985</th>\n",
       "      <td>536</td>\n",
       "      <td>华映科技</td>\n",
       "      <td>2004</td>\n",
       "      <td>2004-12-31</td>\n",
       "      <td>一、经营情况的讨论与分析\\n\\n\\n报告期内，公司属于机械工业的中小型电机行业，仍以电机、房...</td>\n",
       "      <td>1</td>\n",
       "      <td>212</td>\n",
       "      <td>30</td>\n",
       "      <td>655</td>\n",
       "      <td>0.001527</td>\n",
       "    </tr>\n",
       "    <tr>\n",
       "      <th>4987</th>\n",
       "      <td>408</td>\n",
       "      <td>藏格控股</td>\n",
       "      <td>2008</td>\n",
       "      <td>2008-12-31</td>\n",
       "      <td>一、报告期内公司经营情况回顾\\n\\n\\n2008 年是公司生产经营较为艰难的一年。全年生产经...</td>\n",
       "      <td>1</td>\n",
       "      <td>295</td>\n",
       "      <td>48</td>\n",
       "      <td>977</td>\n",
       "      <td>0.001024</td>\n",
       "    </tr>\n",
       "    <tr>\n",
       "      <th>4988</th>\n",
       "      <td>550</td>\n",
       "      <td>江铃汽车</td>\n",
       "      <td>2004</td>\n",
       "      <td>2004-12-31</td>\n",
       "      <td>（一）经营情况\\n\\n\\n本公司的主要业务是生产和销售轻型汽车以及相关的零部件。主要产品包括...</td>\n",
       "      <td>1</td>\n",
       "      <td>278</td>\n",
       "      <td>37</td>\n",
       "      <td>764</td>\n",
       "      <td>0.001309</td>\n",
       "    </tr>\n",
       "    <tr>\n",
       "      <th>4993</th>\n",
       "      <td>600275</td>\n",
       "      <td>*ST昌鱼</td>\n",
       "      <td>2011</td>\n",
       "      <td>2011-12-31</td>\n",
       "      <td>（一）  管理层讨论与分析 \\n\\n\\n（一）报告期内公司总体经营情况 \\n\\n\\n报告期内...</td>\n",
       "      <td>1</td>\n",
       "      <td>285</td>\n",
       "      <td>55</td>\n",
       "      <td>1000</td>\n",
       "      <td>0.001000</td>\n",
       "    </tr>\n",
       "  </tbody>\n",
       "</table>\n",
       "<p>1610 rows × 10 columns</p>\n",
       "</div>"
      ],
      "text/plain": [
       "       Scode Coname  Year     Anatime  \\\n",
       "3     600988   赤峰黄金  2012  2012-12-31   \n",
       "4     600804    鹏博士  2007  2007-12-31   \n",
       "6     600227    赤天化  2009  2009-06-30   \n",
       "12    300183   东软载波  2012  2012-06-30   \n",
       "15      2175   东方网络  2018  2018-12-31   \n",
       "...      ...    ...   ...         ...   \n",
       "4983  600509   天富能源  2009  2009-06-30   \n",
       "4985     536   华映科技  2004  2004-12-31   \n",
       "4987     408   藏格控股  2008  2008-12-31   \n",
       "4988     550   江铃汽车  2004  2004-12-31   \n",
       "4993  600275  *ST昌鱼  2011  2011-12-31   \n",
       "\n",
       "                                                  BusDA  短视_num  stopword_num  \\\n",
       "3     第三节 董事会报告\\n\\n2012 年，公司实施了重大资产重组，公司资产结构及主营业务发生了...       1          1281   \n",
       "4     （一）管理层讨论与分析\\n\\n\\n报告期内,公司顺利完成非公开发行股票及重大资产收购工作,使...       1           706   \n",
       "6     （一） 报告期内整体经营情况的讨论与分析报告期内，受全球金融危机蔓延的影响，公司面临的外部经...       1           333   \n",
       "12    2012年上半年，随着国家发改委提出加快阶梯电价实施进程，国网公司加快了电力用户信息采集系统...       7           196   \n",
       "15    第四节 经营情况讨论与分析\\n\\n一、 概述\\n\\n2018 年是公司转型“文化传媒行业”的...       3           953   \n",
       "...                                                 ...     ...           ...   \n",
       "4983  （一） 报告期内整体经营情况的讨论与分析报告期内，公司电、热及天然气的产销量都较上年同期有较...       1           231   \n",
       "4985  一、经营情况的讨论与分析\\n\\n\\n报告期内，公司属于机械工业的中小型电机行业，仍以电机、房...       1           212   \n",
       "4987  一、报告期内公司经营情况回顾\\n\\n\\n2008 年是公司生产经营较为艰难的一年。全年生产经...       1           295   \n",
       "4988  （一）经营情况\\n\\n\\n本公司的主要业务是生产和销售轻型汽车以及相关的零部件。主要产品包括...       1           278   \n",
       "4993  （一）  管理层讨论与分析 \\n\\n\\n（一）报告期内公司总体经营情况 \\n\\n\\n报告期内...       1           285   \n",
       "\n",
       "      sentence_num  word_num    短视主义程度  \n",
       "3              281      4566  0.000219  \n",
       "4              110      2881  0.000347  \n",
       "6               60      1334  0.000750  \n",
       "12              26       750  0.009333  \n",
       "15             677      8297  0.000362  \n",
       "...            ...       ...       ...  \n",
       "4983            41       798  0.001253  \n",
       "4985            30       655  0.001527  \n",
       "4987            48       977  0.001024  \n",
       "4988            37       764  0.001309  \n",
       "4993            55      1000  0.001000  \n",
       "\n",
       "[1610 rows x 10 columns]"
      ]
     },
     "execution_count": 12,
     "metadata": {},
     "output_type": "execute_result"
    }
   ],
   "source": [
    "short_df = df['BusDA'].apply(short_term_infos, \n",
    "                             diction=short_terms_dicts)\n",
    "\n",
    "new_df = pd.concat([df, short_df], axis=1)\n",
    "\n",
    "new_df['短视主义程度']=new_df['短视_num']/new_df['word_num']\n",
    "\n",
    "new_df[new_df['短视主义程度']>0]"
   ]
  },
  {
   "cell_type": "code",
   "execution_count": null,
   "id": "5def77e7",
   "metadata": {},
   "outputs": [],
   "source": []
  },
  {
   "cell_type": "code",
   "execution_count": null,
   "id": "85b5dccf",
   "metadata": {},
   "outputs": [],
   "source": []
  },
  {
   "cell_type": "code",
   "execution_count": null,
   "id": "ff25f9e3",
   "metadata": {},
   "outputs": [],
   "source": []
  },
  {
   "cell_type": "code",
   "execution_count": 12,
   "id": "2369cd82",
   "metadata": {},
   "outputs": [
    {
     "data": {
      "text/plain": [
       "<gensim.models.keyedvectors.KeyedVectors at 0x7f8b168b7b50>"
      ]
     },
     "execution_count": 12,
     "metadata": {},
     "output_type": "execute_result"
    }
   ],
   "source": []
  },
  {
   "cell_type": "code",
   "execution_count": 13,
   "id": "cd382fea",
   "metadata": {
    "collapsed": true
   },
   "outputs": [
    {
     "data": {
      "text/plain": [
       "array([-1.6928811e-02,  3.7603001e-03,  7.7051586e-03, -8.0923783e-03,\n",
       "       -2.2519925e-03,  1.1721392e-03, -7.7138282e-03,  1.2574076e-02,\n",
       "        1.6803989e-02,  2.0844387e-03,  7.8222575e-04, -3.9842480e-04,\n",
       "       -1.2934345e-02, -4.6401178e-03, -1.2668942e-02,  6.4697088e-04,\n",
       "       -1.4708638e-02,  1.6241480e-03,  1.0422479e-03, -2.2304073e-02,\n",
       "        2.1653239e-02,  1.1029784e-02,  7.4102250e-03, -1.7052751e-02,\n",
       "        5.0417199e-03,  1.5559165e-02, -1.9240506e-03,  9.0795005e-04,\n",
       "       -3.4530319e-02, -3.0115025e-02, -6.6113039e-03,  2.3094827e-02,\n",
       "       -3.2706219e-03, -8.8423630e-03,  3.9391471e-03, -6.7869779e-03,\n",
       "        1.0314009e-02,  4.6877684e-03, -3.6454117e-03, -1.5133144e-02,\n",
       "       -1.0863796e-02, -3.2419243e-03, -9.3616368e-03,  7.7638794e-03,\n",
       "        1.5916402e-02,  5.1452004e-04, -1.2945516e-02, -4.4644321e-03,\n",
       "        1.6014639e-02,  2.2467042e-03,  9.3664844e-03, -3.0118048e-03,\n",
       "       -5.7858834e-03, -4.3510059e-03, -3.0939199e-03, -1.8782240e-03,\n",
       "       -1.7181816e-02, -1.5257285e-03,  1.7514140e-03,  2.2511340e-03,\n",
       "        5.5930018e-03, -4.8704143e-03, -2.6993910e-03, -5.6856084e-03,\n",
       "       -6.2346435e-03,  1.5911143e-02, -1.5171300e-02,  9.6214460e-03,\n",
       "       -7.6815297e-05,  1.3637553e-02, -8.0096005e-03,  1.9569108e-02,\n",
       "        4.9931770e-03, -1.0634096e-03,  1.3417403e-02, -3.6068014e-03,\n",
       "        2.5036461e-03, -1.6022511e-02, -1.1643037e-02, -4.1305690e-04,\n",
       "       -5.5608917e-03, -1.9222468e-03, -2.4406733e-02,  1.3408731e-02,\n",
       "       -1.9012389e-03,  2.4877241e-02, -2.6423731e-04,  3.1561081e-03,\n",
       "        8.0546429e-03, -4.5125568e-03, -5.8519482e-03, -9.0148021e-03,\n",
       "        1.1344795e-02, -8.5202791e-03,  1.2586038e-03, -4.8391954e-03,\n",
       "        2.6856801e-02, -6.5912427e-03, -1.7507445e-02, -8.3821649e-03],\n",
       "      dtype=float32)"
      ]
     },
     "execution_count": 13,
     "metadata": {},
     "output_type": "execute_result"
    }
   ],
   "source": [
    "def getvec(word):\n",
    "    return w2v_model.get_vector(word)\n",
    "\n",
    "v1 = getvec('班子')\n",
    "v1"
   ]
  },
  {
   "cell_type": "code",
   "execution_count": 31,
   "id": "1de0cea9",
   "metadata": {
    "collapsed": true
   },
   "outputs": [
    {
     "data": {
      "text/plain": [
       "array([-9.7802642e-04, -1.0850709e-03,  5.5397180e-04, -2.3114888e-03,\n",
       "       -3.2688782e-03, -2.9677464e-04,  1.3205163e-03,  1.5658514e-03,\n",
       "        1.2011837e-03, -2.8580569e-03,  6.7808077e-04,  7.9690712e-03,\n",
       "        4.0947358e-04,  3.4272671e-04,  9.1581093e-03, -4.4239489e-03,\n",
       "        1.8016202e-03, -3.1368432e-03,  7.7428832e-03, -4.9203518e-03,\n",
       "       -1.2628173e-03, -2.4986840e-03,  2.5500045e-03,  1.1967588e-03,\n",
       "       -1.6034986e-03,  3.0349717e-03, -3.5297943e-03,  2.5465956e-03,\n",
       "        2.9796603e-04, -1.1809610e-03,  3.0079009e-03, -2.5266767e-03,\n",
       "       -2.3871132e-03,  6.7020305e-03, -1.5548551e-03,  2.4140074e-03,\n",
       "       -1.6895899e-03,  5.3502696e-05, -6.9087720e-03,  2.0606772e-03,\n",
       "        2.1241449e-03, -6.3858684e-03, -2.7876145e-03, -2.1434324e-03,\n",
       "       -1.4681182e-03, -1.5298518e-03, -1.3644465e-04,  8.2780374e-04,\n",
       "        2.8159006e-03, -4.0065390e-03,  1.9975745e-03,  3.3509952e-03,\n",
       "        6.9097505e-04,  7.8044818e-03,  8.0248370e-04,  1.0167925e-03,\n",
       "       -3.2126836e-03, -5.1112025e-04,  5.0929415e-05, -1.6334964e-03,\n",
       "       -1.6242227e-03,  1.7686771e-03, -1.4588617e-03,  3.8438097e-03,\n",
       "        1.5222025e-03,  2.6316617e-03, -3.1488955e-03,  5.1000039e-03,\n",
       "        2.8401476e-03, -1.4113038e-03,  4.0773931e-03,  1.0568429e-03,\n",
       "        9.4149029e-05, -4.1016433e-03,  3.9382372e-03, -3.7292812e-03,\n",
       "        6.1567873e-03, -6.3989530e-03,  2.4415993e-03,  1.7953021e-03,\n",
       "       -3.4756341e-04,  2.0194103e-03,  1.1130134e-03, -1.7001542e-04,\n",
       "        3.9530471e-03,  2.0473972e-03,  5.3066923e-03,  4.4826744e-04,\n",
       "        5.6162220e-03,  1.7734934e-03,  2.3637707e-03, -2.6468812e-03,\n",
       "        1.9505717e-03,  3.1897959e-03, -3.2912213e-03,  2.9915692e-03,\n",
       "        9.2855375e-04, -1.7358382e-03, -3.4508053e-03, -6.4231083e-03],\n",
       "      dtype=float32)"
      ]
     },
     "execution_count": 31,
     "metadata": {},
     "output_type": "execute_result"
    }
   ],
   "source": [
    "female = (getvec('女性') + getvec('女') + getvec('妈妈'))/3\n",
    "female"
   ]
  },
  {
   "cell_type": "code",
   "execution_count": 32,
   "id": "dc17b50e",
   "metadata": {
    "collapsed": true
   },
   "outputs": [
    {
     "data": {
      "text/plain": [
       "array([-4.3988246e-03,  4.8705484e-04, -5.9010778e-03,  6.2376154e-03,\n",
       "       -3.0389763e-03,  2.4262411e-03, -5.7574692e-03,  3.2243847e-03,\n",
       "       -1.6693409e-03, -4.8531652e-03, -1.8645826e-03,  3.0020718e-04,\n",
       "        2.4983359e-03,  1.5611370e-03, -3.5955273e-03,  3.9251926e-03,\n",
       "        3.4007325e-03,  1.7652899e-03, -1.2461996e-03, -1.0120933e-03,\n",
       "       -2.6910265e-03, -1.2663738e-03, -5.6406576e-04,  1.6866199e-03,\n",
       "        2.9088215e-03, -8.2984036e-03,  2.1232932e-03,  1.7734448e-04,\n",
       "        4.5281863e-03,  4.4056526e-03,  1.5914425e-03,  3.3137240e-03,\n",
       "       -2.9367106e-03,  4.3961504e-03,  5.6690336e-03,  1.2382437e-03,\n",
       "       -2.7088635e-04, -2.5352915e-03, -5.3167902e-03,  2.2760502e-03,\n",
       "        4.7371318e-04, -1.0607719e-03, -1.3922054e-04, -2.0893861e-03,\n",
       "       -2.8699785e-03, -2.3632746e-03, -3.4749014e-03,  3.8159664e-03,\n",
       "       -3.3181971e-03,  1.4429330e-03,  1.1258951e-03,  3.6877200e-03,\n",
       "       -6.0419895e-04, -1.0684865e-03, -3.9230301e-03, -1.8448448e-03,\n",
       "        4.6718931e-03,  1.7175659e-03,  5.5925585e-03, -1.7250453e-04,\n",
       "        5.6242775e-03,  4.9167388e-04,  1.6826660e-03,  1.4827967e-03,\n",
       "       -2.6350713e-03,  5.9382990e-05, -2.0153204e-03,  5.5053034e-03,\n",
       "        4.3286011e-04,  9.7000692e-04, -1.3986215e-03,  4.2981338e-03,\n",
       "       -7.5864592e-03,  4.7147437e-04, -3.0800176e-03,  5.4186271e-03,\n",
       "        8.0667180e-04, -6.8822303e-03,  2.0488389e-03,  8.6885056e-04,\n",
       "        2.3866303e-03,  1.1683622e-03,  3.0715873e-03, -1.0316189e-03,\n",
       "       -1.6243539e-04,  8.6086662e-04, -4.2283852e-03, -8.0029378e-03,\n",
       "       -2.8402247e-03,  2.2627863e-03,  3.7646629e-03,  1.3929891e-03,\n",
       "       -4.1539436e-03,  2.8269537e-04,  5.9769917e-03, -3.0007076e-03,\n",
       "        2.4565062e-04, -6.2062317e-03,  1.0135652e-03,  1.9816470e-03],\n",
       "      dtype=float32)"
      ]
     },
     "execution_count": 32,
     "metadata": {},
     "output_type": "execute_result"
    }
   ],
   "source": [
    "male = (getvec('男性') + getvec('男') + getvec('爸爸'))/3\n",
    "male"
   ]
  },
  {
   "cell_type": "code",
   "execution_count": 35,
   "id": "f538c080",
   "metadata": {},
   "outputs": [
    {
     "data": {
      "text/plain": [
       "array([-0.06231755, -0.09240822], dtype=float32)"
      ]
     },
     "execution_count": 35,
     "metadata": {},
     "output_type": "execute_result"
    }
   ],
   "source": [
    "w2v_model.cosine_similarities(getvec('工程师'), [getvec('男'), \n",
    "                                                getvec('女')])"
   ]
  },
  {
   "cell_type": "code",
   "execution_count": 43,
   "id": "a999aa2d",
   "metadata": {},
   "outputs": [
    {
     "data": {
      "text/plain": [
       "array([0.9833715 , 0.12054411], dtype=float32)"
      ]
     },
     "execution_count": 43,
     "metadata": {},
     "output_type": "execute_result"
    }
   ],
   "source": [
    "w2v_model.cosine_similarities(getvec('风险'), [getvec('危机'), \n",
    "                                             getvec('妈妈')])"
   ]
  },
  {
   "cell_type": "code",
   "execution_count": 44,
   "id": "fc284718",
   "metadata": {
    "scrolled": true
   },
   "outputs": [
    {
     "data": {
      "text/plain": [
       "array([0.0811202 , 0.21992126], dtype=float32)"
      ]
     },
     "execution_count": 44,
     "metadata": {},
     "output_type": "execute_result"
    }
   ],
   "source": [
    "w2v_model.cosine_similarities(getvec('管控'), [getvec('风险'), \n",
    "                                             getvec('妈妈')])"
   ]
  },
  {
   "cell_type": "code",
   "execution_count": 54,
   "id": "c50c4dc7",
   "metadata": {},
   "outputs": [
    {
     "data": {
      "text/plain": [
       "[('风险', 0.9991183280944824),\n",
       " ('业务', 0.9990758299827576),\n",
       " ('本行', 0.9990417957305908),\n",
       " ('资本', 0.9990257620811462),\n",
       " ('“', 0.999019980430603),\n",
       " ('管理', 0.9989909529685974),\n",
       " ('提高', 0.9989698529243469),\n",
       " (',', 0.9989678859710693),\n",
       " ('经营', 0.9989630579948425),\n",
       " ('市场', 0.9989481568336487)]"
      ]
     },
     "execution_count": 54,
     "metadata": {},
     "output_type": "execute_result"
    }
   ],
   "source": [
    "w2v_model.similar_by_key('不良资产')"
   ]
  },
  {
   "cell_type": "code",
   "execution_count": 73,
   "id": "a7515477",
   "metadata": {},
   "outputs": [
    {
     "data": {
      "text/plain": [
       "[('业务', 0.9997439980506897),\n",
       " (',', 0.9996848702430725),\n",
       " ('提高', 0.9996770024299622),\n",
       " ('本行', 0.9996767640113831),\n",
       " ('零售', 0.9996206760406494),\n",
       " ('风险', 0.9996152520179749),\n",
       " ('商业银行', 0.9996132850646973),\n",
       " ('各项', 0.999573826789856),\n",
       " ('存款', 0.999567985534668),\n",
       " ('资产', 0.99955815076828)]"
      ]
     },
     "execution_count": 73,
     "metadata": {},
     "output_type": "execute_result"
    }
   ],
   "source": [
    "w2v_model.similar_by_key('发行')"
   ]
  },
  {
   "cell_type": "code",
   "execution_count": 60,
   "id": "f0ba8911",
   "metadata": {},
   "outputs": [
    {
     "data": {
      "text/plain": [
       "[('NUM', 0.9913316369056702),\n",
       " ('增长', 0.991309404373169),\n",
       " ('期末', 0.9912890791893005),\n",
       " ('利润', 0.9912500977516174),\n",
       " ('增加', 0.9912283420562744),\n",
       " ('%', 0.9911730289459229),\n",
       " ('增幅', 0.9911189675331116),\n",
       " ('收入', 0.9910915493965149),\n",
       " ('贷款', 0.9910189509391785),\n",
       " ('保持', 0.9909676909446716)]"
      ]
     },
     "execution_count": 60,
     "metadata": {},
     "output_type": "execute_result"
    }
   ],
   "source": [
    "w2v_model.similar_by_key('拨备')"
   ]
  },
  {
   "cell_type": "code",
   "execution_count": 61,
   "id": "22bf6e7a",
   "metadata": {},
   "outputs": [
    {
     "data": {
      "text/plain": [
       "[(',', 0.9993423223495483),\n",
       " ('本行', 0.9993217587471008),\n",
       " ('贷款', 0.9993171095848083),\n",
       " ('全行', 0.9993003010749817),\n",
       " ('各项', 0.9992858171463013),\n",
       " ('资产', 0.9992812275886536),\n",
       " ('NUM', 0.9992715120315552),\n",
       " ('存款', 0.9992536902427673),\n",
       " ('资本', 0.9992210268974304),\n",
       " ('人民币', 0.9992175698280334)]"
      ]
     },
     "execution_count": 61,
     "metadata": {},
     "output_type": "execute_result"
    }
   ],
   "source": [
    "w2v_model.similar_by_key('利润')"
   ]
  },
  {
   "cell_type": "code",
   "execution_count": 2,
   "id": "68856f6b",
   "metadata": {},
   "outputs": [
    {
     "name": "stderr",
     "output_type": "stream",
     "text": [
      "Building prefix dict from the default dictionary ...\n",
      "Loading model from cache /var/folders/sc/3mnt5tgs419_hk7s16gq61p80000gn/T/jieba.cache\n"
     ]
    },
    {
     "name": "stdout",
     "output_type": "stream",
     "text": [
      "Step 1/4:...预处理    语料 ...\n"
     ]
    },
    {
     "name": "stderr",
     "output_type": "stream",
     "text": [
      "Loading model cost 0.515 seconds.\n",
      "Prefix dict has been built successfully.\n"
     ]
    },
    {
     "name": "stdout",
     "output_type": "stream",
     "text": [
      "Step 2/4:...训练   word2vec模型 ...\n",
      "Step 3/4:...准备 每个seed在word2vec模型中的相似候选词...\n",
      "Step 4/4 完成! 耗时 8 s\n"
     ]
    }
   ],
   "source": [
    "from cntext import W2VModels\n",
    "import os\n",
    "\n",
    "#初始化模型\n",
    "model = W2VModels(cwd=os.getcwd(), lang='chinese')  #语料数据 w2v_corpus.txt\n",
    "model.train(input_txt_file='data/三体.txt')\n",
    "\n",
    "\n",
    "#根据种子词，筛选出没类词最相近的前100个词\n",
    "model.find(seedword_txt_file='data/santi_seed.txt', \n",
    "           topn=100)"
   ]
  },
  {
   "cell_type": "code",
   "execution_count": null,
   "id": "d6327b42",
   "metadata": {},
   "outputs": [],
   "source": []
  }
 ],
 "metadata": {
  "kernelspec": {
   "display_name": "Python 3 (ipykernel)",
   "language": "python",
   "name": "python3"
  },
  "language_info": {
   "codemirror_mode": {
    "name": "ipython",
    "version": 3
   },
   "file_extension": ".py",
   "mimetype": "text/x-python",
   "name": "python",
   "nbconvert_exporter": "python",
   "pygments_lexer": "ipython3",
   "version": "3.9.7"
  }
 },
 "nbformat": 4,
 "nbformat_minor": 5
}
