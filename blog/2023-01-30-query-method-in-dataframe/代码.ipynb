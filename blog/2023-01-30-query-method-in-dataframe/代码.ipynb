{
 "cells": [
  {
   "cell_type": "markdown",
   "id": "1297b3ca",
   "metadata": {},
   "source": [
    "数据分析中筛选是一个很重要的操作，在pandas.DataFrame中如何进行筛选，今天简单分享一下。\n",
    "\n",
    "<br>\n",
    "\n",
    "## 一、读入数据"
   ]
  },
  {
   "cell_type": "code",
   "execution_count": 33,
   "id": "f77ba572",
   "metadata": {},
   "outputs": [
    {
     "data": {
      "text/plain": [
       "'|    | birthday   | name    | text                               |   age | gender   |   height |   weight |\\n|---:|:-----------|:--------|:-----------------------------------|------:|:---------|---------:|---------:|\\n|  0 | 1985/10/08 | Alice   | 我很开心，每天都这么快乐，我很幸福 |    35 | female   |      175 |       55 |\\n|  1 | 95.07.07   | Mary    | 我很难过                           |    25 | female   |      165 |       50 |\\n|  2 | 01-11-10   | Mike    | 唉，真难受                         |    19 | male     |      180 |       75 |\\n|  3 | 90/2/8     | Smith   | 无所谓开心还是难过                 |    30 | male     |      175 |       70 |\\n|  4 | 93-1-5     | Henry   | 每天赚一万，真爽！                 |    27 | male     |      185 |       80 |\\n|  5 | 1988/2/9   | William | 爽歪歪                             |    32 | male     |      177 |       76 |\\n|  6 | 1986-03-21 | Will    | 天气很凉爽，很舒服                 |    34 | male     |      180 |       85 |\\n|  7 | 1984.06.9  | Qunique | 每天开心                           |    36 | female   |      168 |       62 |\\n|  8 | 1993.07.09 | Sara    | 难过悲伤                           |    27 | female   |      175 |       66 |\\n|  9 | 92/08/09   | Hillary | 美满幸福                           |    28 | male     |      190 |       85 |'"
      ]
     },
     "execution_count": 33,
     "metadata": {},
     "output_type": "execute_result"
    }
   ],
   "source": [
    "import pandas as pd\n",
    "\n",
    "df = pd.read_excel('data.xlsx')\n",
    "df.to_markdown()"
   ]
  },
  {
   "cell_type": "code",
   "execution_count": 8,
   "id": "aeb922d0",
   "metadata": {},
   "outputs": [
    {
     "data": {
      "text/plain": [
       "birthday    object\n",
       "name        object\n",
       "text        object\n",
       "age          int64\n",
       "gender      object\n",
       "height       int64\n",
       "weight       int64\n",
       "dtype: object"
      ]
     },
     "execution_count": 8,
     "metadata": {},
     "output_type": "execute_result"
    }
   ],
   "source": [
    "#字段的数据类型\n",
    "df.dtypes"
   ]
  },
  {
   "cell_type": "markdown",
   "id": "f352e1c3",
   "metadata": {},
   "source": [
    "<br><br>\n",
    "\n",
    "## 二、筛选\n",
    "查询符合条件的记录, 有两种实现方法\n",
    "\n",
    "- 方法1 ``逻辑布尔值直接传入df[]``\n",
    "- 方法2 ``在query方法中传入字段表达式``\n",
    "\n",
    "<br>\n",
    "\n",
    "### 2.1 方法1\n",
    "\n",
    "``逻辑布尔值直接传入df[]``\n",
    "\n",
    "筛选出年龄大于25岁，身高165以上, **且** 为女性的记录"
   ]
  },
  {
   "cell_type": "code",
   "execution_count": 23,
   "id": "6c22ccc1",
   "metadata": {},
   "outputs": [
    {
     "data": {
      "text/html": [
       "<div>\n",
       "<style scoped>\n",
       "    .dataframe tbody tr th:only-of-type {\n",
       "        vertical-align: middle;\n",
       "    }\n",
       "\n",
       "    .dataframe tbody tr th {\n",
       "        vertical-align: top;\n",
       "    }\n",
       "\n",
       "    .dataframe thead th {\n",
       "        text-align: right;\n",
       "    }\n",
       "</style>\n",
       "<table border=\"1\" class=\"dataframe\">\n",
       "  <thead>\n",
       "    <tr style=\"text-align: right;\">\n",
       "      <th></th>\n",
       "      <th>birthday</th>\n",
       "      <th>name</th>\n",
       "      <th>text</th>\n",
       "      <th>age</th>\n",
       "      <th>gender</th>\n",
       "      <th>height</th>\n",
       "      <th>weight</th>\n",
       "    </tr>\n",
       "  </thead>\n",
       "  <tbody>\n",
       "    <tr>\n",
       "      <th>0</th>\n",
       "      <td>1985/10/08</td>\n",
       "      <td>Alice</td>\n",
       "      <td>我很开心，每天都这么快乐，我很幸福</td>\n",
       "      <td>35</td>\n",
       "      <td>female</td>\n",
       "      <td>175</td>\n",
       "      <td>55</td>\n",
       "    </tr>\n",
       "    <tr>\n",
       "      <th>7</th>\n",
       "      <td>1984.06.9</td>\n",
       "      <td>Qunique</td>\n",
       "      <td>每天开心</td>\n",
       "      <td>36</td>\n",
       "      <td>female</td>\n",
       "      <td>168</td>\n",
       "      <td>62</td>\n",
       "    </tr>\n",
       "    <tr>\n",
       "      <th>8</th>\n",
       "      <td>1993.07.09</td>\n",
       "      <td>Sara</td>\n",
       "      <td>难过悲伤</td>\n",
       "      <td>27</td>\n",
       "      <td>female</td>\n",
       "      <td>175</td>\n",
       "      <td>66</td>\n",
       "    </tr>\n",
       "  </tbody>\n",
       "</table>\n",
       "</div>"
      ],
      "text/plain": [
       "     birthday     name               text  age  gender  height  weight\n",
       "0  1985/10/08    Alice  我很开心，每天都这么快乐，我很幸福   35  female     175      55\n",
       "7   1984.06.9  Qunique               每天开心   36  female     168      62\n",
       "8  1993.07.09     Sara               难过悲伤   27  female     175      66"
      ]
     },
     "execution_count": 23,
     "metadata": {},
     "output_type": "execute_result"
    }
   ],
   "source": [
    "#df[(df['age'] > 25) & (df['height'] > 165) & (df['gender'] == 'female')]\n",
    "df[(df.age > 25) & (df.height > 165) & (df.gender=='female')]"
   ]
  },
  {
   "cell_type": "markdown",
   "id": "810f1e38",
   "metadata": {},
   "source": [
    "<br>\n",
    "\n",
    "### 2.2 方法2\n",
    "\n",
    "``在query方法中传入字段表达式``\n",
    "\n",
    "筛选出年龄大于25岁，身高165以上, **且** 为女性的记录"
   ]
  },
  {
   "cell_type": "code",
   "execution_count": 25,
   "id": "f13d1028",
   "metadata": {},
   "outputs": [
    {
     "data": {
      "text/html": [
       "<div>\n",
       "<style scoped>\n",
       "    .dataframe tbody tr th:only-of-type {\n",
       "        vertical-align: middle;\n",
       "    }\n",
       "\n",
       "    .dataframe tbody tr th {\n",
       "        vertical-align: top;\n",
       "    }\n",
       "\n",
       "    .dataframe thead th {\n",
       "        text-align: right;\n",
       "    }\n",
       "</style>\n",
       "<table border=\"1\" class=\"dataframe\">\n",
       "  <thead>\n",
       "    <tr style=\"text-align: right;\">\n",
       "      <th></th>\n",
       "      <th>birthday</th>\n",
       "      <th>name</th>\n",
       "      <th>text</th>\n",
       "      <th>age</th>\n",
       "      <th>gender</th>\n",
       "      <th>height</th>\n",
       "      <th>weight</th>\n",
       "    </tr>\n",
       "  </thead>\n",
       "  <tbody>\n",
       "    <tr>\n",
       "      <th>0</th>\n",
       "      <td>1985/10/08</td>\n",
       "      <td>Alice</td>\n",
       "      <td>我很开心，每天都这么快乐，我很幸福</td>\n",
       "      <td>35</td>\n",
       "      <td>female</td>\n",
       "      <td>175</td>\n",
       "      <td>55</td>\n",
       "    </tr>\n",
       "    <tr>\n",
       "      <th>7</th>\n",
       "      <td>1984.06.9</td>\n",
       "      <td>Qunique</td>\n",
       "      <td>每天开心</td>\n",
       "      <td>36</td>\n",
       "      <td>female</td>\n",
       "      <td>168</td>\n",
       "      <td>62</td>\n",
       "    </tr>\n",
       "    <tr>\n",
       "      <th>8</th>\n",
       "      <td>1993.07.09</td>\n",
       "      <td>Sara</td>\n",
       "      <td>难过悲伤</td>\n",
       "      <td>27</td>\n",
       "      <td>female</td>\n",
       "      <td>175</td>\n",
       "      <td>66</td>\n",
       "    </tr>\n",
       "  </tbody>\n",
       "</table>\n",
       "</div>"
      ],
      "text/plain": [
       "     birthday     name               text  age  gender  height  weight\n",
       "0  1985/10/08    Alice  我很开心，每天都这么快乐，我很幸福   35  female     175      55\n",
       "7   1984.06.9  Qunique               每天开心   36  female     168      62\n",
       "8  1993.07.09     Sara               难过悲伤   27  female     175      66"
      ]
     },
     "execution_count": 25,
     "metadata": {},
     "output_type": "execute_result"
    }
   ],
   "source": [
    "df.query('(age > 25) & (height > 165) & (gender == \"female\")')"
   ]
  },
  {
   "cell_type": "markdown",
   "id": "1d05214d",
   "metadata": {},
   "source": [
    "可见query让查询和筛选代码变的很简洁，代码更具可阅读性和理解性。\n",
    "\n",
    "但如果条件中使用了变量该如何撰写？\n",
    "\n",
    "<br>\n",
    "\n",
    "## 三、query表达式中的变量\n",
    "\n",
    "query字符串表达式中如果含有变量 ``var``， 需要在该变量前加 ``@``, \n",
    "\n",
    "即在query字符串表达式中 ``@var`` 可以调用表达式字符串外的变量var"
   ]
  },
  {
   "cell_type": "code",
   "execution_count": 32,
   "id": "f5a82d62",
   "metadata": {},
   "outputs": [
    {
     "data": {
      "text/plain": [
       "'|    | birthday   | name    | text                               |   age | gender   |   height |   weight |\\n|---:|:-----------|:--------|:-----------------------------------|------:|:---------|---------:|---------:|\\n|  0 | 1985/10/08 | Alice   | 我很开心，每天都这么快乐，我很幸福 |    35 | female   |      175 |       55 |\\n|  3 | 90/2/8     | Smith   | 无所谓开心还是难过                 |    30 | male     |      175 |       70 |\\n|  4 | 93-1-5     | Henry   | 每天赚一万，真爽！                 |    27 | male     |      185 |       80 |\\n|  5 | 1988/2/9   | William | 爽歪歪                             |    32 | male     |      177 |       76 |\\n|  6 | 1986-03-21 | Will    | 天气很凉爽，很舒服                 |    34 | male     |      180 |       85 |\\n|  7 | 1984.06.9  | Qunique | 每天开心                           |    36 | female   |      168 |       62 |\\n|  8 | 1993.07.09 | Sara    | 难过悲伤                           |    27 | female   |      175 |       66 |\\n|  9 | 92/08/09   | Hillary | 美满幸福                           |    28 | male     |      190 |       85 |'"
      ]
     },
     "execution_count": 32,
     "metadata": {},
     "output_type": "execute_result"
    }
   ],
   "source": [
    "min_age = 25\n",
    "\n",
    "#年龄大于25\n",
    "df.query('age > @min_age').to_markdown()"
   ]
  },
  {
   "cell_type": "code",
   "execution_count": 31,
   "id": "ef1ffa14",
   "metadata": {},
   "outputs": [
    {
     "data": {
      "text/plain": [
       "'|    | birthday   | name    | text                               |   age | gender   |   height |   weight |\\n|---:|:-----------|:--------|:-----------------------------------|------:|:---------|---------:|---------:|\\n|  0 | 1985/10/08 | Alice   | 我很开心，每天都这么快乐，我很幸福 |    35 | female   |      175 |       55 |\\n|  7 | 1984.06.9  | Qunique | 每天开心                           |    36 | female   |      168 |       62 |\\n|  8 | 1993.07.09 | Sara    | 难过悲伤                           |    27 | female   |      175 |       66 |'"
      ]
     },
     "execution_count": 31,
     "metadata": {},
     "output_type": "execute_result"
    }
   ],
   "source": [
    "g = 'female'\n",
    "min_age = 25\n",
    "min_height = 165\n",
    "\n",
    "#筛选出年龄大于25岁，身高165以上, **且** 为女性的记录\n",
    "df.query('(age > @min_age) & (height > @min_height) & (gender == @g)').to_markdown()"
   ]
  },
  {
   "cell_type": "code",
   "execution_count": null,
   "id": "f6bc1f50",
   "metadata": {},
   "outputs": [],
   "source": []
  }
 ],
 "metadata": {
  "kernelspec": {
   "display_name": "Python 3",
   "language": "python",
   "name": "python3"
  },
  "language_info": {
   "codemirror_mode": {
    "name": "ipython",
    "version": 3
   },
   "file_extension": ".py",
   "mimetype": "text/x-python",
   "name": "python",
   "nbconvert_exporter": "python",
   "pygments_lexer": "ipython3",
   "version": "3.9.7"
  },
  "toc": {
   "base_numbering": 1,
   "nav_menu": {},
   "number_sections": false,
   "sideBar": true,
   "skip_h1_title": false,
   "title_cell": "Table of Contents",
   "title_sidebar": "Contents",
   "toc_cell": false,
   "toc_position": {},
   "toc_section_display": true,
   "toc_window_display": false
  }
 },
 "nbformat": 4,
 "nbformat_minor": 5
}
