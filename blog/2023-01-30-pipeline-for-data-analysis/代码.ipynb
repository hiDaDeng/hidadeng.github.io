{
 "cells": [
  {
   "cell_type": "code",
   "execution_count": 1,
   "id": "901622b8",
   "metadata": {
    "collapsed": true
   },
   "outputs": [
    {
     "name": "stdout",
     "output_type": "stream",
     "text": [
      "Looking in indexes: https://pypi.tuna.tsinghua.edu.cn/simple\n",
      "Collecting fastcore\n",
      "  Downloading https://pypi.tuna.tsinghua.edu.cn/packages/a6/f7/d622436fb6dce10dce17c348ea3b5bc1fd389b507039174be2a7967e1895/fastcore-1.5.27-py3-none-any.whl (67 kB)\n",
      "\u001b[K     |████████████████████████████████| 67 kB 175 kB/s eta 0:00:011\n",
      "\u001b[?25hRequirement already satisfied: packaging in /Library/Frameworks/anaconda3/lib/python3.9/site-packages (from fastcore) (21.0)\n",
      "Requirement already satisfied: pip in /Library/Frameworks/anaconda3/lib/python3.9/site-packages (from fastcore) (21.2.4)\n",
      "Requirement already satisfied: pyparsing>=2.0.2 in /Library/Frameworks/anaconda3/lib/python3.9/site-packages (from packaging->fastcore) (3.0.4)\n",
      "Installing collected packages: fastcore\n",
      "Successfully installed fastcore-1.5.27\n"
     ]
    }
   ],
   "source": [
    "!pip3 install fastcore"
   ]
  },
  {
   "cell_type": "code",
   "execution_count": 2,
   "id": "0738a8c9",
   "metadata": {},
   "outputs": [],
   "source": [
    "text = \" Python is powerful, so let's go!\\n\""
   ]
  },
  {
   "cell_type": "markdown",
   "id": "93877484",
   "metadata": {},
   "source": [
    "## 一、任务\n",
    "在jupyter内进行数据分析，大家都有一种流水线的感觉。从上往下，每一行(坨)代码会解决一个小问题，最终联合在一起解决一个大问题。\n",
    "\n",
    "例如文本分析，这里仅以text一句话为例，完整的预处理流程\n",
    "1. 大写转小写\n",
    "2. 剔除回车\n",
    "3. 剔除开头结尾的空格\n",
    "\n",
    "这个预处理任务很简单， 实现方法有以下三种\n",
    "\n",
    "<br>\n",
    "\n",
    "## 二、实现方法\n",
    "1. 一坨代码一锅端\n",
    "2. 只为你量身定做一个函数\n",
    "3. 可拆可组装的流水线\n",
    "\n",
    "<br>\n",
    "\n",
    "### 2.1 一坨代码一锅端\n",
    "刚刚学编程，写数据分析代码都是这种style， 可阅读性差，代码扩展性最差。如果遇到的任务像今天这样简单，是最高效的解决办法。但是如果任务变复杂，可扩展性就降低了，会返回造轮子。"
   ]
  },
  {
   "cell_type": "code",
   "execution_count": 7,
   "id": "f99a37ef",
   "metadata": {},
   "outputs": [
    {
     "data": {
      "text/plain": [
       "\"python is powerful, so let's go!\""
      ]
     },
     "execution_count": 7,
     "metadata": {},
     "output_type": "execute_result"
    }
   ],
   "source": [
    "text = \" Python is powerful, so let's go!\\n \"\n",
    "\n",
    "#大写转小写\n",
    "text = text.lower()\n",
    "\n",
    "#剔除回车\n",
    "text = text.replace('\\n', '')\n",
    "\n",
    "#剔除开头结尾的空格\n",
    "text = text.strip()\n",
    "\n",
    "text"
   ]
  },
  {
   "cell_type": "code",
   "execution_count": null,
   "id": "a568d8fd",
   "metadata": {},
   "outputs": [],
   "source": []
  },
  {
   "cell_type": "markdown",
   "id": "9f469677",
   "metadata": {},
   "source": [
    "### 2.2 一个函数搞定\n",
    "相比一坨代码，一个函数的可阅读性更高一些。代码能够复用的可能，但是遇到复杂任务时， 可扩展性依然较低。"
   ]
  },
  {
   "cell_type": "code",
   "execution_count": 8,
   "id": "f386c483",
   "metadata": {},
   "outputs": [
    {
     "data": {
      "text/plain": [
       "\"python is powerful, so let's go!\""
      ]
     },
     "execution_count": 8,
     "metadata": {},
     "output_type": "execute_result"
    }
   ],
   "source": [
    "text = \" Python is powerful, so let's go!\\n\"\n",
    "\n",
    "def clean(text):\n",
    "    #大写转小写\n",
    "    text = text.lower()\n",
    "    #剔除回车\n",
    "    text = text.replace('\\n', '')\n",
    "    #剔除开头结尾的空格\n",
    "    text = text.strip()\n",
    "    return text\n",
    "\n",
    "clean(text)"
   ]
  },
  {
   "cell_type": "code",
   "execution_count": null,
   "id": "cdd68cb6",
   "metadata": {},
   "outputs": [],
   "source": []
  },
  {
   "cell_type": "markdown",
   "id": "590e1bb5",
   "metadata": {},
   "source": [
    "### 2.3 设计成流水线\n",
    "拆解成三个**环节函数**，并组织成一个流水线。可读性和代码可扩展性大大提高，能轻松应对不同复杂度任务。代价仅仅是多写几行代码。首先需要安装一个实现流水线功能的fastcore库。"
   ]
  },
  {
   "cell_type": "code",
   "execution_count": null,
   "id": "5fa74ff6",
   "metadata": {},
   "outputs": [],
   "source": [
    "!pip3 install fastcore"
   ]
  },
  {
   "cell_type": "code",
   "execution_count": 9,
   "id": "eddc5943",
   "metadata": {},
   "outputs": [
    {
     "data": {
      "text/plain": [
       "\"python is powerful, so let's go!\""
      ]
     },
     "execution_count": 9,
     "metadata": {},
     "output_type": "execute_result"
    }
   ],
   "source": [
    "from fastcore.transform import Pipeline\n",
    "\n",
    "\n",
    "def lower(text):\n",
    "    #变小写\n",
    "    return text.lower()\n",
    "\n",
    "def remove_(text):\n",
    "    #剔除回车\n",
    "    return text.replace('\\n', '')\n",
    "\n",
    "def strip(text):\n",
    "    #剔除开头结尾的空格\n",
    "    return text.strip()\n",
    "\n",
    "text = \" Python is powerful, so let's go!\\n\"\n",
    "\n",
    "#将环节函数组织成一个流水线\n",
    "pipe = Pipeline([lower, remove_, strip])\n",
    "pipe(text)"
   ]
  },
  {
   "cell_type": "code",
   "execution_count": null,
   "id": "949f499f",
   "metadata": {},
   "outputs": [],
   "source": []
  },
  {
   "cell_type": "markdown",
   "id": "30fc960e",
   "metadata": {},
   "source": [
    "## 三、快速响应\n",
    "如果预处理任务只需要lower和strip， 新的流水线可以快速装配需要的**环节函数**, 以应对新的预处理任务。"
   ]
  },
  {
   "cell_type": "code",
   "execution_count": 11,
   "id": "190d5455",
   "metadata": {},
   "outputs": [
    {
     "data": {
      "text/plain": [
       "\"python is powerful, so let's go!\""
      ]
     },
     "execution_count": 11,
     "metadata": {},
     "output_type": "execute_result"
    }
   ],
   "source": [
    "text = \" Python is powerful, so let's go!\"\n",
    "\n",
    "#将环节函数组织成一个流水线\n",
    "pipe2 = Pipeline([lower, strip])\n",
    "pipe2(text)"
   ]
  }
 ],
 "metadata": {
  "kernelspec": {
   "display_name": "Python 3",
   "language": "python",
   "name": "python3"
  },
  "language_info": {
   "codemirror_mode": {
    "name": "ipython",
    "version": 3
   },
   "file_extension": ".py",
   "mimetype": "text/x-python",
   "name": "python",
   "nbconvert_exporter": "python",
   "pygments_lexer": "ipython3",
   "version": "3.9.7"
  },
  "toc": {
   "base_numbering": 1,
   "nav_menu": {},
   "number_sections": false,
   "sideBar": true,
   "skip_h1_title": false,
   "title_cell": "Table of Contents",
   "title_sidebar": "Contents",
   "toc_cell": false,
   "toc_position": {},
   "toc_section_display": true,
   "toc_window_display": false
  }
 },
 "nbformat": 4,
 "nbformat_minor": 5
}
