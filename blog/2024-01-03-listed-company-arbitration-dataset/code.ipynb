{
 "cells": [
  {
   "cell_type": "code",
   "execution_count": 89,
   "id": "1712b759",
   "metadata": {
    "scrolled": false
   },
   "outputs": [
    {
     "data": {
      "text/html": [
       "<div>\n",
       "<style scoped>\n",
       "    .dataframe tbody tr th:only-of-type {\n",
       "        vertical-align: middle;\n",
       "    }\n",
       "\n",
       "    .dataframe tbody tr th {\n",
       "        vertical-align: top;\n",
       "    }\n",
       "\n",
       "    .dataframe thead th {\n",
       "        text-align: right;\n",
       "    }\n",
       "</style>\n",
       "<table border=\"1\" class=\"dataframe\">\n",
       "  <thead>\n",
       "    <tr style=\"text-align: right;\">\n",
       "      <th></th>\n",
       "      <th>公告日期</th>\n",
       "      <th>股票代码</th>\n",
       "      <th>股票简称</th>\n",
       "      <th>涉案类型</th>\n",
       "      <th>原告被告</th>\n",
       "      <th>案件案由</th>\n",
       "      <th>涉案金额</th>\n",
       "      <th>判决情况</th>\n",
       "      <th>执行情况</th>\n",
       "      <th>货币种类</th>\n",
       "    </tr>\n",
       "  </thead>\n",
       "  <tbody>\n",
       "    <tr>\n",
       "      <th>0</th>\n",
       "      <td>2005-06-16</td>\n",
       "      <td>A000887</td>\n",
       "      <td>*ST飞彩</td>\n",
       "      <td>承兑协议纠纷</td>\n",
       "      <td>被告</td>\n",
       "      <td>2004年元月7日，原中国建设银行宣城分行营业部（以下简称宣城分行营业部）与被告签订了一份《...</td>\n",
       "      <td>1.212950e+08</td>\n",
       "      <td>NaN</td>\n",
       "      <td>依据原告提出的财产保全申请，安徽省高级人民法院裁定如下：冻结被告银行存款12888.2236...</td>\n",
       "      <td>人民币</td>\n",
       "    </tr>\n",
       "    <tr>\n",
       "      <th>1</th>\n",
       "      <td>2021-04-16</td>\n",
       "      <td>A600198</td>\n",
       "      <td>大唐电信</td>\n",
       "      <td>合同纠纷</td>\n",
       "      <td>被告</td>\n",
       "      <td>神州泰岳就与大唐微电子技术有限公司(公司间接控股子公司,以下简称“大唐微电子”)间的12份销...</td>\n",
       "      <td>1.170940e+08</td>\n",
       "      <td>NaN</td>\n",
       "      <td>NaN</td>\n",
       "      <td>人民币</td>\n",
       "    </tr>\n",
       "    <tr>\n",
       "      <th>2</th>\n",
       "      <td>2020-09-26</td>\n",
       "      <td>A601099</td>\n",
       "      <td>太平洋</td>\n",
       "      <td>原告</td>\n",
       "      <td>原告</td>\n",
       "      <td>公司管理的“太平洋聚盈1号定向资产管理计划”,根据产品委托人指令于2016年6月3日作为有限...</td>\n",
       "      <td>1.690911e+09</td>\n",
       "      <td>NaN</td>\n",
       "      <td>NaN</td>\n",
       "      <td>人民币</td>\n",
       "    </tr>\n",
       "    <tr>\n",
       "      <th>3</th>\n",
       "      <td>2020-06-04</td>\n",
       "      <td>A300064</td>\n",
       "      <td>豫金刚石</td>\n",
       "      <td>财务纠纷</td>\n",
       "      <td>被告</td>\n",
       "      <td>2018年11月15日,宁波银行股份有限公司深圳分行与郑州华晶签订了《商业承兑汇票保贴合作协...</td>\n",
       "      <td>3.488200e+06</td>\n",
       "      <td>NaN</td>\n",
       "      <td>NaN</td>\n",
       "      <td>人民币</td>\n",
       "    </tr>\n",
       "    <tr>\n",
       "      <th>4</th>\n",
       "      <td>2020-08-05</td>\n",
       "      <td>A603007</td>\n",
       "      <td>花王股份</td>\n",
       "      <td>建设工程施工合同纠纷</td>\n",
       "      <td>原告</td>\n",
       "      <td>公司与东阿县住建局于2016年6月26日签订了关于东阿县建设路和子建路地下管廊、道路建设和车...</td>\n",
       "      <td>1.764083e+08</td>\n",
       "      <td>NaN</td>\n",
       "      <td>NaN</td>\n",
       "      <td>人民币</td>\n",
       "    </tr>\n",
       "  </tbody>\n",
       "</table>\n",
       "</div>"
      ],
      "text/plain": [
       "        公告日期     股票代码   股票简称                                          涉案类型  \\\n",
       "0 2005-06-16  A000887  *ST飞彩  承兑协议纠纷                                         \n",
       "1 2021-04-16  A600198   大唐电信                                          合同纠纷   \n",
       "2 2020-09-26  A601099    太平洋                                            原告   \n",
       "3 2020-06-04  A300064   豫金刚石                                          财务纠纷   \n",
       "4 2020-08-05  A603007   花王股份                                    建设工程施工合同纠纷   \n",
       "\n",
       "                 原告被告                                               案件案由  \\\n",
       "0  被告                  2004年元月7日，原中国建设银行宣城分行营业部（以下简称宣城分行营业部）与被告签订了一份《...   \n",
       "1  被告                  神州泰岳就与大唐微电子技术有限公司(公司间接控股子公司,以下简称“大唐微电子”)间的12份销...   \n",
       "2  原告                  公司管理的“太平洋聚盈1号定向资产管理计划”,根据产品委托人指令于2016年6月3日作为有限...   \n",
       "3  被告                  2018年11月15日,宁波银行股份有限公司深圳分行与郑州华晶签订了《商业承兑汇票保贴合作协...   \n",
       "4  原告                  公司与东阿县住建局于2016年6月26日签订了关于东阿县建设路和子建路地下管廊、道路建设和车...   \n",
       "\n",
       "           涉案金额 判决情况                                               执行情况 货币种类  \n",
       "0  1.212950e+08  NaN  依据原告提出的财产保全申请，安徽省高级人民法院裁定如下：冻结被告银行存款12888.2236...  人民币  \n",
       "1  1.170940e+08  NaN                                                NaN  人民币  \n",
       "2  1.690911e+09  NaN                                                NaN  人民币  \n",
       "3  3.488200e+06  NaN                                                NaN  人民币  \n",
       "4  1.764083e+08  NaN                                                NaN  人民币  "
      ]
     },
     "execution_count": 89,
     "metadata": {},
     "output_type": "execute_result"
    }
   ],
   "source": [
    "import pandas as pd\n",
    "\n",
    "df = pd.read_excel('上市公司仲裁数据2000-2021.xlsx')\n",
    "df['公告日期'] = pd.to_datetime(df['公告日期'])\n",
    "df.head()"
   ]
  },
  {
   "cell_type": "code",
   "execution_count": 96,
   "id": "084098de",
   "metadata": {},
   "outputs": [
    {
     "data": {
      "text/plain": [
       "36330"
      ]
     },
     "execution_count": 96,
     "metadata": {},
     "output_type": "execute_result"
    }
   ],
   "source": [
    "len(df)"
   ]
  },
  {
   "cell_type": "code",
   "execution_count": 91,
   "id": "8b753a0d",
   "metadata": {},
   "outputs": [
    {
     "data": {
      "text/plain": [
       "货币种类\n",
       "人民币     35132\n",
       "美元       1111\n",
       "港币         53\n",
       "日元         32\n",
       "德国马克        2\n",
       "Name: count, dtype: int64"
      ]
     },
     "execution_count": 91,
     "metadata": {},
     "output_type": "execute_result"
    }
   ],
   "source": [
    "df['货币种类'].value_counts()"
   ]
  },
  {
   "cell_type": "code",
   "execution_count": 97,
   "id": "e6832901",
   "metadata": {},
   "outputs": [
    {
     "data": {
      "text/plain": [
       "Index(['公告日期', '股票代码', '股票简称', '涉案类型', '原告被告', '案件案由', '涉案金额', '判决情况', '执行情况',\n",
       "       '货币种类'],\n",
       "      dtype='object')"
      ]
     },
     "execution_count": 97,
     "metadata": {},
     "output_type": "execute_result"
    }
   ],
   "source": [
    "df.columns"
   ]
  },
  {
   "cell_type": "code",
   "execution_count": 98,
   "id": "168c1909",
   "metadata": {},
   "outputs": [
    {
     "name": "stdout",
     "output_type": "stream",
     "text": [
      "公告日期 0.0\n",
      "股票代码 0.0\n",
      "股票简称 2.7525461051472613e-05\n",
      "涉案类型 0.0002202036884117809\n",
      "原告被告 0.001568951279933939\n",
      "案件案由 0.00013762730525736306\n",
      "涉案金额 0.00016515276630883568\n",
      "判决情况 0.8911643270024773\n",
      "执行情况 0.740765207817231\n",
      "货币种类 0.0\n"
     ]
    }
   ],
   "source": [
    "for col in df.columns:\n",
    "    print(col, df[col].isna().sum()/len(df))"
   ]
  },
  {
   "cell_type": "code",
   "execution_count": 93,
   "id": "da43ccaa",
   "metadata": {},
   "outputs": [
    {
     "data": {
      "text/plain": [
       "2251"
      ]
     },
     "execution_count": 93,
     "metadata": {},
     "output_type": "execute_result"
    }
   ],
   "source": [
    "df['股票代码'].nunique()"
   ]
  },
  {
   "cell_type": "code",
   "execution_count": 95,
   "id": "aa5c5bb8",
   "metadata": {},
   "outputs": [
    {
     "name": "stdout",
     "output_type": "stream",
     "text": [
      "2000-01-26 00:00:00\n",
      "2021-09-28 00:00:00\n"
     ]
    }
   ],
   "source": [
    "print(df['公告日期'].min())\n",
    "print(df['公告日期'].max())"
   ]
  },
  {
   "cell_type": "code",
   "execution_count": null,
   "id": "f01e6adb",
   "metadata": {},
   "outputs": [],
   "source": [
    "2200+上市公司仲裁数据（2000-2021年）一、数据介绍\n",
    "数据名称：上市公司-仲裁数据\n",
    "\n",
    "数据年份：2000-2021年\n",
    "\n",
    "样本数量：涵盖2252家上市公司，共计36330条数据\n",
    "\n",
    "数据指标：公告日期、股票代码、股票简称、涉案类型、公司在案件中地位、案由、案件所涉及金额、判决情况、执行情况、币种\n",
    "\n",
    "数据来源：裁判文书网\n",
    "\n",
    "\n",
    "二、参考文献\n",
    "\n",
    "用途：用于衡量上市公司法律风险等。\n",
    "\n",
    "[1]冯延超,梁莱歆.上市公司法律风险、审计收费及非标准审计意见——来自中国上市公司的经验证据[J].审计研究,2010(03):75-81.\n",
    "\n",
    "[2]祝继高.会计稳健性与债权人利益保护——基于银行与上市公司关于贷款的法律诉讼的研究[J].会计研究,2011(05):50-57+96.\n",
    "\n",
    "[3]辛宇,黄欣怡,纪蓓蓓.投资者保护公益组织与股东诉讼在中国的实践——基于中证投服证券支持诉讼的多案例研究[J].管理世界,2020,36(01):69-87+235."
   ]
  }
 ],
 "metadata": {
  "kernelspec": {
   "display_name": "Python 3 (ipykernel)",
   "language": "python",
   "name": "python3"
  },
  "language_info": {
   "codemirror_mode": {
    "name": "ipython",
    "version": 3
   },
   "file_extension": ".py",
   "mimetype": "text/x-python",
   "name": "python",
   "nbconvert_exporter": "python",
   "pygments_lexer": "ipython3",
   "version": "3.11.5"
  }
 },
 "nbformat": 4,
 "nbformat_minor": 5
}
