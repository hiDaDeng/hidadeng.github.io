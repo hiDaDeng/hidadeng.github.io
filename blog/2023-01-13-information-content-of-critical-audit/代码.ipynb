{
 "cells": [
  {
   "cell_type": "markdown",
   "id": "5a8d3b70",
   "metadata": {},
   "source": [
    "[![](img/management_data_mining_with_python_course2.png)](https://textdata.cn/blog/management_python_course/)\n",
    "\n",
    "\n",
    "<br><br>\n",
    "\n",
    "宋建波,冯晓晴.关键审计事项信息含量与公司债券发行定价——基于文本相似度视角[J].会计研究,2022,(03):174-191.\n",
    "![](img/关键审计事项信息含量与公司债券发行定价_cover.png)\n",
    "\n",
    "## 摘要\n",
    "关键审计事项是来自审计师视角的信息， 其蕴含的特质性信息对实现沟通价值至关重要。**本文采用文本分析方法计算的文本相似度衡量关键审计事项特质性信息含量，考察其对公司债券发行定价的影响。 结果发现， 以较低文本相似度代表的较高关键审计事项信息含量能够降低公司债券发行定价**。 较高的审计师专业胜任能力 和独立性能够增强关键审计事项信息含量对公司债券发行定价的降低作用。 信息不对称的缓解是关键审计事项 信息含量降低公司债券发行定价的具体影响渠道。考虑关键审计事项类型后发现， 关联交易类关键审计事项信 息含量对公司债券发行定价的降低作用更强。本文研究结论有助于未来改进关键审计事项的披露要求。\n",
    "\n",
    "关键词: 关键审计事项; 公司债券; 发行定价; 信息含量; 文本相似度\n",
    "\n",
    "\n",
    "<br><br>\n",
    "\n",
    "\n",
    "## 一、信息含量算法\n",
    "文中关键审计事项信息含量算法\n",
    "\n",
    "![](img/关键审计事项信息含量-实现算法.png)\n",
    "\n",
    "本文不仅限于关键审计事项，在别的应用场景中也可以使用相似度计算得到信息含量。这里将算法再简化为文本向量化，依次计算得到该企业的**企业向量**、该企业所在行业的**行业向量**、**信息含量(特质性)**。大致的算法思路如下\n",
    "\n",
    "1. 使用sklearn，将该企业文本(审计报告文本)转为TF-IDF的**企业向量**。\n",
    "2. 当年同行业所有企业(排除该公司)向量求均值，得到**行业向量**。\n",
    "3. 计算企业向量与行业向量余弦值，乘以(-1)，得到该企业的特质性的**信息含量**\n"
   ]
  },
  {
   "cell_type": "markdown",
   "id": "45bda05c",
   "metadata": {},
   "source": [
    "\n",
    "<br><br>\n",
    "\n",
    "## 二、信息含量算法实现\n",
    "计算关键审计事项信息含量，需要有审计报告、行业。这里参考论文，使用md&a文本 和 md&a数据,用于计算 **企业信息含量(特质性)** 。\n",
    "\n",
    "为了减少计算工作量，这里只准备了2020年的数据。\n",
    "\n",
    "### 2.1 读入数据"
   ]
  },
  {
   "cell_type": "code",
   "execution_count": null,
   "id": "5fc3f81c",
   "metadata": {},
   "outputs": [],
   "source": [
    "import pandas as pd\n",
    "\n",
    "# converters 强制声明该列为字符串，  防止股票代码 被程序识别为数字，\n",
    "df = pd.read_excel('mda2020.xlsx', converters={'股票代码': str})\n",
    "\n",
    "#显示前5行\n",
    "df.head()"
   ]
  },
  {
   "cell_type": "markdown",
   "id": "2a156f90",
   "metadata": {},
   "source": [
    "![](img/df1.png)"
   ]
  },
  {
   "cell_type": "markdown",
   "id": "fb57d732",
   "metadata": {},
   "source": [
    "<br>\n",
    "\n",
    "### 2.2 数据筛选\n",
    "\n",
    "行业内企业数量过少，会导致行业向量与某个或某几个企业向量相关性增大，极端情况下，一个企业就是一个行业。\n"
   ]
  },
  {
   "cell_type": "code",
   "execution_count": 9,
   "id": "c4250c0e",
   "metadata": {},
   "outputs": [
    {
     "data": {
      "text/plain": [
       "C39    419\n",
       "C26    272\n",
       "C35    256\n",
       "C38    254\n",
       "I65    250\n",
       "      ... \n",
       "M75      1\n",
       "R88      1\n",
       "O80      1\n",
       "B10      1\n",
       "E49      1\n",
       "Name: 行业代码, Length: 81, dtype: int64"
      ]
     },
     "execution_count": 9,
     "metadata": {},
     "output_type": "execute_result"
    }
   ],
   "source": [
    "df['行业代码'].value_counts()"
   ]
  },
  {
   "cell_type": "markdown",
   "id": "50b12296",
   "metadata": {},
   "source": [
    "剔除掉企业数较少的行业，这里只保留大于20的行业。"
   ]
  },
  {
   "cell_type": "code",
   "execution_count": 18,
   "id": "f8b421bd",
   "metadata": {},
   "outputs": [
    {
     "data": {
      "text/plain": [
       "Index(['C39', 'C26', 'C35', 'C38', 'I65', 'C27', 'C34', 'C36', 'K70', 'C30',\n",
       "       'F52', 'C29', 'F51', 'C32', 'C33', 'D44', 'I64', 'E48', 'C40', 'C14',\n",
       "       'C37', 'N77', 'J67', 'L72', 'C13', 'M74', 'C15', 'C17', 'C18', 'J66',\n",
       "       'G54', 'C22', 'C31', 'G55', 'E50', 'C28', 'D45', 'R86', 'R85', 'C21',\n",
       "       'B06', 'C41', 'B09', 'J69'],\n",
       "      dtype='object')"
      ]
     },
     "execution_count": 18,
     "metadata": {},
     "output_type": "execute_result"
    }
   ],
   "source": [
    "ind_codes = df['行业代码'].value_counts()\n",
    "ind_codes = ind_codes[ind_codes>20].index\n",
    "ind_codes"
   ]
  },
  {
   "cell_type": "code",
   "execution_count": null,
   "id": "485b7bd8",
   "metadata": {
    "scrolled": true
   },
   "outputs": [],
   "source": [
    "def filter_industry(ind_code):\n",
    "    try:\n",
    "        if ind_code in ind_codes:\n",
    "            return True\n",
    "        else:\n",
    "            return False\n",
    "    except:\n",
    "        return False\n",
    "\n",
    "\n",
    "df2 = df[df['行业代码'].apply(filter_industry)]\n",
    "df2.head()"
   ]
  },
  {
   "cell_type": "markdown",
   "id": "a1d0ce2d",
   "metadata": {},
   "source": [
    "![](img/df2.png)\n",
    "\n",
    "<br>\n",
    "\n",
    "### 2.3 文本向量化\n",
    "\n",
    "使用sklearn，将该企业文本(审计报告文本)转为TF-IDF的企业向量。步骤\n",
    "\n",
    "1. 分词整理\n",
    "2. tfidff文本向量化\n",
    "3. 合并多个字段为新的df\n"
   ]
  },
  {
   "cell_type": "code",
   "execution_count": null,
   "id": "d0351ddb",
   "metadata": {},
   "outputs": [],
   "source": [
    "import cntext as ct\n",
    "import jieba\n",
    "import re\n",
    "\n",
    "stopwords = ct.load_pkl_dict('STOPWORDS.pkl')['STOPWORDS']['chinese']\n",
    "\n",
    "\n",
    "def transform(text):\n",
    "    #只保留md&a中的中文内容\n",
    "    text = ''.join(re.findall('[\\u4e00-\\u9fa5]+', text))\n",
    "    #剔除停用词\n",
    "    words = [w for w in jieba.cut(text) if w not in stopwords]\n",
    "    #整理为用空格间隔的字符串(类西方语言文本格式)\n",
    "    return ' '.join(words)\n",
    "\n",
    "df2['clean_text'] = df2['经营讨论与分析内容'].apply(transform)\n",
    "df2.head()"
   ]
  },
  {
   "cell_type": "markdown",
   "id": "392c4b04",
   "metadata": {},
   "source": [
    "![](img/df3.png)"
   ]
  },
  {
   "cell_type": "code",
   "execution_count": null,
   "id": "2dcef725",
   "metadata": {},
   "outputs": [],
   "source": [
    "from sklearn.feature_extraction.text import TfidfVectorizer\n",
    "\n",
    "cv = TfidfVectorizer(min_df=0.05, max_df=0.5) \n",
    "# 生成稀疏bow矩阵\n",
    "#dtm 文档-词频-矩阵\n",
    "dtm2020 = cv.fit_transform(df2['clean_text']) \n",
    "dtm2020 = pd.DataFrame(dtm2020.toarray())\n",
    "dtm2020.head()"
   ]
  },
  {
   "cell_type": "markdown",
   "id": "9dd3aa76",
   "metadata": {},
   "source": [
    "![](img/df4.png)"
   ]
  },
  {
   "cell_type": "code",
   "execution_count": null,
   "id": "93107e22",
   "metadata": {},
   "outputs": [],
   "source": [
    "#合并多个字段为新的df\n",
    "dtm2020_ = pd.concat([df2[['股票代码', '会计年度', '行业代码']], dtm2020], axis=1)\n",
    "dtm2020_.head()"
   ]
  },
  {
   "cell_type": "markdown",
   "id": "2d35fe60",
   "metadata": {},
   "source": [
    "![](img/df5.png)"
   ]
  },
  {
   "cell_type": "markdown",
   "id": "9399f7ff",
   "metadata": {},
   "source": [
    "<br>\n",
    "\n",
    "### 2.4 计算2020年信息含量\n",
    "\n",
    "1. 使用sklearn，将该企业文本(审计报告文本)转为TF-IDF的**企业向量**。\n",
    "2. 当年同行业所有企业(排除该公司)向量求均值，得到**行业向量**。\n",
    "3. 计算企业向量与行业向量余弦值，乘以(-1)，得到该企业的特质性的**信息含量**"
   ]
  },
  {
   "cell_type": "code",
   "execution_count": 69,
   "id": "0e30f355",
   "metadata": {},
   "outputs": [],
   "source": [
    "import os\n",
    "import pandas as pd\n",
    "from sklearn.metrics.pairwise import cosine_similarity\n",
    "import numpy as np\n",
    "import csv\n",
    "\n",
    "with open('信息含量2020.csv', 'a+', newline='', encoding='utf-8') as csvf:\n",
    "    fieldnames = ['股票代码', '会计年度', '行业代码', '信息含量']\n",
    "    writer = csv.DictWriter(csvf, fieldnames=fieldnames)\n",
    "    writer.writeheader()\n",
    "    \n",
    "    for idx in range(len(dtm2020_)):\n",
    "        try:\n",
    "            code = dtm2020_.loc[idx, '股票代码']\n",
    "            ind = dtm2020_.loc[idx, '行业代码']\n",
    "            year = dtm2020_.loc[idx, '会计年度']\n",
    "            #企业向量\n",
    "            corp_vec = [dtm2020_.iloc[idx, 3:].values]\n",
    "            corp_arr = np.array(corp_vec)\n",
    "            #行业向量\n",
    "            ind_vec = [dtm2020_[dtm2020_['行业代码']==ind][dtm2020_['股票代码']!=code].iloc[:, 3:].mean(axis=0).values]\n",
    "            ind_arr = np.array(ind_vec)\n",
    "            #信息含量\n",
    "            special_info = -1 * cosine_similarity(corp_arr, ind_arr)[0][0]\n",
    "\n",
    "            data = dict()\n",
    "            data['股票代码'] = code\n",
    "            data['行业代码'] = ind\n",
    "            data['会计年度'] = year\n",
    "            data['信息含量'] = special_info\n",
    "\n",
    "            writer.writerow(data)\n",
    "        except:\n",
    "            pass"
   ]
  },
  {
   "cell_type": "markdown",
   "id": "a0b3d3ec",
   "metadata": {},
   "source": [
    "欣赏一下结果"
   ]
  },
  {
   "cell_type": "code",
   "execution_count": null,
   "id": "311139a5",
   "metadata": {},
   "outputs": [],
   "source": [
    "import pandas as pd\n",
    "\n",
    "idf = pd.read_csv('信息含量2020.csv')\n",
    "print(len(idf))\n",
    "idf.head()"
   ]
  },
  {
   "cell_type": "markdown",
   "id": "c91b0534",
   "metadata": {},
   "source": [
    "![](img/df6.png)\n",
    "\n",
    "<br><br>\n",
    "\n",
    "## 三、讨论\n",
    "最近陆续分享了几篇**文本相似度**、**信息含量**的论文\n",
    "\n",
    "- [1]姜富伟,胡逸驰,黄楠.央行货币政策报告文本信息、宏观经济与股票市场[J].金融研究,2021,(06):95-113.\n",
    "- [2]宋建波,冯晓晴.关键审计事项信息含量与公司债券发行定价——基于文本相似度视角[J].会计研究,2022,(03):174-191.\n",
    "- [3]孟庆斌,杨俊华,鲁冰.管理层讨论与分析披露的信息含量与股价崩盘风险——基于文本向量化方法的研究[J].中国工业经济,2017,(12):132-150. \n",
    "\n",
    "\n",
    "比较一下,三者均先使用了文本向量化，将本文数据转为向量。每篇论文的算法\n",
    "\n",
    "<br>\n",
    "\n",
    "|论文|指标|算法|\n",
    "|---|---|---|\n",
    "|[1]|文本相似度|将央行货币政策报告向量化， 临近的两个报告文本向量计算相似度，相似度越高，金融市场波动性越小。|\n",
    "|[2]|信息含量|将同行业内所有企业向量Corp求均值得到行业向量Ind，求Corp与Ind的余弦相似度，并将结果乘以(-1),所得结果定义为信息向量。|\n",
    "|[3]|信息含量|文本向量化+计量建模，认为md&a中的信息向量Norm可以由市场Norm_Market、行业Norm_Industry、企业异质性μ三种信息向量组成，通过计算 <br>``Norm = a0 + a1*Norm_Industry +  a2*Norm_Market + μ`` <br>，将μ 向量的绝对值和作为信息含量，而a1+a2看标准信息。\n",
    "\n",
    "<br>\n",
    "\n",
    "从中可以看到两个向量的余弦相似度，在不同场景，解读含义是不同的，亦正亦邪。在货币政策中，相似度越高，表示越政策稳定，金融市场波动星越小。而在关键审计场景中，特质性信息是缓解公司与投资者信息不对称的关键，公司向量Corp与行业向量Ind相似度越高，表示公司审计报告文本特质性信息越少。\n",
    "\n",
    "<br><br>\n",
    "\n",
    "[![](img/management_data_mining_with_python_course2.png)](https://textdata.cn/blog/management_python_course/)"
   ]
  }
 ],
 "metadata": {
  "kernelspec": {
   "display_name": "Python 3",
   "language": "python",
   "name": "python3"
  },
  "language_info": {
   "codemirror_mode": {
    "name": "ipython",
    "version": 3
   },
   "file_extension": ".py",
   "mimetype": "text/x-python",
   "name": "python",
   "nbconvert_exporter": "python",
   "pygments_lexer": "ipython3",
   "version": "3.9.7"
  },
  "toc": {
   "base_numbering": 1,
   "nav_menu": {},
   "number_sections": false,
   "sideBar": true,
   "skip_h1_title": false,
   "title_cell": "Table of Contents",
   "title_sidebar": "Contents",
   "toc_cell": false,
   "toc_position": {},
   "toc_section_display": true,
   "toc_window_display": false
  }
 },
 "nbformat": 4,
 "nbformat_minor": 5
}
