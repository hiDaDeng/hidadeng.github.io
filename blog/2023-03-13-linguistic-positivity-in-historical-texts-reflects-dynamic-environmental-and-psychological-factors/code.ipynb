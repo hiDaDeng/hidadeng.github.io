{
 "cells": [
  {
   "cell_type": "markdown",
   "id": "5b4cdd42",
   "metadata": {},
   "source": [
    "## Python词频统计与语言积极倾向研究\n",
    "\n",
    "\n",
    "分享一篇研究语言积极倾向的论文，论文中使用Python工具进行词频统计，大大降低了人工成本，提高了科研效率。\n",
    "\n",
    "改论文发表在PNAS：**Linguistic positivity in historical texts reflects dynamic environmental and psychological factors**\n",
    "\n",
    "\n",
    "<br><br>\n",
    "\n",
    "## 一、研究背景\n",
    "\n",
    "作者指出：当前关于LPB作用机制的驱动因素有普遍的普遍的认知偏差、情感状态、客观环境和社会规范，但是究竟是哪种机制驱动LPB，以及这种影响是否可能是由于这些或其他因素子集之间的相互作用驱动的，尚无研究讨论。造成这种不确定性的一个原因是，以前对 LPB 的调查采用了语言的共时方法，并且无法提供任何洞察力来了解 LPB 在给定语言中是否或在何种程度上具有跨时间和上下文的稳定。在该研究中，作者采用了一种将 LPB 视为动态现象的方法。具体来说，使用两个带时间戳的美国英语语料库，研究 LPB 中的经度变化作为主观、客观和社会因素的函数。这种方法可以研究 LPB 的历时变化，这是一个未探索的影响维度，而且还可以在先前提出的 LPB 解释之间进行裁决。\n",
    "\n",
    "<br><br>\n",
    "\n",
    "## 二、研究过程\n",
    "\n",
    "提出五个假设：\n",
    "\n",
    "1. LPB没有线性趋势\n",
    "\n",
    "2. LPB 随着时间的推移而增加。\n",
    "\n",
    "3. LPB 随着时间的推移而减少。\n",
    "\n",
    "4. LPB 的变化来预测，环境恶化将与LPB的降低相关联。\n",
    "\n",
    "5. LPB的变化将通过集体影响的变化来预测，因此国家层面幸福感的下降将与LPB的下降相关。\n",
    "\n",
    "开展四个研究：\n",
    "\n",
    "1. 线性趋势：\n",
    "\n",
    "2. 战争伤亡人数\n",
    "\n",
    "3. 经济苦难：\n",
    "\n",
    "4. 主观幸福\n",
    "\n",
    "<br><br>\n",
    "\n",
    "## 三、数据来源\n",
    "\n",
    "1. 情感词典：使用了语言查询和字数统计 (LIWC) 词典 (56) 中的正面和负面情绪词类别，其中包含 907 个词和词干。正面类别有 408 个条目，负面类别有 499 个条目。\n",
    "2. 战争伤亡人数：使用了来自美国退伍军人事务部 (57) 的情况说明书中的数据，并计算了过去两个世纪美国参与的战争中美国军人的平均伤亡人数。\n",
    "3. 痛苦指数：使用了来自 www.miseryindex.us 的数据，其中包含 1948 年至 2015 年期间美国的苦难指数指标。\n",
    "4. 幸福指数：使用了世界幸福数据库中有关美国幸福感的调查数据。\n",
    "\n",
    "<br><br>\n",
    "\n",
    "## 四、研究发现：\n",
    "\n",
    "1. 美式英语中情感词的使用随着时间的推移而减少。\n",
    "2. 发现了 LPB 纵向下降趋势的令人信服的证据。这种趋势在谷歌 Ngrams 语料库中非常强烈，在纽约时报语料库中略显重要。\n",
    "3. 发现 LPB 也随着战争的伤亡人数而减少。\n",
    "4. LPB 可以通过客观环境的不太极端的测量来预测。在控制时间后，我们发现痛苦指数较高的年份在两个语料库中的 LPB 水平往往较低。\n",
    "5. 发现 LPB 的短期波动随全国幸福指数的变化而变化。\n",
    "6. 这些结果进一步证实了LPB 不能简单地解释为普遍认知机制的功能。\n",
    "\n",
    "\n",
    "<br><br>\n",
    "\n",
    "## 五、代码\n",
    "为简化学习难度，论文细节部分不展开。本文主要给大家展示用Python做情感词频统计、词频历时折线图这两部分内容。先安装需要的包\n",
    "\n",
    "```\n",
    "\n",
    "!pip3 install pyecharts==1.6.2\n",
    "!pip3 install pyecharts-javascripthon==0.0.6              \n",
    "!pip3 install pyecharts-jupyter-installer==0.0.3              \n",
    "!pip3 install pyecharts-snapshot==0.2.0 \n",
    "```\n",
    "\n",
    "<br>\n",
    "\n",
    "### 5.1 实验数据集\n",
    "\n",
    "\n",
    "美国政治在其年轻的生命周期中经历了许多意识形态的动荡。这些动荡被称为政治时代。“政治时代是指在历史和政治科学中使用的一种美国政治模式，用于分类存在于美国的政党制度。” 数据集作者创建这个数据集的原因是为了正确讨论过去的政治事件，了解各个时期的政治平台和氛围是很重要的。例如，民主党和共和党的政治理念在不同的时期发生了巨大的变化，党派之间的理念也在不断转变、涌现和消失。截至目前为止，美国政治中已经公认了6个政治时代，分别是：\n",
    "\n",
    "1. 第一党派制度（1792年至1824年）\n",
    "2. 第二党派制度（1828年至1854年）\n",
    "3. 第三党派制度（1854年至1895年）\n",
    "4. 第四党派制度（1896年至1932年）\n",
    "5. 第五党派制度（1932年至1964年）\n",
    "6. 第六党派制度（1964年至今）\n",
    "\n",
    "\n",
    "我将总统同一个年度的演讲汇总到一起，最终得到 yearly_american_speech_dataset.csv 。\n",
    "<br>\n"
   ]
  },
  {
   "cell_type": "code",
   "execution_count": null,
   "id": "86816ef0",
   "metadata": {},
   "outputs": [],
   "source": [
    "import pandas as pd\n",
    "\n",
    "df = pd.read_csv('yearly_american_speech_dataset.csv')\n",
    "df['Date'] = df['Date'].apply(str)\n",
    "df"
   ]
  },
  {
   "cell_type": "markdown",
   "id": "82b74090",
   "metadata": {},
   "source": [
    "![](img/df1.png)"
   ]
  },
  {
   "cell_type": "markdown",
   "id": "04c1bfcc",
   "metadata": {},
   "source": [
    "<br>\n",
    "\n",
    "### 5.2 小实验\n",
    "写代码讲究先把任务抽象化， 将大问题拆解成可组装的小问题。即先小后大，先局部后整体。这里推荐用Python中的cntext库，该库文档清晰，代码简洁。先安装\n",
    "\n",
    "```\n",
    "!pip3 install scikit-learn==1.0\n",
    "!pip3 install cntext==1.8.4\n",
    "```\n",
    "\n",
    "最简单的情感分析，即分析一句话 text 的正负面情感词出现的词频。"
   ]
  },
  {
   "cell_type": "code",
   "execution_count": 58,
   "id": "b7bd85b1",
   "metadata": {},
   "outputs": [
    {
     "data": {
      "text/plain": [
       "{'pos_num': 1,\n",
       " 'neg_num': 0,\n",
       " 'stopword_num': 1,\n",
       " 'word_num': 5,\n",
       " 'sentence_num': 1}"
      ]
     },
     "execution_count": 58,
     "metadata": {},
     "output_type": "execute_result"
    }
   ],
   "source": [
    "import cntext as ct\n",
    "\n",
    "text = 'What a sunny day!'\n",
    "\n",
    "\n",
    "diction = {'pos': ['sunny', 'good'],\n",
    "           'neg': ['bad', 'terrible']}\n",
    "\n",
    "ct.sentiment(text=text,\n",
    "             diction=diction,\n",
    "             lang='english')"
   ]
  },
  {
   "cell_type": "markdown",
   "id": "5fcca0d7",
   "metadata": {},
   "source": [
    "根据自定义的词典diciton， 可以看出 **What a sunny day!** 中有1个pos类词，0个neg类词。\n",
    "\n",
    "<br>\n",
    "\n",
    "### 5.3 找个公开的情感词典\n",
    "计算文本中正负面情感词出现次数， 需要有情感词词表。"
   ]
  },
  {
   "cell_type": "code",
   "execution_count": 35,
   "id": "8b06c9ca",
   "metadata": {},
   "outputs": [
    {
     "data": {
      "text/plain": [
       "['DUTIR.pkl',\n",
       " 'HOWNET.pkl',\n",
       " 'Chinese_Loughran_McDonald_Financial_Sentiment.pkl',\n",
       " 'sentiws.pkl',\n",
       " 'ChineseFinancialFormalUnformalSentiment.pkl',\n",
       " 'Chinese_Digitalization.pkl',\n",
       " 'ANEW.pkl',\n",
       " 'LSD2015.pkl',\n",
       " 'NRC.pkl',\n",
       " 'geninqposneg.pkl',\n",
       " 'HuLiu.pkl',\n",
       " 'Loughran_McDonald_Financial_Sentiment.pkl',\n",
       " 'AFINN.pkl',\n",
       " 'ADV_CONJ.pkl',\n",
       " 'STOPWORDS.pkl',\n",
       " 'Concreteness.pkl',\n",
       " 'ChineseEmoBank.pkl']"
      ]
     },
     "execution_count": 35,
     "metadata": {},
     "output_type": "execute_result"
    }
   ],
   "source": [
    "#查看cntext内置的词典\n",
    "import cntext as ct\n",
    "\n",
    "ct.dict_pkl_list()"
   ]
  },
  {
   "cell_type": "markdown",
   "id": "d9c7f3ba",
   "metadata": {},
   "source": [
    "查看NRC词典的信息"
   ]
  },
  {
   "cell_type": "code",
   "execution_count": 177,
   "id": "0398ed95",
   "metadata": {},
   "outputs": [
    {
     "name": "stdout",
     "output_type": "stream",
     "text": [
      "NRC词典描述:  The NRC Emotion Lexicon is a list of English words and their associations with eight basic emotions (anger, fear, anticipation, trust, surprise, sadness, joy, and disgust) and two sentiments (negative and positive). The annotations were manually done by crowdsourcing.\n",
      "\n",
      "NRC参考文献:  Crowdsourcing a Word-Emotion Association Lexicon, Saif Mohammad and Peter Turney, Computational Intelligence, 29 (3), 436-465, 2013.\n",
      "\n",
      "NRC词典内词表有:  dict_keys(['anger', 'anticipation', 'disgust', 'fear', 'joy', 'negative', 'positive', 'sadness', 'surprise', 'trust'])\n",
      "\n",
      "Pos词表前10个词:  ['abba', 'ability', 'abovementioned', 'absolute', 'absolution', 'absorbed', 'abundance', 'abundant', 'academic', 'academy']\n",
      "\n",
      "Neg词表前10个词:  ['abandon', 'abandoned', 'abandonment', 'abduction', 'aberrant', 'aberration', 'abhor', 'abhorrent', 'abject', 'abnormal']\n",
      "\n"
     ]
    }
   ],
   "source": [
    "#NRC词典\n",
    "print('NRC词典描述: ', ct.load_pkl_dict('NRC.pkl')['Desc'], end='\\n\\n')\n",
    "print('NRC参考文献: ', ct.load_pkl_dict('NRC.pkl')['Refer'], end='\\n\\n')\n",
    "\n",
    "print('NRC词典内词表有: ', ct.load_pkl_dict('NRC.pkl')['NRC'].keys(), end='\\n\\n')\n",
    "\n",
    "print('Pos词表前10个词: ', ct.load_pkl_dict('NRC.pkl')['NRC']['positive'][:10], end='\\n\\n')\n",
    "print('Neg词表前10个词: ', ct.load_pkl_dict('NRC.pkl')['NRC']['negative'][:10], end='\\n\\n')"
   ]
  },
  {
   "cell_type": "markdown",
   "id": "e39b5360",
   "metadata": {},
   "source": [
    "<br>\n",
    "\n",
    "### 5.4 情感词频统计\n",
    "使用cntext设计一个函数，将计算得到的文本词数/正(负)面词出现次数, 得到情感词在文中的占比，方便后续的可视化绘图。"
   ]
  },
  {
   "cell_type": "code",
   "execution_count": 99,
   "id": "e81b19aa",
   "metadata": {
    "scrolled": true
   },
   "outputs": [
    {
     "data": {
      "text/plain": [
       "pos_num             1\n",
       "neg_num             0\n",
       "anger_num           0\n",
       "anticipation_num    1\n",
       "disgust_num         0\n",
       "fear_num            0\n",
       "joy_num             1\n",
       "sadness_num         0\n",
       "surprise_num        1\n",
       "trust_num           0\n",
       "stopword_num        1\n",
       "word_num            5\n",
       "sentence_num        1\n",
       "dtype: int64"
      ]
     },
     "execution_count": 99,
     "metadata": {},
     "output_type": "execute_result"
    }
   ],
   "source": [
    "def emotion_analysis(text):\n",
    "    diction = {'pos': ct.load_pkl_dict('NRC.pkl')['NRC']['positive'],\n",
    "               'neg': ct.load_pkl_dict('NRC.pkl')['NRC']['negative'],\n",
    "               'anger': ct.load_pkl_dict('NRC.pkl')['NRC']['anger'],\n",
    "               'anticipation': ct.load_pkl_dict('NRC.pkl')['NRC']['anticipation'],\n",
    "               'disgust': ct.load_pkl_dict('NRC.pkl')['NRC']['disgust'],\n",
    "               'fear': ct.load_pkl_dict('NRC.pkl')['NRC']['fear'],\n",
    "               'joy': ct.load_pkl_dict('NRC.pkl')['NRC']['joy'],\n",
    "               'sadness': ct.load_pkl_dict('NRC.pkl')['NRC']['sadness'],\n",
    "               'surprise': ct.load_pkl_dict('NRC.pkl')['NRC']['surprise'],\n",
    "               'trust': ct.load_pkl_dict('NRC.pkl')['NRC']['trust']}\n",
    "    \n",
    "    res = ct.sentiment(text=text,\n",
    "                       diction=diction,\n",
    "                       lang='english')\n",
    "    return pd.Series(res)\n",
    "\n",
    "\n",
    "#实验ok\n",
    "text = 'What a sunny day!'\n",
    "emotion_analysis(text=text)"
   ]
  },
  {
   "cell_type": "code",
   "execution_count": null,
   "id": "90aa2efa",
   "metadata": {},
   "outputs": [],
   "source": [
    "df2 = df['Transcript'].apply(emotion_analysis)\n",
    "df2.head()"
   ]
  },
  {
   "cell_type": "markdown",
   "id": "ab3cc0cb",
   "metadata": {},
   "source": [
    "![](img/df2.png)"
   ]
  },
  {
   "cell_type": "code",
   "execution_count": 101,
   "id": "bd875326",
   "metadata": {},
   "outputs": [
    {
     "data": {
      "text/plain": [
       "Index(['pos_num', 'neg_num', 'anger_num', 'anticipation_num', 'disgust_num',\n",
       "       'fear_num', 'joy_num', 'sadness_num', 'surprise_num', 'trust_num',\n",
       "       'stopword_num', 'word_num', 'sentence_num'],\n",
       "      dtype='object')"
      ]
     },
     "execution_count": 101,
     "metadata": {},
     "output_type": "execute_result"
    }
   ],
   "source": [
    "df2.columns"
   ]
  },
  {
   "cell_type": "markdown",
   "id": "e492e6f8",
   "metadata": {},
   "source": [
    "<br>\n",
    "\n",
    "计算情感、情绪的词频(占比)"
   ]
  },
  {
   "cell_type": "code",
   "execution_count": 147,
   "id": "94b9a2a2",
   "metadata": {},
   "outputs": [],
   "source": [
    "df2['pos'] = df2['pos_num']/grouped_df2['word_num']\n",
    "df2['neg'] = df2['neg_num']/df2['word_num']\n",
    "df2['anger'] = df2['anger_num']/df2['word_num']\n",
    "df2['anticipation'] = df2['anticipation_num']/df2['word_num']\n",
    "df2['disgust'] = df2['disgust_num']/df2['word_num']\n",
    "df2['fear'] = df2['fear_num']/df2['word_num']\n",
    "df2['joy'] = df2['joy_num']/df2['word_num']\n",
    "df2['sadness'] = df2['sadness_num']/df2['word_num']\n",
    "df2['surprise'] = df2['surprise_num']/df2['word_num']\n",
    "df2['trust'] = df2['trust_num']/df2['word_num']\n",
    "df2['SentiScore'] = (df2['pos_num']-df2['neg_num'])/(df2['pos_num']+df2['neg_num'])"
   ]
  },
  {
   "cell_type": "markdown",
   "id": "39e7c09b",
   "metadata": {},
   "source": [
    "<br> 合并数据数据"
   ]
  },
  {
   "cell_type": "code",
   "execution_count": null,
   "id": "6f8d59df",
   "metadata": {},
   "outputs": [],
   "source": [
    "res_df = pd.concat([df, df2], axis=1)\n",
    "res_df.head()"
   ]
  },
  {
   "cell_type": "markdown",
   "id": "ef4b05a3",
   "metadata": {},
   "source": [
    "![](img/df3.png)"
   ]
  },
  {
   "cell_type": "markdown",
   "id": "4c2d6a6e",
   "metadata": {},
   "source": [
    "<br><br>\n",
    "\n",
    "## 六、可视化"
   ]
  },
  {
   "cell_type": "code",
   "execution_count": 104,
   "id": "f7f08b91",
   "metadata": {},
   "outputs": [
    {
     "data": {
      "text/plain": [
       "Index(['pos_num', 'neg_num', 'anger_num', 'anticipation_num', 'disgust_num',\n",
       "       'fear_num', 'joy_num', 'sadness_num', 'surprise_num', 'trust_num',\n",
       "       'stopword_num', 'word_num', 'sentence_num', 'pos', 'neg', 'anger',\n",
       "       'anticipation', 'disgust', 'fear', 'joy', 'sadness', 'surprise',\n",
       "       'trust'],\n",
       "      dtype='object')"
      ]
     },
     "execution_count": 104,
     "metadata": {},
     "output_type": "execute_result"
    }
   ],
   "source": [
    "res_df.columns"
   ]
  },
  {
   "cell_type": "code",
   "execution_count": null,
   "id": "5596d435",
   "metadata": {},
   "outputs": [],
   "source": [
    "import pandas as pd\n",
    "from pyecharts import options as opts\n",
    "from pyecharts.charts import Line\n",
    "from pyecharts.globals import CurrentConfig, NotebookType\n",
    "CurrentConfig.NOTEBOOK_TYPE = NotebookType.JUPYTER_NOTEBOOK\n",
    "\n",
    "\n",
    "# 创建折线图对象\n",
    "line_chart1 = Line()\n",
    "\n",
    "\n",
    "# 添加 x 轴和 y 轴数据\n",
    "line_chart1.add_xaxis(res_df['Date'].tolist())\n",
    "line_chart1.add_yaxis('Sentiment Score', \n",
    "                      res_df['SentiScore'].tolist(),\n",
    "                     itemstyle_opts=opts.ItemStyleOpts(opacity=0))\n",
    "\n",
    "\n",
    "# 配置图表选项\n",
    "line_chart1.set_global_opts(\n",
    "    title_opts=opts.TitleOpts(title=\"美国总统演讲情感得分年度历时可视化\"),\n",
    "    tooltip_opts=opts.TooltipOpts(trigger=\"axis\", axis_pointer_type=\"cross\"),\n",
    "    legend_opts=opts.LegendOpts(pos_right=\"right\",\n",
    "                                orient=\"vertical\",\n",
    "                                pos_top=\"center\")\n",
    ")\n",
    "\n",
    "# 显示图表\n",
    "line_chart1.render_notebook()"
   ]
  },
  {
   "cell_type": "markdown",
   "id": "cd00e094",
   "metadata": {},
   "source": [
    "![](img/图1.png)"
   ]
  },
  {
   "cell_type": "code",
   "execution_count": null,
   "id": "c99c2e22",
   "metadata": {},
   "outputs": [],
   "source": [
    "import pandas as pd\n",
    "from pyecharts import options as opts\n",
    "from pyecharts.charts import Line\n",
    "from pyecharts.globals import CurrentConfig, NotebookType\n",
    "CurrentConfig.NOTEBOOK_TYPE = NotebookType.JUPYTER_NOTEBOOK\n",
    "\n",
    "\n",
    "# 创建折线图对象\n",
    "line_chart2 = Line()\n",
    "\n",
    "\n",
    "# 添加 x 轴和 y 轴数据\n",
    "line_chart2.add_xaxis(res_df['Date'].tolist())\n",
    "\n",
    "line_chart2.add_yaxis('Positive', \n",
    "                      res_df['pos'].tolist(),\n",
    "                      itemstyle_opts=opts.ItemStyleOpts(opacity=0))\n",
    "\n",
    "line_chart2.add_yaxis('Negative', \n",
    "                      res_df['neg'].tolist(),\n",
    "                      itemstyle_opts=opts.ItemStyleOpts(opacity=0))\n",
    "\n",
    "# 配置图表选项\n",
    "line_chart2.set_global_opts(\n",
    "    title_opts=opts.TitleOpts(title=\"美国总统演讲正、负面情感年度历时可视化\"),\n",
    "    tooltip_opts=opts.TooltipOpts(trigger=\"axis\", axis_pointer_type=\"cross\"),\n",
    "    legend_opts=opts.LegendOpts(pos_right=\"right\",\n",
    "                                orient=\"vertical\",\n",
    "                                pos_top=\"center\")\n",
    ")\n",
    "\n",
    "# 显示图表\n",
    "line_chart2.render_notebook()"
   ]
  },
  {
   "cell_type": "markdown",
   "id": "57e98057",
   "metadata": {},
   "source": [
    "![](img/图2.png)"
   ]
  },
  {
   "cell_type": "code",
   "execution_count": null,
   "id": "e2907988",
   "metadata": {},
   "outputs": [],
   "source": [
    "import pandas as pd\n",
    "from pyecharts import options as opts\n",
    "from pyecharts.charts import Line\n",
    "from pyecharts.globals import CurrentConfig, NotebookType\n",
    "CurrentConfig.NOTEBOOK_TYPE = NotebookType.JUPYTER_NOTEBOOK\n",
    "\n",
    "\n",
    "# 创建折线图对象\n",
    "line_chart3 = Line()\n",
    "\n",
    "# 添加 x 轴和 y 轴数据\n",
    "line_chart3.add_xaxis(res_df['Date'].tolist())\n",
    "\n",
    "line_chart3.add_yaxis('anger', \n",
    "                      res_df['anger'].tolist(),\n",
    "                      itemstyle_opts=opts.ItemStyleOpts(opacity=0))\n",
    "\n",
    "line_chart3.add_yaxis('anticipation', \n",
    "                      res_df['anticipation'].tolist(),\n",
    "                      itemstyle_opts=opts.ItemStyleOpts(opacity=0))\n",
    "\n",
    "line_chart3.add_yaxis('disgust', \n",
    "                      res_df['disgust'].tolist(),\n",
    "                      itemstyle_opts=opts.ItemStyleOpts(opacity=0))\n",
    "\n",
    "line_chart3.add_yaxis('fear', \n",
    "                      res_df['fear'].tolist(),\n",
    "                      itemstyle_opts=opts.ItemStyleOpts(opacity=0))\n",
    "\n",
    "line_chart3.add_yaxis('joy', \n",
    "                      res_df['joy'].tolist(),\n",
    "                      itemstyle_opts=opts.ItemStyleOpts(opacity=0))\n",
    "\n",
    "line_chart3.add_yaxis('sadness', \n",
    "                      res_df['sadness'].tolist(),\n",
    "                      itemstyle_opts=opts.ItemStyleOpts(opacity=0))\n",
    "\n",
    "line_chart3.add_yaxis('surprise', \n",
    "                      res_df['surprise'].tolist(),\n",
    "                      itemstyle_opts=opts.ItemStyleOpts(opacity=0))\n",
    "\n",
    "line_chart3.add_yaxis('trust', \n",
    "                      res_df['trust'].tolist(),\n",
    "                      itemstyle_opts=opts.ItemStyleOpts(opacity=0))\n",
    "\n",
    "\n",
    "# 配置图表选项\n",
    "line_chart3.set_global_opts(\n",
    "    title_opts=opts.TitleOpts(title=\"美国总统8类情绪词用量年度历时可视化\"),\n",
    "    tooltip_opts=opts.TooltipOpts(trigger=\"axis\", axis_pointer_type=\"cross\"),\n",
    "    legend_opts=opts.LegendOpts(pos_right=\"right\",\n",
    "                                orient=\"vertical\",\n",
    "                                pos_top=\"center\")\n",
    ")\n",
    "\n",
    "# 显示图表\n",
    "line_chart3.render_notebook()"
   ]
  },
  {
   "cell_type": "markdown",
   "id": "1685eac6",
   "metadata": {},
   "source": [
    "![](img/图3.png)\n",
    "![](img/图4.png)\n",
    "\n",
    "\n",
    "最后一张图中trust指标在08年前后几年是下降趋势，可能的原因是， 那个阶段正是08年金融危机，美国政府为了救华尔街， 用公民腰包里的钱补贴华尔街金融巨鳄。信任下降。"
   ]
  },
  {
   "cell_type": "markdown",
   "id": "f1abdd7f",
   "metadata": {},
   "source": [
    "<br><br>\n",
    "\n",
    "## 七、保存\n",
    "情感计算过程得到的res_df和 可视化结果line_chart 建议都保存起来， 方便下次可以快速进入可视化阶段。"
   ]
  },
  {
   "cell_type": "code",
   "execution_count": 176,
   "id": "d4dffc35",
   "metadata": {},
   "outputs": [
    {
     "data": {
      "text/plain": [
       "'/Users/deng/Desktop/linguistic-positivity-in-historical-texts-reflects-dynamic-environmental-and-psychological-factors/line_chart3.html'"
      ]
     },
     "execution_count": 176,
     "metadata": {},
     "output_type": "execute_result"
    }
   ],
   "source": [
    "res_df.to_csv('sentiment_anlysis_result.csv', index=False)\n",
    "line_chart1.render('line_chart1.html')\n",
    "line_chart2.render('line_chart2.html')\n",
    "line_chart3.render('line_chart3.html')"
   ]
  }
 ],
 "metadata": {
  "kernelspec": {
   "display_name": "Python 3 (ipykernel)",
   "language": "python",
   "name": "python3"
  },
  "language_info": {
   "codemirror_mode": {
    "name": "ipython",
    "version": 3
   },
   "file_extension": ".py",
   "mimetype": "text/x-python",
   "name": "python",
   "nbconvert_exporter": "python",
   "pygments_lexer": "ipython3",
   "version": "3.9.13"
  }
 },
 "nbformat": 4,
 "nbformat_minor": 5
}
